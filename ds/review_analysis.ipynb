{
 "cells": [
  {
   "cell_type": "code",
   "execution_count": 1,
   "metadata": {},
   "outputs": [],
   "source": [
    "import requests\n",
    "import json\n",
    "import pandas as pd\n",
    "\n",
    "data_json = pd.read_json(\"result_all.json\")"
   ]
  },
  {
   "cell_type": "code",
   "execution_count": 2,
   "metadata": {},
   "outputs": [
    {
     "data": {
      "text/html": [
       "<div>\n",
       "<style scoped>\n",
       "    .dataframe tbody tr th:only-of-type {\n",
       "        vertical-align: middle;\n",
       "    }\n",
       "\n",
       "    .dataframe tbody tr th {\n",
       "        vertical-align: top;\n",
       "    }\n",
       "\n",
       "    .dataframe thead th {\n",
       "        text-align: right;\n",
       "    }\n",
       "</style>\n",
       "<table border=\"1\" class=\"dataframe\">\n",
       "  <thead>\n",
       "    <tr style=\"text-align: right;\">\n",
       "      <th></th>\n",
       "      <th>company_reviews</th>\n",
       "    </tr>\n",
       "  </thead>\n",
       "  <tbody>\n",
       "    <tr>\n",
       "      <th>0</th>\n",
       "      <td>{'name': 'Галина Борисова', 'icon_href': None,...</td>\n",
       "    </tr>\n",
       "    <tr>\n",
       "      <th>1</th>\n",
       "      <td>{'name': 'Алексей Р.', 'icon_href': None, 'dat...</td>\n",
       "    </tr>\n",
       "    <tr>\n",
       "      <th>2</th>\n",
       "      <td>{'name': 'Любовь Кондрашова', 'icon_href': Non...</td>\n",
       "    </tr>\n",
       "    <tr>\n",
       "      <th>3</th>\n",
       "      <td>{'name': 'Марина Балынина', 'icon_href': 'http...</td>\n",
       "    </tr>\n",
       "    <tr>\n",
       "      <th>4</th>\n",
       "      <td>{'name': 'Галина Головинская', 'icon_href': 'h...</td>\n",
       "    </tr>\n",
       "    <tr>\n",
       "      <th>...</th>\n",
       "      <td>...</td>\n",
       "    </tr>\n",
       "    <tr>\n",
       "      <th>171</th>\n",
       "      <td>{'name': 'Александр Панов', 'icon_href': None,...</td>\n",
       "    </tr>\n",
       "    <tr>\n",
       "      <th>172</th>\n",
       "      <td>{'name': 'Наталья Н.', 'icon_href': 'https://a...</td>\n",
       "    </tr>\n",
       "    <tr>\n",
       "      <th>173</th>\n",
       "      <td>{'name': 'Михаил', 'icon_href': 'https://avata...</td>\n",
       "    </tr>\n",
       "    <tr>\n",
       "      <th>174</th>\n",
       "      <td>{'name': 'Igoryan Psyhdotla', 'icon_href': 'ht...</td>\n",
       "    </tr>\n",
       "    <tr>\n",
       "      <th>175</th>\n",
       "      <td>{'name': 'Oleg K.', 'icon_href': 'https://avat...</td>\n",
       "    </tr>\n",
       "  </tbody>\n",
       "</table>\n",
       "<p>176 rows × 1 columns</p>\n",
       "</div>"
      ],
      "text/plain": [
       "                                       company_reviews\n",
       "0    {'name': 'Галина Борисова', 'icon_href': None,...\n",
       "1    {'name': 'Алексей Р.', 'icon_href': None, 'dat...\n",
       "2    {'name': 'Любовь Кондрашова', 'icon_href': Non...\n",
       "3    {'name': 'Марина Балынина', 'icon_href': 'http...\n",
       "4    {'name': 'Галина Головинская', 'icon_href': 'h...\n",
       "..                                                 ...\n",
       "171  {'name': 'Александр Панов', 'icon_href': None,...\n",
       "172  {'name': 'Наталья Н.', 'icon_href': 'https://a...\n",
       "173  {'name': 'Михаил', 'icon_href': 'https://avata...\n",
       "174  {'name': 'Igoryan Psyhdotla', 'icon_href': 'ht...\n",
       "175  {'name': 'Oleg K.', 'icon_href': 'https://avat...\n",
       "\n",
       "[176 rows x 1 columns]"
      ]
     },
     "execution_count": 2,
     "metadata": {},
     "output_type": "execute_result"
    }
   ],
   "source": [
    "data_json"
   ]
  },
  {
   "cell_type": "code",
   "execution_count": 3,
   "metadata": {},
   "outputs": [],
   "source": [
    "data = json.load(open('result_all.json'))\n",
    "\n",
    "data = pd.DataFrame(data[\"company_reviews\"])"
   ]
  },
  {
   "cell_type": "code",
   "execution_count": 4,
   "metadata": {},
   "outputs": [
    {
     "data": {
      "text/plain": [
       "0      Услугами банка пользуюсь несколько лет,без нар...\n",
       "1      Очень хороший банк, сотрудники быстро обслужив...\n",
       "2      Удобно расположенное отделение. Посещала неско...\n",
       "3      Консультантов в зале я вообще не увидела, опер...\n",
       "4      Удобное расположение этого офиса, наличие банк...\n",
       "                             ...                        \n",
       "171                                 хорошее обслуживание\n",
       "172                                      Как и все банки\n",
       "173    ВТБ по уровню клиентского сервиса ужасная орга...\n",
       "174    Ужасное отношение к клиентам,некомпитентность ...\n",
       "175                                       Очередь вечная\n",
       "Name: text, Length: 176, dtype: object"
      ]
     },
     "execution_count": 4,
     "metadata": {},
     "output_type": "execute_result"
    }
   ],
   "source": [
    "data[\"text\"]"
   ]
  },
  {
   "cell_type": "code",
   "execution_count": 5,
   "metadata": {},
   "outputs": [],
   "source": [
    "from gensim.models import KeyedVectors, Word2Vec, Phrases\n",
    "from gensim.models.phrases import Phraser\n",
    "from gensim.utils import simple_preprocess"
   ]
  },
  {
   "cell_type": "code",
   "execution_count": 7,
   "metadata": {},
   "outputs": [],
   "source": [
    "from sklearn.feature_extraction.text import TfidfVectorizer\n",
    "\n",
    "tfidf = TfidfVectorizer()\n",
    "\n",
    "\n",
    "tfidf_matrix = tfidf.fit_transform(data[\"text\"])"
   ]
  },
  {
   "cell_type": "code",
   "execution_count": 9,
   "metadata": {},
   "outputs": [
    {
     "name": "stdout",
     "output_type": "stream",
     "text": [
      "TF-IDF ключевые слова: ['07' '10' '11' ... 'явно' 'якобы' 'яму']\n"
     ]
    }
   ],
   "source": [
    "# Получение списка ключевых слов\n",
    "tfidf_keywords = tfidf.get_feature_names_out()\n",
    "\n",
    "print(\"TF-IDF ключевые слова:\", tfidf_keywords)"
   ]
  },
  {
   "cell_type": "code",
   "execution_count": 14,
   "metadata": {},
   "outputs": [
    {
     "name": "stdout",
     "output_type": "stream",
     "text": [
      "TextRank ключевые слова: и\n",
      "в\n",
      "с\n",
      "к\n",
      "за\n",
      "что\n",
      "особенно приятно\n",
      "далеко не у\n",
      "банка пользуюсь несколько\n"
     ]
    }
   ],
   "source": [
    "from summa import keywords\n",
    "\n",
    "text_rank_keywords = keywords.keywords(data['text'][0])\n",
    "\n",
    "print(\"TextRank ключевые слова:\", text_rank_keywords)"
   ]
  },
  {
   "cell_type": "code",
   "execution_count": 163,
   "metadata": {},
   "outputs": [
    {
     "data": {
      "text/plain": [
       "0      Услугами банка пользуюсь несколько лет,без нар...\n",
       "1      Очень хороший банк, сотрудники быстро обслужив...\n",
       "2      Удобно расположенное отделение. Посещала неско...\n",
       "3      Консультантов в зале я вообще не увидела, опер...\n",
       "4      Удобное расположение этого офиса, наличие банк...\n",
       "                             ...                        \n",
       "171                                 хорошее обслуживание\n",
       "172                                      Как и все банки\n",
       "173    ВТБ по уровню клиентского сервиса ужасная орга...\n",
       "174    Ужасное отношение к клиентам,некомпитентность ...\n",
       "175                                       Очередь вечная\n",
       "Name: text, Length: 176, dtype: object"
      ]
     },
     "execution_count": 163,
     "metadata": {},
     "output_type": "execute_result"
    }
   ],
   "source": [
    "data[\"text\"]"
   ]
  },
  {
   "cell_type": "code",
   "execution_count": 164,
   "metadata": {},
   "outputs": [
    {
     "data": {
      "text/plain": [
       "['удобный_ADJ расположенное_ADJ отделение_NOUN раз_NOUN вежливый_ADJ обслуживание_NOUN вопрос_NOUN моеи_PROPN картои_PROPN внимательный_ADJ сотрудник_NOUN профессионал_NOUN',\n",
       " 'хорошии_ADJ банк_NOUN сотрудник_NOUN благодарность_NOUN ратниковои_PROPN валерия_PROPN викторович_PROPN понятный_ADJ предложение_NOUN продукт_NOUN банк_NOUN отделение_NOUN',\n",
       " 'огромный_ADJ очередь_NOUN талончик_NOUN очередь_NOUN специалист_NOUN проблема_NOUN последнии_NOUN раз_NOUN рука_NOUN причина_NOUN',\n",
       " 'банк_NOUN сотрудник_NOUN больший_ADJ молодец_NOUN обслуживание_NOUN быстрый_ADJ высокий_ADJ уровень_NOUN',\n",
       " 'консультант_NOUN зал_NOUN оператор_NOUN стоикои_NOUN приятный_ADJ девушка_NOUN представитель_NOUN банк_NOUN представление_NOUN услуга_NOUN банк_NOUN вклад_NOUN сеифа_NOUN банк_NOUN вопрос_NOUN понятный_ADJ человек_NOUN информациеи_NOUN уважаемый_ADJ администрация_NOUN сотрудник_NOUN продукция_NOUN банк_NOUN сотрудник_NOUN банк_NOUN клиент_NOUN сотрудник_NOUN лишний_ADJ вопрос_NOUN',\n",
       " 'персонал_NOUN внимательный_ADJ банк_NOUN документ_NOUN документ_NOUN имя_NOUN дама_NOUN быстрый_ADJ',\n",
       " 'удобный_ADJ расположение_NOUN парковка_NOUN место_NOUN работник_NOUN клиент_NOUN подход_NOUN порои_NOUN время_NOUN ожидание_NOUN',\n",
       " 'лишний_ADJ вопрос_NOUN дело_NOUN банкомат_NOUN доступный_ADJ',\n",
       " 'народ_NOUN окно_NOUN талончик_NOUN аппарат_NOUN очередь_NOUN общий_ADJ сотрудник_NOUN виноватый_ADJ вежливый_ADJ очередь_NOUN час_NOUN система_NOUN сбой_NOUN свидание_NOUN',\n",
       " 'персонал_NOUN терминал_NOUN женщина_NOUN окошко_ADJ подоити_NOUN общий_ADJ нормальный_ADJ',\n",
       " 'банк_NOUN терминал_NOUN выдача_NOUN очередной_ADJ талончик_NOUN человек_NOUN очередь_NOUN обслуживание_NOUN краине_NOUN оператор_NOUN которыи_PROPN вопрос_NOUN некомпетентна_PROPN горячий_ADJ линия_NOUN коллега_NOUN информациеи_NOUN итог_NOUN час_NOUN опытный_ADJ оператор_NOUN проблема_NOUN банк_NOUN втб_PROPN мнение_NOUN',\n",
       " 'благодарность_NOUN сотрудник_NOUN банк_NOUN ниталян_PROPN вардуи_PROPN карапетовне_PROPN первыи_NOUN раз_NOUN специалист_NOUN отзывчивыи_NOUN недоверие_NOUN обьяснит_NOUN проблема_NOUN',\n",
       " 'электронный_ADJ очередь_NOUN ресепшен_NOUN женщина_NOUN номерок_NOUN рука_NOUN час_NOUN очередь_NOUN нужный_ADJ фигня_NOUN',\n",
       " 'отличный_ADJ обслуживание_NOUN банк_NOUN сделка_NOUN отдельный_ADJ спасибо_NOUN специалист_NOUN банк_NOUN нана_NOUN человек_NOUN новый_ADJ банковский_ADJ продукт_NOUN офис_NOUN',\n",
       " 'банк_NOUN прекрасныи_NOUN персонал_NOUN обращение_NOUN привелегии_NOUN',\n",
       " 'номер_NOUN телефон_NOUN договор_NOUN раз_NOUN графа_PROPN нормальный_ADJ второи_NOUN ошибка_NOUN цифра_NOUN кредитный_ADJ карта_NOUN',\n",
       " 'психушка_NOUN колесиках_NOUN заявка_NOUN кредитный_ADJ карта_NOUN отделение_NOUN банк_NOUN втб_PROPN адрес_NOUN солнечногорск_PROPN ул_PROPN красный_ADJ время_NOUN сотрудник_NOUN молодои_PROPN человек_NOUN никакои_PROPN заявка_NOUN рука_NOUN кредитный_ADJ карта_NOUN условие_NOUN кредитный_ADJ карта_NOUN банк_NOUN отношение_NOUN клиент_NOUN банк_NOUN банк_NOUN конкурент_NOUN итог_NOUN горячеи_ADJ линия_NOUN втб_PROPN клиент_NOUN смешной_ADJ банк_NOUN',\n",
       " 'хороший_ADJ кухня_NOUN быстрый_ADJ подача_NOUN вежливыи_NOUN персонал_NOUN',\n",
       " 'услуга_NOUN банк_NOUN год_NOUN нарекании_NOUN проблема_NOUN приятный_ADJ отзывчивый_ADJ внимательный_ADJ понимающие_ADJ сотрудник_NOUN день_NOUN оформление_NOUN вклад_NOUN сотрудник_NOUN гриценко_PROPN александр_PROPN молодои_PROPN человек_NOUN вежливый_ADJ общение_NOUN компетентный_ADJ дело_NOUN тактичный_ADJ клиент_NOUN особенность_NOUN вложение_NOUN вклад_NOUN признательный_ADJ благодарный_ADJ сотрудник_NOUN приятный_ADJ александр_PROPN положительный_ADJ человеческий_ADJ качество_NOUN день_NOUN',\n",
       " 'обслуживание_NOUN быстрый_ADJ работник_NOUN приятный_ADJ время_NOUN ожидание_NOUN средний_ADJ банкомат_NOUN единственный_ADJ втб_PROPN оборудование_NOUN прошлый_ADJ век_NOUN сбере_NOUN планшет_NOUN ноутбук_NOUN втб_PROPN фото_NOUN пк_PROPN',\n",
       " 'ужасный_ADJ обслуживание_NOUN работа_NOUN движение_NOUN счёт_NOUN предыдущий_ADJ год_NOUN специалист_NOUN высокии_NOUN седои_PROPN мужчина_NOUN этож_PROPN бумага_NOUN общий_ADJ бумага_NOUN зарплатный_ADJ клиент_NOUN день_NOUN работодатель_NOUN зарплата_NOUN другои_NOUN банк_NOUN новый_ADJ банк_NOUN проблема_NOUN бумагои_NOUN',\n",
       " 'персонал_NOUN облслуживание_NOUN высота_NOUN клиент_NOUN обхадительны_ADJ выгодный_ADJ условие_NOUN условие_NOUN банкомат_NOUN',\n",
       " 'счёт_NOUN карта_NOUN услуга_NOUN неделя_NOUN днеи_NOUN итог_NOUN вид_NOUN виноватый_ADJ час_NOUN причина_NOUN отказ_NOUN',\n",
       " 'вежливыи_NOUN грамотныи_ADJ персонал_NOUN ожидание_NOUN очередь_NOUN минута_NOUN светлыи_PROPN чистыи_PROPN офис_NOUN операционистов_NOUN терминал_NOUN запись_NOUN вхоле_NOUN сотрудник_NOUN банк_NOUN услуга_NOUN комфортеыи_NOUN диван_NOUN ожидание_NOUN очередь_NOUN больший_ADJ парковка_NOUN',\n",
       " 'отзыв_NOUN опаскои_NOUN плохой_ADJ довольный_ADJ обслуживание_NOUN персонал_NOUN свободный_ADJ помещение_NOUN очередь_NOUN никакои_ADJ вопрос_NOUN персонал_NOUN втб_PROPN солнечногорский_ADJ отделение_NOUN',\n",
       " 'приветливыи_NOUN компетентныи_PROPN персонал_NOUN время_NOUN ожидание_NOUN наполненность_NOUN банк_NOUN клиент_NOUN',\n",
       " 'отвратительный_ADJ обслуживание_NOUN хамство_NOUN персонал_NOUN полный_ADJ',\n",
       " 'ужасный_ADJ обслуживание_NOUN клиент_NOUN кассир_NOUN отделение_NOUN сотрудник_NOUN психолог_NOUN чистка_NOUN кадр_NOUN',\n",
       " 'год_NOUN задолженность_NOUN счёт_NOUN банк_NOUN каждыи_ADJ день_NOUN коп_NOUN карточка_NOUN задолженность_NOUN',\n",
       " 'банк_NOUN быстрый_ADJ решение_NOUN вопрос_NOUN обслуживание_NOUN отличный_ADJ персонал_NOUN вежливыи_NOUN время_NOUN ожидание_NOUN короткий_ADJ пенсионер_NOUN инвалид_NOUN платёж_NOUN обслуживание_NOUN',\n",
       " 'удобный_ADJ расположение_NOUN офис_NOUN наличие_NOUN банкомат_NOUN круглосуточный_ADJ доступ_NOUN разный_ADJ вопрос_NOUN получение_NOUN зарплатнои_NOUN карта_NOUN оформление_NOUN кредит_NOUN персонал_NOUN вежливыи_NOUN главный_ADJ грамотныи_NOUN вопрос_NOUN посещение_NOUN',\n",
       " 'банк_NOUN паспортный_ADJ реквизит_NOUN новои_NOUN фамилия_NOUN',\n",
       " 'окно_NOUN',\n",
       " 'банк_NOUN душои_NOUN организация_NOUN карта_NOUN банк_NOUN ногои_NOUN очередь_NOUN час_NOUN каждыи_ADJ раз_NOUN маленький_ADJ ребёнок_NOUN раз_NOUN каждыи_ADJ раз_NOUN минимум_NOUN час_NOUN изнеможение_NOUN карта_NOUN час_NOUN ребёнок_NOUN рука_NOUN кредит_NOUN вклад_NOUN карта_NOUN однои_NOUN очередь_NOUN очередь_NOUN операция_NOUN кредит_NOUN вопрос_NOUN вклад_NOUN дело_NOUN долгий_ADJ карта_NOUN минута_NOUN отделение_NOUN',\n",
       " 'небольшой_ADJ очередь_NOUN',\n",
       " 'хороший_ADJ отделение_NOUN приветливый_ADJ сотрудник_NOUN вопрос_NOUN обращение_NOUN хороший_ADJ клиент_NOUN хороший_ADJ клиент_NOUN рад_ADJ',\n",
       " 'персонал_NOUN вежливыи_NOUN очередь_NOUN',\n",
       " 'хороший_ADJ отделение_NOUN банк_NOUN персонал_NOUN приветливыи_NOUN август_NOUN раз_NOUN очередь_NOUN минута_NOUN вопрос_NOUN',\n",
       " 'обслуживание_NOUN отличный_ADJ девочка_NOUN сильный_ADJ отношение_NOUN клиент_NOUN отзывчивый_ADJ',\n",
       " 'банк_NOUN пособник_NOUN мошенник_NOUN отзыв_NOUN правда_NOUN глаз_NOUN',\n",
       " 'единственный_ADJ отделение_NOUN электронный_ADJ очередь_NOUN',\n",
       " 'хороший_ADJ персонал_NOUN хороший_ADJ атмосфера_NOUN',\n",
       " 'расположен_ADJ банк_NOUN очередеи_NOUN раз_NOUN',\n",
       " 'средний_ADJ обслуживание_NOUN',\n",
       " 'внимательность_NOUN консультация_NOUN оказание_NOUN услуга_NOUN сотрудник_NOUN банк_NOUN ниталян_PROPN фомин_PROPN',\n",
       " 'большой_ADJ спасибо_NOUN сотрудник_NOUN',\n",
       " 'единственныи_PROPN втб_PROPN город_NOUN выходной_NOUN большинство_NOUN людеи_NOUN час_NOUN работа_NOUN банк_NOUN такси_NOUN возрождение_NOUN клиент_NOUN',\n",
       " 'раз_NOUN банк_NOUN вежливыи_NOUN персонал_NOUN твёрдый_ADJ пятёрка_NOUN особый_ADJ благодарность_NOUN консультант_NOUN ольга_PROPN изумительный_ADJ девушка_NOUN доступный_ADJ документ_NOUN красавица_NOUN очередь_NOUN карта_NOUN указание_NOUN верх_NOUN магазин_NOUN карта_NOUN самым_ADJ надёжный_ADJ банк_NOUN трудный_ADJ время_NOUN',\n",
       " 'бардак_NOUN беспредел_NOUN электронный_ADJ очередь_NOUN очередь_NOUN человек_NOUN сотрудник_NOUN',\n",
       " 'ведомо_NOUN деньга_NOUN счёт_NOUN предупреждение_NOUN воровство_NOUN другому_ADJ',\n",
       " 'морозов_PROPN слово_NOUN деньга_NOUN фонд_NOUN год_NOUN уст_NOUN оформление_NOUN вклад_NOUN соотрудники_NOUN премия_NOUN жизнь_NOUN клиент_NOUN вклад_NOUN личныи_PROPN пенсионныи_PROPN шок_NOUN вклад_NOUN нпф_PROPN',\n",
       " 'обслуживание_NOUN уровень_NOUN ссср_PROPN сберкассы_NOUN очередь_NOUN километр_NOUN сотрудник_NOUN следующий_ADJ очередь_NOUN общий_ADJ очередь_NOUN карта_NOUN отвратительный_ADJ обслуживание_NOUN',\n",
       " 'бонкаматы_NOUN',\n",
       " 'центральный_ADJ офис_NOUN волгоград_PROPN счёт_NOUN лёт_NOUN счёт_NOUN банк_NOUN очередь_NOUN человек_NOUN час_NOUN человек_NOUN работник_NOUN вообщем_ADJ кантор_NOUN банк_NOUN',\n",
       " 'банк_NOUN лиське_PROPN бфло_NOUN человек_NOUN дело_NOUN человек_NOUN пароль_NOUN личный_ADJ кабинет_NOUN вразумительный_ADJ пароль_NOUN бфло_NOUN заити_NOUN саит_ADJ личныи_NOUN кабинет_NOUN телефон_NOUN офис_NOUN оператор_NOUN минута_NOUN течение_NOUN минута_NOUN ожидание_NOUN минута_NOUN банк_NOUN',\n",
       " 'худшии_ADJ банк_NOUN очередь_NOUN мама_NOUN час_NOUN другом_ADJ отделение_NOUN вечер_NOUN клиент_NOUN очередь_NOUN вип_NOUN сервис_NOUN',\n",
       " 'отделение_NOUN приятный_ADJ посещение_NOUN банк_NOUN спам_NOUN звонок_NOUN аферист_NOUN база_NOUN',\n",
       " 'банк_NOUN банкомат_NOUN чудо_NOUN месяц_NOUN касса_NOUN деньга_NOUN карта_NOUN час_NOUN очередь_NOUN здоровый_ADJ',\n",
       " 'сотрудник_NOUN фио_PROPN фото_NOUN тон_NOUN жалобный_ADJ книга_NOUN следующии_PROPN раз_NOUN жалобный_ADJ книга_NOUN высоко_ADJ человек_NOUN банк_NOUN качество_NOUN оказание_NOUN услуга_NOUN',\n",
       " 'очередь_NOUN бабушка_NOUN московский_ADJ область_NOUN ощущение_NOUN какои_NOUN колхоз_NOUN ссср_PROPN сотрудник_NOUN мультфильм_NOUN зверополис_NOUN блиц_NOUN блиц_NOUN скорость_NOUN граница_NOUN отделение_NOUN',\n",
       " 'долгий_ADJ ожидание_NOUN персонал_NOUN раз_NOUN счёт_NOUN',\n",
       " 'расположен_ADJ банкомат_NOUN',\n",
       " 'отзывчивый_ADJ работник_NOUN очередь_NOUN программа_NOUN бизнес_NOUN круг_NOUN ад_NOUN этап_NOUN',\n",
       " 'офис_NOUN улучшение_NOUN единственныи_PROPN город_NOUN наличные_NOUN потребкредиту_NOUN мнои_NOUN человек_NOUN очередь_NOUN сотрудница_NOUN касса_NOUN нужнои_NOUN сумма_NOUN кассе_NOUN очередь_NOUN',\n",
       " 'великолепный_ADJ обслуживание_NOUN отдельный_ADJ благодарность_NOUN анне_PROPN сергеевнои_PROPN куприяхинои_PROPN отзывчивыи_PROPN грамотныи_ADJ специалист_NOUN сторона_NOUN',\n",
       " 'лохотрон_NOUN обращение_NOUN кредит_NOUN услуга_NOUN услугои_NOUN условие_NOUN польза_NOUN банк_NOUN возможность_NOUN металлический_ADJ счёт_NOUN',\n",
       " 'долгий_ADJ ожидание_NOUN небольшой_ADJ количество_NOUN людеи_NOUN',\n",
       " '',\n",
       " 'хороший_ADJ обслуживание_NOUN минус_NOUN маленький_ADJ помещение_NOUN банкомат_NOUN',\n",
       " 'персонал_NOUN невесёлый_ADJ дело_NOUN мрачноватый_ADJ',\n",
       " 'банк_NOUN вежливыи_NOUN персонал_NOUN время_NOUN ожидание_NOUN быстрый_ADJ',\n",
       " 'онлаин_NOUN карта_NOUN втб_PROPN клиент_NOUN карта_NOUN смс_NOUN готовность_NOUN очередь_NOUN общение_NOUN менеджер_NOUN впечатление_NOUN банк_NOUN отдел_NOUN дознание_NOUN вопрос_NOUN итог_NOUN карта_NOUN проверка_NOUN ошибка_NOUN банк_NOUN втб_PROPN',\n",
       " 'маленький_ADJ помещение_NOUN туалет_NOUN поситителеи_NOUN банкомат_NOUN маленькои_NOUN площадь_NOUN постоянный_ADJ очередь_NOUN',\n",
       " 'сотрудник_NOUN очередь_NOUN минута_NOUN',\n",
       " 'банк_NOUN вежливый_ADJ корректный_ADJ обслуживание_NOUN',\n",
       " 'работа_NOUN оператор_NOUN нитолян_PROPN внимательный_ADJ грамотный_ADJ спасибо_NOUN большой_ADJ',\n",
       " 'медленныи_ADJ офис_NOUN клиент_NOUN час_NOUN сотрудник_NOUN остальные_ADJ работа_NOUN очередь_NOUN больший_ADJ ужасныи_NOUN офис_NOUN',\n",
       " 'время_NOUN ожидание_NOUN сотрудник_NOUN',\n",
       " 'пиво_NOUN',\n",
       " 'обслуживание_NOUN хороший_ADJ персонал_NOUN хорошии_NOUN',\n",
       " 'банк_NOUN приятный_ADJ сотрудник_NOUN проблема_NOUN',\n",
       " 'хороший_ADJ быстрый_ADJ обслуживание_NOUN',\n",
       " 'банк_NOUN народ_NOUN',\n",
       " 'ужасный_ADJ долгий_ADJ обслуживание_NOUN электронный_ADJ очередь_NOUN',\n",
       " 'банк_NOUN хорошии_NOUN мобильный_ADJ приложение_NOUN',\n",
       " '',\n",
       " 'сотрудник_NOUN обслуживание_NOUN клиент_NOUN больший_ADJ очередь_NOUN',\n",
       " 'постоянный_ADJ клиент_NOUN работа_NOUN отделение_NOUN банк_NOUN банк_NOUN целое_NOUN вопрос_NOUN претензия_NOUN банк_NOUN вопрос_NOUN карта_NOUN технический_ADJ поддержка_NOUN',\n",
       " 'банкомат_NOUN деньга_NOUN инкассация_NOUN приезд_NOUN час_NOUN',\n",
       " 'сотрудник_NOUN компетентный_ADJ',\n",
       " 'банкомат_NOUN раз_NOUN',\n",
       " 'человек_NOUN хороший_ADJ какои_NOUN пустяковои_PROPN проблема_NOUN очередь_NOUN час_NOUN лишний_ADJ',\n",
       " 'банк_NOUN кредитный_ADJ карта_NOUN саит_PROPN наити_NOUN адрес_NOUN телефон_NOUN шок_NOUN сеня_PROPN нужный_ADJ справка_NOUN фио_NOUN родственник_NOUN миллион_NOUN вопрос_NOUN связь_NOUN оформление_NOUN итог_NOUN пол_NOUN путь_NOUN оформление_NOUN кредитный_ADJ карта_NOUN справка_NOUN ндфл_PROPN куча_NOUN чур_NOUN банк_NOUN оформиликарты_NOUN минута_NOUN первый_ADJ знакомство_NOUN втб_PROPN банк_NOUN людеи_NOUN продукт_NOUN втб_PROPN кредитный_ADJ карта_NOUN втб_PROPN',\n",
       " 'готовый_ADJ дебетовый_ADJ карта_NOUN минута_NOUN операция_NOUN ряд_NOUN фактор_NOUN сложность_NOUN правда_NOUN минута_NOUN ожидание_NOUN специалист_NOUN вопрос_NOUN закрытие_NOUN старый_ADJ счёт_NOUN привязаннои_NOUN карта_NOUN',\n",
       " 'ужасный_ADJ организация_NOUN очередь_NOUN нескончаемый_ADJ медленнои_NOUN работа_NOUN персонал_NOUN работник_NOUN мёртвый_ADJ муха_NOUN час_NOUN карта_NOUN человек_NOUN мин_NOUN остальные_ADJ угол_NOUN угол_NOUN период_NOUN пандемия_NOUN сотрудник_NOUN перчатка_NOUN многоие_PROPN маска_NOUN клиент_NOUN маска_NOUN мера_NOUN персонал_NOUN работа_NOUN быстрый_ADJ обслуживание_NOUN втб_PROPN солнечногорск_PROPN',\n",
       " 'самыи_NOUN долгии_NOUN банк_NOUN обслуживание_NOUN',\n",
       " 'карта_NOUN новыи_PROPN номер_NOUN телефон_NOUN отделение_NOUN талончик_NOUN очередь_NOUN кредит_NOUN банк_NOUN оперативнеи_NOUN',\n",
       " 'сеичас_NOUN офис_NOUN втб_PROPN постоянный_ADJ очередь_NOUN карта_NOUN час_NOUN час_NOUN карта_NOUN минута_NOUN деньга_NOUN кассе_NOUN час_NOUN привилегия_NOUN равный_ADJ отдельнои_NOUN зона_NOUN сонный_ADJ муха_NOUN запах_NOUN котлета_NOUN сбер_NOUN количество_NOUN клиент_NOUN привилегия_NOUN сотрудник_NOUN время_NOUN людеи_NOUN деньга_NOUN звезда_NOUN однои_NOUN',\n",
       " 'целое_NOUN втб_PROPN полный_ADJ днище_NOUN дно_NOUN яма_NOUN плохой_ADJ жизнь_NOUN втб_PROPN отделение_NOUN очередь_NOUN нереальный_ADJ часа_NOUN карта_NOUN втб_PROPN дно_NOUN россия_PROPN',\n",
       " 'нормальныи_ADJ офис_NOUN обычный_ADJ обслуживание_NOUN косяк_NOUN банкомат_NOUN вход_NOUN бесконтактнои_NOUN функция_NOUN вопрос_NOUN',\n",
       " 'путь_NOUN удобный_ADJ вопрос_NOUN девушка_NOUN сотрудник_NOUN дебетовый_ADJ карта_NOUN нюанс_NOUN онлаин_NOUN кабинет_NOUN еи_PROPN удовольствие_NOUN снятие_NOUN деньга_NOUN банкомат_NOUN заковыка_NOUN сотрудница_NOUN',\n",
       " 'целое_NOUN офис_NOUN вопрос_NOUN оценка_NOUN очередь_NOUN мина_NOUN время_NOUN праздник_NOUN утро_NOUN обед_NOUN вечер_NOUN сожаление_NOUN офис_NOUN бумажка_NOUN квартира_NOUN обременение_NOUN москва_PROPN',\n",
       " 'второи_NOUN раз_NOUN смена_NOUN реквизит_NOUN смена_NOUN фамилия_NOUN первыи_PROPN раз_NOUN час_NOUN сотрудник_NOUN вынуждена_ADJ срок_NOUN ожидание_NOUN запредельный_ADJ минута_NOUN',\n",
       " 'большой_ADJ микрораионе_NOUN рекиинцо_NOUN банкомат_NOUN',\n",
       " 'подъезд_NOUN авто_NOUN хороший_ADJ обслуживание_NOUN',\n",
       " 'молодец_NOUN',\n",
       " 'банк_NOUN время_NOUN ожидание_NOUN минута_NOUN банкомат_NOUN евро_NOUN рубль_NOUN доллар_NOUN сотрудник_NOUN касса_NOUN девушка_NOUN общительный_ADJ звезда_NOUN сотрудник_NOUN банк_NOUN бесконтакнои_NOUN система_NOUN доступ_NOUN счёт_NOUN банкомат_NOUN эплл_NOUN пеи_NOUN сбербанк_NOUN',\n",
       " 'отделение_NOUN некомпитентные_ADJ специалист_NOUN всь_PROPN функционал_NOUN карта_NOUN остальным_ADJ вопрос_NOUN знание_NOUN грубыи_PROPN тон_NOUN баранов_PROPN хороший_ADJ отделение_NOUN онт_NOUN день_NOUN заити_NOUN общий_ADJ',\n",
       " 'время_NOUN ожидание_NOUN минута_NOUN сотрудник_NOUN банк_NOUN человек_NOUN равный_ADJ',\n",
       " 'карта_NOUN очередеи_NOUN открытие_NOUN первыи_NOUN',\n",
       " 'данным_ADJ банк_NOUN служба_NOUN ряд_NOUN сила_NOUN сеичас_PROPN альтернатива_NOUN сбербанк_PROPN которыи_PROPN порядок_NOUN поднадоел_NOUN удобный_ADJ очередь_NOUN операционисты_NOUN черепашка_NOUN клиент_NOUN банк_NOUN очередь_NOUN талон_NOUN ресепшен_NOUN вход_NOUN главный_ADJ банкомат_NOUN вечер_NOUN проблема_NOUN карта_NOUN банкомат_NOUN очередь_NOUN',\n",
       " 'технический_ADJ причина_NOUN',\n",
       " '',\n",
       " 'удобный_ADJ компетентный_ADJ менеджер_NOUN',\n",
       " 'хороший_ADJ',\n",
       " 'приведение_NOUN',\n",
       " 'банк_NOUN хорошии_PROPN сотрудник_NOUN',\n",
       " 'обслуживание_NOUN нормальный_ADJ администратор_NOUN нервныи_NOUN нерв_NOUN место_NOUN удобный_ADJ очередь_NOUN банкомат_NOUN',\n",
       " 'консультант_NOUN отношение_NOUN клиент_NOUN проблема_NOUN вид_NOUN филиал_NOUN кошмар_NOUN этои_NOUN проблемои_PROPN горячий_ADJ линия_NOUN неприятный_ADJ воспоминание_NOUN этои_NOUN женщина_NOUN',\n",
       " 'монопилисты_NOUN город_NOUN',\n",
       " 'хорошии_ADJ отзывчивыи_NOUN персонал_NOUN банк_NOUN втб_PROPN своикодекс_NOUN сотрудник_NOUN',\n",
       " 'больший_ADJ очередь_NOUN краинеи_NOUN мера_NOUN обслуживание_NOUN таковому_ADJ претензия_NOUN отличие_NOUN политика_NOUN банк_NOUN область_NOUN отделение_NOUN понятный_ADJ',\n",
       " 'удобный_ADJ банк_NOUN доллар_NOUN банкомат_NOUN',\n",
       " 'ужасный_ADJ долгий_ADJ ожидание_NOUN персонал_NOUN приветливыи_NOUN',\n",
       " '',\n",
       " 'очередь_NOUN привычный_ADJ дело_NOUN банк_NOUN втб_PROPN солнечногорск_PROPN сотрудник_NOUN банк_NOUN каждыи_ADJ раз_NOUN минута_NOUN компетентность_NOUN работник_NOUN банк_NOUN монитор_NOUN желание_NOUN буква_NOUN знакомые_NOUN ореол_NOUN',\n",
       " 'банк_NOUN банк_NOUN очередеи_NOUN',\n",
       " 'народ_NOUN',\n",
       " 'банк_NOUN',\n",
       " 'отличный_ADJ специалист_NOUN',\n",
       " 'быстрый_ADJ обслуживание_NOUN',\n",
       " '',\n",
       " 'хороший_ADJ обслуживание_NOUN грамотный_ADJ консультант_NOUN',\n",
       " 'банк_NOUN втб_PROPN',\n",
       " 'услуга_NOUN лёгкий_ADJ решение_NOUN рецепшн_NOUN',\n",
       " 'копилка_NOUN монета_NOUN комиссия_NOUN такои_NOUN ситуация_NOUN магазин_NOUN рука_NOUN комисси_PROPN',\n",
       " 'вопрос_NOUN карта_NOUN костин_PROPN привет_NOUN общий_ADJ профессионал_NOUN ноль_NOUN клиент_NOUN',\n",
       " 'программа_NOUN час_NOUN грустный_ADJ',\n",
       " 'обслуживание_NOUN отношение_NOUN клиент_NOUN',\n",
       " 'нормальный_ADJ отделение_NOUN сотрудник_NOUN приветливый_ADJ',\n",
       " 'вкладчик_NOUN банк_NOUN деньга_NOUN человек_NOUN квартплата_NOUN банк_NOUN равный_ADJ очередь_NOUN общий_ADJ час_NOUN',\n",
       " 'банк_NOUN друг_NOUN заработный_ADJ плата_NOUN карта_NOUN банк_NOUN',\n",
       " 'вежливый_ADJ обслуживание_NOUN грамотный_ADJ специалист_NOUN',\n",
       " 'вопрос_NOUN правда_NOUN очередь_NOUN народ_NOUN сотрудник_NOUN комп_NOUN',\n",
       " 'отделение_NOUN отделение_NOUN особенный_ADJ персонал_NOUN вежливыи_NOUN зал_NOUN ожидание_NOUN большои_ADJ',\n",
       " 'специалист_NOUN хороший_ADJ грамотный_ADJ предложение_NOUN нормальный_ADJ',\n",
       " 'хороший_ADJ отделение_NOUN втб_PROPN',\n",
       " 'втб_PROPN год_NOUN',\n",
       " 'комфортный_ADJ отделение_NOUN банк_NOUN втб_PROPN москва_PROPN область_NOUN чуткии_NOUN персонал_NOUN осередеи_NOUN клиент_NOUN помещение_NOUN чистота_NOUN',\n",
       " 'отделение_NOUN банк_NOUN город_NOUN',\n",
       " 'хороший_ADJ обслуживание_NOUN банкомат_NOUN ошибка_NOUN',\n",
       " 'обычный_ADJ отделение_NOUN банк_NOUN',\n",
       " 'банк_NOUN вежлевыи_NOUN персонал_NOUN',\n",
       " 'баннк_NOUN банкомат_NOUN персонал_NOUN вопрос_NOUN плохой_ADJ',\n",
       " 'банк_NOUN удобный_ADJ место_NOUN обслуживание_NOUN',\n",
       " 'норма_NOUN',\n",
       " 'банк_NOUN сотрудник_NOUN доброжелательный_ADJ',\n",
       " 'банк_NOUN вежлевыи_NOUN персонал_NOUN',\n",
       " 'ооооочень_NOUN обслуживание_NOUN сотрудник_NOUN компетентный_ADJ',\n",
       " 'персонал_NOUN хамоватый_ADJ менеджер_NOUN банкомат_NOUN вход_NOUN',\n",
       " 'постоянный_ADJ очередь_NOUN внесение_NOUN платежеи_NOUN',\n",
       " '',\n",
       " 'талон_NOUN час_NOUN мнои_NOUN человек_NOUN',\n",
       " '',\n",
       " 'отзывчивыи_NOUN персонал_NOUN',\n",
       " '',\n",
       " 'ньюансов_NOUN',\n",
       " 'надежда_NOUN ресепшн_NOUN',\n",
       " 'вежливыи_NOUN персонал_NOUN',\n",
       " 'отличный_ADJ обслуживание_NOUN',\n",
       " 'сбере_NOUN площадь_NOUN',\n",
       " 'хороший_ADJ обслуживание_NOUN',\n",
       " 'банк_NOUN',\n",
       " 'очередь_NOUN вечный_ADJ',\n",
       " 'ужасный_ADJ отношение_NOUN клиент_NOUN сотрудник_NOUN',\n",
       " 'втб_PROPN уровень_NOUN клиентский_ADJ сервис_NOUN ужасный_ADJ организация_NOUN']"
      ]
     },
     "execution_count": 164,
     "metadata": {},
     "output_type": "execute_result"
    }
   ],
   "source": [
    "corpus_preprocessed"
   ]
  },
  {
   "cell_type": "code",
   "execution_count": 165,
   "metadata": {},
   "outputs": [],
   "source": [
    "from sklearn.feature_extraction.text import TfidfVectorizer\n",
    "\n",
    "tfidf = TfidfVectorizer()\n",
    "\n",
    "\n",
    "tfidf_matrix = tfidf.fit_transform(corpus_preprocessed)"
   ]
  },
  {
   "cell_type": "code",
   "execution_count": 166,
   "metadata": {},
   "outputs": [
    {
     "data": {
      "text/plain": [
       "<176x593 sparse matrix of type '<class 'numpy.float64'>'\n",
       "\twith 1347 stored elements in Compressed Sparse Row format>"
      ]
     },
     "execution_count": 166,
     "metadata": {},
     "output_type": "execute_result"
    }
   ],
   "source": [
    "tfidf_matrix"
   ]
  },
  {
   "cell_type": "code",
   "execution_count": 167,
   "metadata": {},
   "outputs": [],
   "source": [
    "from sklearn.cluster import KMeans\n",
    "from sklearn.metrics import silhouette_score, davies_bouldin_score\n",
    "\n",
    "kmeans_tsne = KMeans(n_clusters=15, random_state=42)\n",
    "labels_tsne = kmeans_tsne.fit_predict(tfidf_matrix)"
   ]
  },
  {
   "cell_type": "code",
   "execution_count": 168,
   "metadata": {},
   "outputs": [
    {
     "data": {
      "text/plain": [
       "array([ 2,  8,  6,  7,  8,  9, 14,  6,  3,  1,  6,  9, 11,  7,  8,  9,  8,\n",
       "       10,  2, 13, 13, 12,  6, 14, 13, 14,  7,  0, 13,  7,  8,  8,  0,  9,\n",
       "        5, 10,  9, 10,  7,  3, 11, 10,  9,  7,  2,  3,  8,  9, 11,  1,  2,\n",
       "        1,  0,  1,  1,  5,  8,  1,  2,  6,  9, 12, 14,  6,  7,  8, 14,  0,\n",
       "        4,  0,  9,  8,  4,  3,  7,  0,  5, 14,  0, 10,  2, 10,  3, 11,  8,\n",
       "        0,  7,  8,  1,  2, 12,  6, 13,  3,  8,  7,  8,  1, 13, 12,  8,  8,\n",
       "        9, 12, 10,  0, 12,  8,  1,  9, 12,  0,  0, 14, 10,  0,  8, 14,  6,\n",
       "        0, 13,  8, 12,  0,  0,  1,  8,  3,  8,  7,  7,  0, 10, 13,  2,  9,\n",
       "        8,  6,  7,  0,  1,  8,  7,  3, 11, 10, 10, 13, 13,  8, 10,  8,  8,\n",
       "       12, 14,  0,  8,  8,  7, 12,  4,  0,  6,  0,  9,  0,  0,  0,  9,  7,\n",
       "        4, 10,  8,  5,  0, 13], dtype=int32)"
      ]
     },
     "execution_count": 168,
     "metadata": {},
     "output_type": "execute_result"
    }
   ],
   "source": [
    "labels_tsne"
   ]
  },
  {
   "cell_type": "code",
   "execution_count": 169,
   "metadata": {},
   "outputs": [
    {
     "name": "stdout",
     "output_type": "stream",
     "text": [
      "Silhouette score:  -0.0030696040104354577\n",
      "Davies-Bouldin index:  3.4866288760577095\n"
     ]
    }
   ],
   "source": [
    "# Вычисление Silhouette score для компонент t-SNE\n",
    "silhouette_avg_tsne = silhouette_score(tfidf_matrix, labels_tsne)\n",
    "print(\"Silhouette score: \", silhouette_avg_tsne)\n",
    "\n",
    "# Вычисление Davies-Bouldin index для компонент t-SNE\n",
    "db_index_tsne = davies_bouldin_score(tfidf_matrix.toarray(), labels_tsne)\n",
    "print(\"Davies-Bouldin index: \", db_index_tsne)"
   ]
  },
  {
   "cell_type": "code",
   "execution_count": 170,
   "metadata": {},
   "outputs": [
    {
     "name": "stderr",
     "output_type": "stream",
     "text": [
      "/usr/local/lib/python3.10/dist-packages/sklearn/manifold/_t_sne.py:800: FutureWarning: The default initialization in TSNE will change from 'random' to 'pca' in 1.2.\n",
      "  warnings.warn(\n",
      "/usr/local/lib/python3.10/dist-packages/sklearn/manifold/_t_sne.py:810: FutureWarning: The default learning rate in TSNE will change from 200.0 to 'auto' in 1.2.\n",
      "  warnings.warn(\n",
      "/tmp/ipykernel_39239/3681416467.py:44: UserWarning: No data for colormapping provided via 'c'. Parameters 'cmap' will be ignored\n",
      "  plt.scatter(X_tsne[:, 0], X_tsne[:, 1], cmap='viridis', s=50)\n"
     ]
    },
    {
     "data": {
      "image/png": "[encoded data removed]",
      "text/plain": [
       "<Figure size 800x800 with 2 Axes>"
      ]
     },
     "metadata": {},
     "output_type": "display_data"
    }
   ],
   "source": [
    "from sklearn.decomposition import PCA, TruncatedSVD\n",
    "from sklearn.manifold import TSNE\n",
    "from sklearn.preprocessing import StandardScaler\n",
    "from sklearn.feature_extraction.text import TfidfVectorizer\n",
    "import matplotlib.pyplot as plt\n",
    "\n",
    "# vectorizer = TfidfVectorizer()\n",
    "# X = vectorizer.fit_transform(corpus.to_numpy()[:1000])\n",
    "\n",
    "# # Стандартизация данных\n",
    "# scaler = StandardScaler(with_mean=False)\n",
    "# X_scaled = scaler.fit_transform(X)\n",
    "# X_scaled = X\n",
    "\n",
    "# SVD\n",
    "# svd = TruncatedSVD(n_components=2, random_state=42)\n",
    "# X_svd = svd.fit_transform(X_scaled, y_tags[:10000])\n",
    "\n",
    "# t-SNE\n",
    "tsne = TSNE(n_components=2, random_state=42)\n",
    "X_tsne = tsne.fit_transform(tfidf_matrix)\n",
    "\n",
    "# # Визуализация данных с помощью TruncatedSVD\n",
    "# plt.scatter(X_svd[:, 0], X_svd[:, 1], c=y_tags[:10000])\n",
    "# plt.title('TruncatedSVD')\n",
    "# plt.show()\n",
    "\n",
    "# # Визуализация данных с помощью t-SNE\n",
    "# plt.scatter(X_tsne[:, 0], X_tsne[:, 1], c=y_tags[:10000])\n",
    "# plt.title('t-SNE')\n",
    "# plt.show()\n",
    "\n",
    "# Визуализация данных с помощью TruncatedSVD\n",
    "# plt.figure(figsize=(8, 6))\n",
    "# plt.scatter(X_svd[:, 0], X_svd[:, 1], c=y_tags[:10000], cmap='viridis', s=50)\n",
    "# plt.colorbar()\n",
    "# plt.xlabel('Component 1')\n",
    "# plt.ylabel('Component 2')\n",
    "# plt.title('TruncatedSVD')\n",
    "# plt.show()\n",
    "\n",
    "# Визуализация данных с помощью t-SNE\n",
    "plt.figure(figsize=(8, 8))\n",
    "plt.scatter(X_tsne[:, 0], X_tsne[:, 1], cmap='viridis', s=50)\n",
    "plt.colorbar()\n",
    "plt.xlabel('Component 1')\n",
    "plt.ylabel('Component 2')\n",
    "plt.title('t-SNE')\n",
    "plt.show()"
   ]
  },
  {
   "cell_type": "code",
   "execution_count": 182,
   "metadata": {},
   "outputs": [
    {
     "ename": "AttributeError",
     "evalue": "'TSNE' object has no attribute 'get_feature_names_out'",
     "output_type": "error",
     "traceback": [
      "\u001b[0;31m---------------------------------------------------------------------------\u001b[0m",
      "\u001b[0;31mAttributeError\u001b[0m                            Traceback (most recent call last)",
      "\u001b[1;32m/home/noble6/DEV/moretech-MobileMap/ml/review_analysis.ipynb Cell 15\u001b[0m line \u001b[0;36m1\n\u001b[0;32m----> <a href='vscode-notebook-cell:/home/noble6/DEV/moretech-MobileMap/ml/review_analysis.ipynb#Y102sZmlsZQ%3D%3D?line=0'>1</a>\u001b[0m tsne\u001b[39m.\u001b[39;49mget_feature_names_out([\u001b[39m1\u001b[39m])\n",
      "\u001b[0;31mAttributeError\u001b[0m: 'TSNE' object has no attribute 'get_feature_names_out'"
     ]
    }
   ],
   "source": [
    "tsne.get_feature_names_out([1])"
   ]
  },
  {
   "cell_type": "code",
   "execution_count": null,
   "metadata": {},
   "outputs": [],
   "source": [
    "tfidf_matrix"
   ]
  },
  {
   "cell_type": "code",
   "execution_count": 181,
   "metadata": {},
   "outputs": [
    {
     "data": {
      "text/plain": [
       "array([[-6.24754295e+01, -1.98404300e+00],\n",
       "       [-1.06939445e+02,  2.34855652e+01],\n",
       "       [ 2.60172058e+02, -3.33288536e+01],\n",
       "       [-8.15473328e+01, -9.61254272e+01],\n",
       "       [ 7.82659225e+01, -1.58238174e+02],\n",
       "       [-1.20135605e+02, -2.80000793e+02],\n",
       "       [ 2.39243908e+01,  1.10388718e+02],\n",
       "       [-1.99073257e+01, -3.83978882e+02],\n",
       "       [ 1.55648468e+02,  1.01948746e+02],\n",
       "       [-2.65766571e+02, -1.69642086e+01],\n",
       "       [-2.88451630e+02,  1.39659515e+02],\n",
       "       [ 1.73720871e+02, -8.16378021e+01],\n",
       "       [ 9.95109863e+01, -3.50979370e+02],\n",
       "       [ 2.24166092e+02, -8.04247055e+01],\n",
       "       [-7.99591599e+01,  2.98383087e+02],\n",
       "       [ 1.86325012e+02,  2.91110504e+02],\n",
       "       [-2.42256546e+01, -1.83525528e+02],\n",
       "       [ 9.15296326e+01,  3.20820856e+00],\n",
       "       [-2.31532318e+02, -2.49171143e+02],\n",
       "       [-1.78044373e+02,  1.07470001e+02],\n",
       "       [ 2.18936768e+02,  9.64047527e+00],\n",
       "       [-2.90556610e+02, -1.99017792e+02],\n",
       "       [-4.11049469e+02, -1.10065277e+02],\n",
       "       [-1.70028366e+02, -1.84089310e+02],\n",
       "       [ 3.97187233e+01, -6.87273483e+01],\n",
       "       [-1.99903366e+02, -8.72876816e+01],\n",
       "       [ 1.21074661e+02,  2.58756809e+01],\n",
       "       [-3.44877701e+01, -1.02423477e+02],\n",
       "       [-9.65076065e+01, -3.51262573e+02],\n",
       "       [-1.20228729e+02, -2.13677124e+02],\n",
       "       [ 1.41293915e+02,  2.42481506e+02],\n",
       "       [-5.37317696e+01,  3.04749794e+01],\n",
       "       [-3.25228424e+02,  2.14483871e+02],\n",
       "       [-4.63170700e+01, -6.67455902e+01],\n",
       "       [-2.01770111e+02,  2.29840500e+02],\n",
       "       [-5.89186935e+01,  2.14076797e+02],\n",
       "       [ 1.22901367e+02, -3.99356384e+01],\n",
       "       [-1.64984482e+02, -4.96707001e+01],\n",
       "       [ 2.07722626e+02, -3.97450371e+01],\n",
       "       [-1.54741226e+02,  2.89159210e+02],\n",
       "       [ 1.69096497e+02, -3.34168671e+02],\n",
       "       [-3.82388535e+01,  1.64407379e+02],\n",
       "       [ 3.34649445e+02, -1.21169262e+01],\n",
       "       [-1.89351730e+02,  6.53358612e+01],\n",
       "       [ 2.39670410e+02, -2.64098633e+02],\n",
       "       [ 8.80930405e+01,  2.67433746e+02],\n",
       "       [ 2.75488678e+02,  1.79591351e+01],\n",
       "       [-2.70196014e+02, -1.31464294e+02],\n",
       "       [ 1.55477325e+02, -2.78599884e+02],\n",
       "       [-3.28659882e+02,  7.36209917e+00],\n",
       "       [ 9.68799782e+00, -3.26401672e+02],\n",
       "       [ 1.21065445e+02, -7.99040604e+01],\n",
       "       [-3.51200142e+01,  4.00425690e+02],\n",
       "       [-5.09342499e+01,  8.48224258e+01],\n",
       "       [ 8.64691238e+01,  5.42320442e+01],\n",
       "       [-8.12331238e+01, -1.42468201e+02],\n",
       "       [-4.98790836e+00,  2.09277100e+02],\n",
       "       [-1.42393692e+02,  4.23945808e+01],\n",
       "       [ 3.05928253e+02,  7.00376587e+01],\n",
       "       [-1.71624512e+02,  1.58852066e+02],\n",
       "       [-2.26721344e+02,  1.40810349e+02],\n",
       "       [ 3.52205475e+02,  2.70219994e+01],\n",
       "       [-1.03530060e+02, -1.44385452e+01],\n",
       "       [ 9.50090942e+01, -1.16623161e+02],\n",
       "       [-2.42667389e+02,  8.98913651e+01],\n",
       "       [ 5.24489861e+01,  3.80949127e+02],\n",
       "       [-2.36522186e+02,  1.97882706e+02],\n",
       "       [ 8.44409790e+02,  9.68883606e+02],\n",
       "       [-1.16578026e+02,  1.32163864e+02],\n",
       "       [-1.06059830e+02,  3.57643768e+02],\n",
       "       [ 2.32621170e+02,  5.33666801e+01],\n",
       "       [-1.08671410e+02, -5.72075539e+01],\n",
       "       [ 2.70445801e+02,  1.16576866e+02],\n",
       "       [ 1.59275635e+02, -1.69375259e+02],\n",
       "       [ 1.63645142e+02,  1.48139618e+02],\n",
       "       [ 3.13559784e+02, -2.32437958e+02],\n",
       "       [-1.19918533e+02, -1.64232590e+02],\n",
       "       [-1.78186691e+02, -1.29069916e+02],\n",
       "       [-2.02134567e+02,  3.51161652e+02],\n",
       "       [-6.34641075e+01,  1.26586807e+02],\n",
       "       [ 1.15205452e+02, -1.74713135e+02],\n",
       "       [-1.40143204e+02, -8.88523788e+01],\n",
       "       [ 2.06072113e+02,  8.99877853e+01],\n",
       "       [ 8.52240086e+00,  1.53486771e+02],\n",
       "       [-8.33440208e+00, -2.59788574e+02],\n",
       "       [-2.30724792e+01, -1.35788989e+00],\n",
       "       [ 1.08274338e+02, -2.23437454e+02],\n",
       "       [-3.93479767e+01, -1.44991104e+02],\n",
       "       [-1.18234980e+00,  7.72086868e+01],\n",
       "       [ 1.80472580e+02, -2.22585449e+02],\n",
       "       [ 4.01403137e+02,  1.31118488e+00],\n",
       "       [-3.02145329e+01,  5.79869461e+01],\n",
       "       [ 1.30448990e+02,  3.24914093e+02],\n",
       "       [ 5.59664536e+01, -3.54821754e+00],\n",
       "       [ 4.45268517e+01, -1.09744156e+02],\n",
       "       [-9.28403397e+01,  8.82585907e+01],\n",
       "       [ 7.56626053e+01,  1.18883522e+02],\n",
       "       [-1.72483521e+02, -2.47477829e+02],\n",
       "       [-1.37894182e+01,  3.21284485e+02],\n",
       "       [ 1.07314796e+02,  8.83981171e+01],\n",
       "       [ 4.49325085e+00, -8.77925415e+01],\n",
       "       [ 1.65148956e+02,  1.95037659e+02],\n",
       "       [ 3.34729706e+02, -1.47404373e+02],\n",
       "       [ 6.04583549e+01,  3.12042633e+02],\n",
       "       [-1.33849289e+02,  9.12266388e+01],\n",
       "       [ 3.82417542e+02, -8.77837067e+01],\n",
       "       [ 2.20307419e+02,  1.49886093e+02],\n",
       "       [ 3.06900673e+01,  6.03208580e+01],\n",
       "       [-8.42076797e+01,  5.06932220e+01],\n",
       "       [-2.51166565e+02, -7.75381165e+01],\n",
       "       [ 1.39738602e+02,  5.98332367e+01],\n",
       "       [ 2.69917786e+02,  2.74119446e+02],\n",
       "       [ 2.70620251e+01,  2.30708218e+01],\n",
       "       [-1.85263596e+02,  1.55479298e+01],\n",
       "       [-6.21028709e+01,  1.81866333e+02],\n",
       "       [ 4.12211975e+02,  1.35680084e+02],\n",
       "       [ 3.23466396e+00, -1.31888214e+02],\n",
       "       [ 2.60074677e+02, -1.69364975e+02],\n",
       "       [ 2.22521805e+02,  2.22895401e+02],\n",
       "       [-3.49161560e+02, -8.26309891e+01],\n",
       "       [-1.48456909e+02,  2.05842194e+02],\n",
       "       [-1.06861755e+02,  2.43496170e+02],\n",
       "       [ 2.74136139e+02,  1.76944107e+02],\n",
       "       [-2.10863083e+02, -2.89204559e+01],\n",
       "       [-1.99833851e+01,  2.54245071e+01],\n",
       "       [ 5.73472176e+01,  8.32980652e+01],\n",
       "       [ 3.63411560e+01, -1.59204422e+02],\n",
       "       [ 1.50727005e+02, -1.16399345e+02],\n",
       "       [ 4.30280838e+01, -1.93652939e+02],\n",
       "       [ 1.70933914e+02,  1.03347945e+00],\n",
       "       [-1.26609161e+02, -1.10456802e+02],\n",
       "       [ 2.26016188e+00,  1.02901535e+01],\n",
       "       [ 3.84678459e+01,  1.99867752e+02],\n",
       "       [ 3.43909264e+01, -2.32702545e+02],\n",
       "       [ 2.33813210e+01,  2.62252319e+02],\n",
       "       [-2.57230713e+02,  2.78911987e+02],\n",
       "       [-2.24497757e+02, -1.65539337e+02],\n",
       "       [-7.29698715e+01, -3.92673035e+01],\n",
       "       [ 8.94381485e+01, -2.71779968e+02],\n",
       "       [-3.42899895e+01,  2.59319458e+02],\n",
       "       [ 1.99692017e+02, -1.34371475e+02],\n",
       "       [ 2.59713806e+02, -1.15823776e+02],\n",
       "       [ 1.03995903e+02,  1.83693954e+02],\n",
       "       [ 1.81495667e+02,  5.07832794e+01],\n",
       "       [-2.90405579e+02,  5.76865387e+01],\n",
       "       [ 7.78483047e+01,  2.13713715e+02],\n",
       "       [-6.61780151e+02, -7.93589478e+02],\n",
       "       [-1.46044189e+02, -1.14990730e+01],\n",
       "       [-4.88274002e+00, -5.21958466e+01],\n",
       "       [-3.10728485e+02, -6.79169617e+01],\n",
       "       [-1.08541359e+02,  1.76225708e+02],\n",
       "       [ 5.85010071e+01,  3.36522827e+01],\n",
       "       [-6.46685486e+01, -2.13157684e+02],\n",
       "       [ 7.71719360e+01, -7.50463638e+01],\n",
       "       [-1.59753590e+01,  1.14216049e+02],\n",
       "       [-3.56690399e+02,  1.07202065e+02],\n",
       "       [ 3.01370117e+02, -7.48196869e+01],\n",
       "       [-6.06341057e+01, -2.34610641e+02],\n",
       "       [ 2.06451324e+02, -2.07489853e+02],\n",
       "       [-2.33230103e+02,  2.96887627e+01],\n",
       "       [ 1.16958725e+02,  1.38205917e+02],\n",
       "       [-7.55234212e-02, -1.79708252e+01],\n",
       "       [-3.56535034e+01, -3.08998833e+01],\n",
       "       [ 2.41704693e+01, -4.47638655e+00],\n",
       "       [ 7.58171768e+01, -3.61523705e+01],\n",
       "       [ 4.13537693e+00,  3.87044334e+01],\n",
       "       [-3.94258698e+02,  2.74370346e+01],\n",
       "       [ 3.23684845e+01, -3.58718452e+01],\n",
       "       [ 1.25457672e+02, -1.76348190e+01],\n",
       "       [ 1.71170242e+02, -2.81369591e+01],\n",
       "       [ 3.39947662e+02,  1.34736008e+02],\n",
       "       [-7.86802673e+01,  1.57538269e+02],\n",
       "       [ 2.06697998e+01, -1.92366516e+02],\n",
       "       [-5.30152168e+01, -2.98460999e+02],\n",
       "       [ 6.46287231e+01, -2.86793304e+02],\n",
       "       [ 5.33274651e+01,  1.53776398e+02]], dtype=float32)"
      ]
     },
     "execution_count": 181,
     "metadata": {},
     "output_type": "execute_result"
    }
   ],
   "source": [
    "X_tsne"
   ]
  },
  {
   "cell_type": "code",
   "execution_count": 171,
   "metadata": {},
   "outputs": [
    {
     "data": {
      "image/png": "[encoded data removed]",
      "text/plain": [
       "<Figure size 1000x1000 with 1 Axes>"
      ]
     },
     "metadata": {},
     "output_type": "display_data"
    },
    {
     "data": {
      "image/png": "[encoded data removed]",
      "text/plain": [
       "<Figure size 1000x1000 with 1 Axes>"
      ]
     },
     "metadata": {},
     "output_type": "display_data"
    },
    {
     "name": "stdout",
     "output_type": "stream",
     "text": [
      "Silhouette score для компонент t-SNE: 0.2855167\n",
      "Davies-Bouldin index для компонент t-SNE: 0.7498883652021315\n"
     ]
    }
   ],
   "source": [
    "from sklearn.cluster import KMeans\n",
    "from sklearn.metrics import silhouette_score, davies_bouldin_score\n",
    "import numpy as np\n",
    "\n",
    "# Кластеризация данных с помощью KMeans на основе компонент t-SNE\n",
    "kmeans_tsne = KMeans(n_clusters=15, random_state=42)\n",
    "labels_tsne = kmeans_tsne.fit_predict(X_tsne)\n",
    "\n",
    "# Визуализация кластеризации\n",
    "plt.figure(figsize=(10, 10))\n",
    "plt.scatter(X_tsne[:, 0], X_tsne[:, 1], c=labels_tsne, cmap='rainbow')\n",
    "plt.title('KMeans Clustering with t-SNE Components')\n",
    "plt.show()\n",
    "\n",
    "# Визуализация центроидов кластеров\n",
    "plt.figure(figsize=(10, 10))\n",
    "centroids_tsne = kmeans_tsne.cluster_centers_\n",
    "centroid_labels_tsne = np.unique(labels_tsne)\n",
    "plt.scatter(X_tsne[:, 0], X_tsne[:, 1], c=labels_tsne, cmap='rainbow')\n",
    "plt.scatter(centroids_tsne[:, 0], centroids_tsne[:, 1], marker='x', s=200, linewidths=3, color='black')\n",
    "for i, label in enumerate(centroid_labels_tsne):\n",
    "    plt.annotate(label, (centroids_tsne[i, 0], centroids_tsne[i, 1]), fontsize=12, fontweight='bold')\n",
    "plt.title('KMeans Clustering with t-SNE Components and Centroids')\n",
    "plt.show()\n",
    "\n",
    "# Вычисление Silhouette score для компонент t-SNE\n",
    "silhouette_avg_tsne = silhouette_score(X_tsne, labels_tsne)\n",
    "print(\"Silhouette score для компонент t-SNE:\", silhouette_avg_tsne)\n",
    "\n",
    "# Вычисление Davies-Bouldin index для компонент t-SNE\n",
    "db_index_tsne = davies_bouldin_score(X_tsne, labels_tsne)\n",
    "print(\"Davies-Bouldin index для компонент t-SNE:\", db_index_tsne)"
   ]
  },
  {
   "cell_type": "code",
   "execution_count": 180,
   "metadata": {},
   "outputs": [
    {
     "ename": "TypeError",
     "evalue": "sequence item 0: expected str instance, csr_matrix found",
     "output_type": "error",
     "traceback": [
      "\u001b[0;31m---------------------------------------------------------------------------\u001b[0m",
      "\u001b[0;31mTypeError\u001b[0m                                 Traceback (most recent call last)",
      "\u001b[1;32m/home/noble6/DEV/moretech-MobileMap/ml/review_analysis.ipynb Cell 16\u001b[0m line \u001b[0;36m1\n\u001b[1;32m     <a href='vscode-notebook-cell:/home/noble6/DEV/moretech-MobileMap/ml/review_analysis.ipynb#X66sZmlsZQ%3D%3D?line=9'>10</a>\u001b[0m \u001b[39m# Вывод слов для каждого кластера\u001b[39;00m\n\u001b[1;32m     <a href='vscode-notebook-cell:/home/noble6/DEV/moretech-MobileMap/ml/review_analysis.ipynb#X66sZmlsZQ%3D%3D?line=10'>11</a>\u001b[0m \u001b[39mfor\u001b[39;00m cluster_label, words_list \u001b[39min\u001b[39;00m cluster_words\u001b[39m.\u001b[39mitems():\n\u001b[0;32m---> <a href='vscode-notebook-cell:/home/noble6/DEV/moretech-MobileMap/ml/review_analysis.ipynb#X66sZmlsZQ%3D%3D?line=11'>12</a>\u001b[0m     \u001b[39mprint\u001b[39m(\u001b[39mf\u001b[39m\u001b[39m\"\u001b[39m\u001b[39mКластер \u001b[39m\u001b[39m{\u001b[39;00mcluster_label\u001b[39m}\u001b[39;00m\u001b[39m: \u001b[39m\u001b[39m{\u001b[39;00m\u001b[39m'\u001b[39m\u001b[39m, \u001b[39m\u001b[39m'\u001b[39m\u001b[39m.\u001b[39mjoin(words_list)\u001b[39m}\u001b[39;00m\u001b[39m\"\u001b[39m)\n",
      "\u001b[0;31mTypeError\u001b[0m: sequence item 0: expected str instance, csr_matrix found"
     ]
    }
   ],
   "source": [
    "# Создание словаря для кластеров\n",
    "cluster_words = {}\n",
    "for cluster_label in np.unique(labels_tsne):\n",
    "    cluster_words[cluster_label] = []\n",
    "\n",
    "# Заполнение словаря словами\n",
    "for i, label in enumerate(labels_tsne):\n",
    "    cluster_words[label].append(tfidf_matrix[i])  # Предполагается, что у вас есть список слов 'words' в том же порядке, как и X_tsne\n",
    "\n",
    "# Вывод слов для каждого кластера\n",
    "for cluster_label, words_list in cluster_words.items():\n",
    "    print(f\"Кластер {cluster_label}: {', '.join(words_list)}\")"
   ]
  },
  {
   "cell_type": "code",
   "execution_count": 179,
   "metadata": {},
   "outputs": [
    {
     "data": {
      "text/plain": [
       "array([[-127.49807  ,   56.28843  ],\n",
       "       [  92.58303  , -160.11858  ],\n",
       "       [ 170.30688  ,  224.19751  ],\n",
       "       [-661.78015  , -793.5895   ],\n",
       "       [ 844.4098   ,  968.8836   ],\n",
       "       [ 336.53503  ,   61.400753 ],\n",
       "       [-160.00403  , -144.75291  ],\n",
       "       [ 140.0784   ,   46.646347 ],\n",
       "       [  -1.2984028,   -8.359997 ],\n",
       "       [-221.28815  ,  220.6604   ],\n",
       "       [ -31.809929 ,  169.63156  ],\n",
       "       [ 258.72775  , -128.36392  ],\n",
       "       [   1.380343 , -286.25793  ],\n",
       "       [-303.72067  ,   -5.397344 ],\n",
       "       [ -16.61622  ,  324.03757  ]], dtype=float32)"
      ]
     },
     "execution_count": 179,
     "metadata": {},
     "output_type": "execute_result"
    }
   ],
   "source": [
    "centroids_tsne"
   ]
  },
  {
   "cell_type": "code",
   "execution_count": 178,
   "metadata": {},
   "outputs": [
    {
     "data": {
      "text/plain": [
       "array([ 0,  1,  2,  3,  4,  5,  6,  7,  8,  9, 10, 11, 12, 13, 14],\n",
       "      dtype=int32)"
      ]
     },
     "execution_count": 178,
     "metadata": {},
     "output_type": "execute_result"
    }
   ],
   "source": [
    "centroid_labels_tsne"
   ]
  },
  {
   "cell_type": "code",
   "execution_count": 173,
   "metadata": {},
   "outputs": [
    {
     "data": {
      "text/plain": [
       "593"
      ]
     },
     "execution_count": 173,
     "metadata": {},
     "output_type": "execute_result"
    }
   ],
   "source": [
    "from sklearn.decomposition import LatentDirichletAllocation\n",
    "\n",
    "# Определите доминирующие ключевые слова для каждого кластера\n",
    "lda = LatentDirichletAllocation(n_components=20, random_state=42)\n",
    "lda.fit(tfidf_matrix)\n",
    "len(lda.components_[1])"
   ]
  },
  {
   "cell_type": "code",
   "execution_count": 174,
   "metadata": {},
   "outputs": [],
   "source": [
    "from sklearn.feature_extraction.text import CountVectorizer\n",
    "\n",
    "vectorizer_count = CountVectorizer()\n",
    "X_count_vec = vectorizer_count.fit_transform([i for i in data[\"text\"]])"
   ]
  },
  {
   "cell_type": "code",
   "execution_count": 175,
   "metadata": {},
   "outputs": [
    {
     "data": {
      "text/plain": [
       "<176x1569 sparse matrix of type '<class 'numpy.int64'>'\n",
       "\twith 3161 stored elements in Compressed Sparse Row format>"
      ]
     },
     "execution_count": 175,
     "metadata": {},
     "output_type": "execute_result"
    }
   ],
   "source": [
    "X_count_vec"
   ]
  },
  {
   "cell_type": "code",
   "execution_count": 176,
   "metadata": {},
   "outputs": [
    {
     "name": "stdout",
     "output_type": "stream",
     "text": [
      "Cluster 0: банковских, 40, закрылся, друг, живой\n",
      "Cluster 1: друзьям, знали, карте, двигается, всё\n",
      "Cluster 2: 40, большинство, консультацию, всего, 60\n",
      "Cluster 3: доступен, 60, корректное, благодарна, ждала\n",
      "Cluster 4: закрытия, банкоматов, задавались, месте, 11\n",
      "Cluster 5: больше, вот, было, баранова, банкомат\n",
      "Cluster 6: задавались, доступен, 60, вообщем, магазин\n",
      "Cluster 7: дело, 40, каждым, бфло, которым\n",
      "Cluster 8: дождалась, догадываться, ждите, видимо, какая\n",
      "Cluster 9: 40, вежливое, зависит, каждым, консультацию\n",
      "Cluster 10: магазин, доступен, банках, ждите, 60\n",
      "Cluster 11: денег, задавались, желание, магазин, достаточно\n",
      "Cluster 12: 40, другом, более, громко, консультацию\n",
      "Cluster 13: ждите, вип, вроде, зверополис, дело\n",
      "Cluster 14: жизнь, копилка, доступен, коп, евро\n",
      "Cluster 15: атмосфера, без, залипает, да, изнеможении\n",
      "Cluster 16: банком, закрылся, красная, грустно, банках\n",
      "Cluster 17: даже, кучкуются, 40, лечить, дальше\n",
      "Cluster 18: больше, документы, 40, за, вот\n",
      "Cluster 19: кредитными, километр, заморачивает, изумительная, ли\n"
     ]
    },
    {
     "name": "stderr",
     "output_type": "stream",
     "text": [
      "/usr/local/lib/python3.10/dist-packages/sklearn/utils/deprecation.py:87: FutureWarning: Function get_feature_names is deprecated; get_feature_names is deprecated in 1.0 and will be removed in 1.2. Please use get_feature_names_out instead.\n",
      "  warnings.warn(msg, category=FutureWarning)\n"
     ]
    }
   ],
   "source": [
    "feature_names = vectorizer_count.get_feature_names()\n",
    "for i, topic in enumerate(lda.components_):\n",
    "    top_words_idx = topic.argsort()[:-6:-1]\n",
    "    top_words = [feature_names[i] for i in top_words_idx]\n",
    "    # print(123)\n",
    "    print(f\"Cluster {i}: {', '.join(top_words)}\")"
   ]
  },
  {
   "cell_type": "markdown",
   "metadata": {},
   "source": [
    "## Использовать word2vec"
   ]
  },
  {
   "cell_type": "code",
   "execution_count": 6,
   "metadata": {},
   "outputs": [
    {
     "data": {
      "text/plain": [
       "189193"
      ]
     },
     "execution_count": 6,
     "metadata": {},
     "output_type": "execute_result"
    }
   ],
   "source": [
    "w2v_model = KeyedVectors.load_word2vec_format('data/ruscorpora_upos_cbow_300_20_2019.bin', binary=True)\n",
    "\n",
    "len(w2v_model.key_to_index)"
   ]
  },
  {
   "cell_type": "code",
   "execution_count": 11,
   "metadata": {},
   "outputs": [
    {
     "data": {
      "text/plain": [
       "0      [услугами, банка, пользуюсь, несколько, лет, б...\n",
       "1      [очень, хорошии, банк, сотрудники, быстро, обс...\n",
       "2      [удобно, расположенное, отделение, посещала, н...\n",
       "3      [консультантов, зале, вообще, не, увидела, опе...\n",
       "4      [удобное, расположение, этого, офиса, наличие,...\n",
       "                             ...                        \n",
       "171                              [хорошее, обслуживание]\n",
       "172                                    [как, все, банки]\n",
       "173    [втб, по, уровню, клиентского, сервиса, ужасна...\n",
       "174          [ужасное, отношение, клиентам, сотрудников]\n",
       "175                                    [очередь, вечная]\n",
       "Length: 176, dtype: object"
      ]
     },
     "execution_count": 11,
     "metadata": {},
     "output_type": "execute_result"
    }
   ],
   "source": [
    "corpus = pd.Series([simple_preprocess(text, deacc=True) for text in data['text'].apply(str)])\n",
    "\n",
    "corpus"
   ]
  },
  {
   "cell_type": "code",
   "execution_count": 12,
   "metadata": {},
   "outputs": [
    {
     "name": "stderr",
     "output_type": "stream",
     "text": [
      "100%|██████████| 176/176 [00:01<00:00, 160.18it/s]\n"
     ]
    }
   ],
   "source": [
    "import string\n",
    "from spacy.lang.ru.stop_words import STOP_WORDS as RU_STOP_WORDS\n",
    "import spacy\n",
    "from multiprocessing import Pool\n",
    "from multiprocessing.pool import ThreadPool\n",
    "from tqdm import tqdm\n",
    "\n",
    "nlp = spacy.load(\"ru_core_news_lg\")\n",
    "\n",
    "SPEECH_PARTS = ['ADJ', 'ADV']\n",
    "\n",
    "def preprocess_text(text):\n",
    "    # text = \" \".join(text).lower()\n",
    "    text = ' '.join([' ' if not char.isalpha() and char not in string.punctuation else char for char in text])\n",
    "    doc = nlp(text)\n",
    "    lemmatized_tokens = []\n",
    "    # word_vectors = []\n",
    "    for token in doc:\n",
    "        if token.is_alpha and token.text not in RU_STOP_WORDS:\n",
    "            lemma = token.lemma_\n",
    "            pos = token.pos_\n",
    "            # Если токен - известное модели слово\n",
    "            if pos in SPEECH_PARTS:\n",
    "                lemmatized_tokens.append(f\"{lemma}_{pos}\")\n",
    "    \n",
    "    preprocessed_text = ' '.join(lemmatized_tokens)\n",
    "    \n",
    "    return preprocessed_text\n",
    "\n",
    "def preprocess_corpus(corpus):\n",
    "    with Pool(processes=8) as pool:\n",
    "        results = []\n",
    "        for result in tqdm(pool.imap_unordered(preprocess_text, corpus), total=len(corpus)):\n",
    "            results.append(result)\n",
    "    return results\n",
    "\n",
    "corpus_preprocessed = preprocess_corpus(corpus)"
   ]
  },
  {
   "cell_type": "code",
   "execution_count": 13,
   "metadata": {},
   "outputs": [
    {
     "data": {
      "text/plain": [
       "['огромный_ADJ',\n",
       " 'хорошии_ADJ быстро_ADV подробно_ADV понятный_ADJ впредь_ADV',\n",
       " 'удобный_ADJ расположенное_ADJ вежливый_ADJ внимательный_ADJ',\n",
       " 'хороший_ADJ отлично_ADV',\n",
       " 'внимательный_ADJ совершенно_ADV знакомои_ADV быстрый_ADJ',\n",
       " 'больший_ADJ быстрый_ADJ высокий_ADJ',\n",
       " 'приятный_ADJ отзывчивый_ADJ внимательный_ADJ понимающие_ADJ вежливый_ADJ компетентный_ADJ достаточно_ADV тактичный_ADJ подробно_ADV признательный_ADJ благодарный_ADJ приятный_ADJ положительный_ADJ человеческий_ADJ',\n",
       " '',\n",
       " 'ужасный_ADJ видимо_ADV желательно_ADV',\n",
       " 'ужасный_ADJ предыдущий_ADJ громко_ADV дословно_ADV столько_ADV общий_ADJ зарплатный_ADJ новый_ADJ',\n",
       " 'быстро_ADV качественно_ADV лишний_ADJ доступный_ADJ',\n",
       " 'удобный_ADJ круглосуточный_ADJ неоднократно_ADV разный_ADJ приятный_ADV главный_ADJ',\n",
       " 'удобный_ADJ вежливо_ADV',\n",
       " 'прекрасный_ADV',\n",
       " 'общий_ADJ неудобно_ADV сюда_ADV виноватый_ADJ вежливый_ADJ',\n",
       " 'приятный_ADJ слабовато_ADV расплывчатый_ADV понятный_ADJ новыя_ADV уважаемый_ADJ четко_ADV быстро_ADV четко_ADV лишний_ADJ',\n",
       " 'очередной_ADJ медленно_ADV горячий_ADJ опытный_ADJ',\n",
       " 'замечательный_ADV',\n",
       " 'приятный_ADV быстро_ADV внятно_ADV окошко_ADJ общий_ADJ нормальный_ADJ',\n",
       " 'хороший_ADJ быстрый_ADJ',\n",
       " 'отличный_ADJ отдельный_ADJ приятный_ADV позитивный_ADV новый_ADJ банковский_ADJ данный_ADV',\n",
       " 'обхадительны_ADJ выгодный_ADJ',\n",
       " 'нормальный_ADJ кредитный_ADJ',\n",
       " 'электронный_ADJ нужный_ADJ',\n",
       " 'быстрый_ADJ приятный_ADJ средний_ADJ единственный_ADJ прошлый_ADJ',\n",
       " 'кредитный_ADJ красный_ADJ кредитный_ADJ кредитный_ADJ впереди_ADV горячеи_ADJ смешной_ADJ',\n",
       " 'быстрый_ADJ отличный_ADJ короткий_ADJ',\n",
       " 'виноватый_ADJ',\n",
       " '',\n",
       " 'отвратительный_ADJ полный_ADJ',\n",
       " 'плохой_ADJ довольный_ADJ свободный_ADJ никакои_ADJ быстро_ADV солнечногорский_ADJ',\n",
       " 'грамотныи_ADJ длинный_ADV своеи_ADV больший_ADJ',\n",
       " 'быстро_ADV супер_ADV',\n",
       " '',\n",
       " 'небольшой_ADJ быстро_ADV',\n",
       " 'каждыи_ADJ',\n",
       " 'паспортный_ADJ',\n",
       " 'хороший_ADJ хороший_ADJ',\n",
       " 'отличный_ADJ сильный_ADJ отзывчивый_ADJ',\n",
       " 'хороший_ADJ приветливый_ADJ хороший_ADJ хороший_ADJ рад_ADJ',\n",
       " '',\n",
       " 'единственный_ADJ электронный_ADJ',\n",
       " 'жаль_ADV',\n",
       " 'удобно_ADV расположен_ADJ быстро_ADV',\n",
       " 'средний_ADJ',\n",
       " 'всей_ADV минимум_ADV каждыи_ADJ маленький_ADJ каждыи_ADJ сегодня_ADV долгий_ADJ',\n",
       " 'твёрдый_ADJ особый_ADJ изумительный_ADJ доступный_ADJ быстро_ADV самым_ADJ надёжный_ADJ трудный_ADJ',\n",
       " 'большой_ADJ',\n",
       " 'следующий_ADJ общий_ADJ своеи_ADV отвратительный_ADJ',\n",
       " 'центральный_ADJ медленно_ADV постоянно_ADV вообщем_ADJ',\n",
       " 'электронный_ADJ медленно_ADV',\n",
       " '',\n",
       " 'незаконно_ADV другому_ADJ',\n",
       " 'здоровый_ADJ',\n",
       " 'жалобный_ADJ жалобный_ADJ поиду_ADV высоко_ADJ',\n",
       " 'худшии_ADJ постоянно_ADV другом_ADJ адекватный_ADV сомнительно_ADV',\n",
       " 'пенсионный_ADV жалко_ADV',\n",
       " 'приятный_ADJ',\n",
       " 'личный_ADJ вразумительный_ADJ саит_ADJ ненадежный_ADV сомнительный_ADV',\n",
       " 'великолепный_ADJ отдельный_ADJ грамотныи_ADJ',\n",
       " 'металлический_ADJ',\n",
       " 'удобно_ADV расположен_ADJ внутри_ADV',\n",
       " 'долгий_ADJ',\n",
       " 'отзывчивый_ADJ достаточно_ADV быстро_ADV',\n",
       " 'ооооооооооочень_ADV московский_ADJ отдаленный_ADV',\n",
       " 'быстро_ADV четко_ADV',\n",
       " '',\n",
       " 'сегодня_ADV',\n",
       " 'медленныи_ADJ остальные_ADJ весело_ADV больший_ADJ',\n",
       " 'быстрый_ADJ',\n",
       " 'хороший_ADJ маленький_ADJ неудобно_ADV',\n",
       " 'долгий_ADJ небольшой_ADJ',\n",
       " '',\n",
       " 'невесёлый_ADJ профессионально_ADV мрачноватый_ADJ',\n",
       " '',\n",
       " 'маленький_ADJ впритык_ADV постоянный_ADJ',\n",
       " 'хороший_ADJ',\n",
       " 'медленно_ADV',\n",
       " 'вежливый_ADJ корректный_ADJ',\n",
       " 'мобильный_ADJ',\n",
       " 'хороший_ADJ быстрый_ADJ',\n",
       " '',\n",
       " 'несмотря_ADV постоянный_ADJ технический_ADJ',\n",
       " 'внимательный_ADJ грамотный_ADJ большой_ADJ',\n",
       " 'ужасный_ADJ долгий_ADJ электронный_ADJ',\n",
       " 'приятный_ADJ',\n",
       " 'ужасный_ADJ нескончаемый_ADJ мёртвый_ADJ остальные_ADJ быстрый_ADJ',\n",
       " 'профессионально_ADV оперативно_ADV доброжелательно_ADV',\n",
       " '',\n",
       " 'компетентный_ADJ',\n",
       " 'больший_ADJ',\n",
       " 'хороший_ADJ лишний_ADJ',\n",
       " '',\n",
       " '',\n",
       " 'быстренько_ADV постоянный_ADJ равный_ADJ сонный_ADJ серьезно_ADV оперативный_ADV оперативно_ADV',\n",
       " 'обязательно_ADV вместе_ADV',\n",
       " 'кредитный_ADJ нужный_ADJ заново_ADV кредитный_ADJ первый_ADJ частность_ADV кредитный_ADJ',\n",
       " 'удобный_ADJ попутно_ADV компактно_ADV понятно_ADV дебетовый_ADJ быстро_ADV эффективно_ADV',\n",
       " 'нормальный_ADV общительный_ADJ работащеи_ADV',\n",
       " 'полный_ADJ плохой_ADJ нереальный_ADJ',\n",
       " 'нормальныи_ADJ обычный_ADJ',\n",
       " 'неплохоя_ADV',\n",
       " 'некомпитентные_ADJ остальным_ADJ намного_ADV хороший_ADJ общий_ADJ сюда_ADV',\n",
       " 'вынуждена_ADJ повторно_ADV запредельный_ADJ',\n",
       " 'готовый_ADJ дебетовый_ADJ старый_ADJ',\n",
       " 'супер_ADV',\n",
       " 'хороший_ADJ',\n",
       " 'мило_ADV равный_ADJ',\n",
       " 'быстро_ADV',\n",
       " 'большой_ADJ',\n",
       " 'быстро_ADV вежливо_ADV',\n",
       " 'удобный_ADJ чисто_ADV просторно_ADV компетентный_ADJ',\n",
       " 'технический_ADJ',\n",
       " 'хороший_ADJ',\n",
       " 'постоянно_ADV быстрый_ADV горячий_ADJ неприятный_ADJ',\n",
       " 'данным_ADJ удобный_ADJ постоянно_ADV главный_ADJ поздно_ADV практически_ADV',\n",
       " '',\n",
       " '',\n",
       " 'привычный_ADJ каждыи_ADJ',\n",
       " 'хорошии_ADJ',\n",
       " 'быстро_ADV',\n",
       " 'удобный_ADJ единственный_ADV',\n",
       " 'нормальный_ADJ удобный_ADJ',\n",
       " '',\n",
       " 'быстро_ADV четко_ADV практически_ADV',\n",
       " 'достаточно_ADV быстрый_ADJ',\n",
       " 'ужасный_ADJ долгий_ADJ',\n",
       " 'больший_ADJ таковому_ADJ понятный_ADJ',\n",
       " 'отличный_ADJ',\n",
       " 'тесно_ADV',\n",
       " '',\n",
       " '',\n",
       " 'быстро_ADV лёгкий_ADJ прямо_ADV',\n",
       " '',\n",
       " 'лучше_ADV',\n",
       " 'хороший_ADJ грамотный_ADJ',\n",
       " '',\n",
       " 'заработный_ADJ',\n",
       " 'общий_ADJ',\n",
       " 'вечно_ADV грустный_ADJ',\n",
       " 'хороший_ADJ грамотный_ADJ нормальный_ADJ',\n",
       " 'нормальный_ADJ достаточно_ADV приветливый_ADJ',\n",
       " 'особенный_ADJ большои_ADJ',\n",
       " 'вежливый_ADJ грамотный_ADJ',\n",
       " 'наверное_ADV комфортный_ADJ равнодушный_ADV',\n",
       " 'плохой_ADJ',\n",
       " 'обычный_ADV равный_ADJ общий_ADJ',\n",
       " '',\n",
       " '',\n",
       " 'хороший_ADJ',\n",
       " '',\n",
       " 'хороший_ADJ',\n",
       " 'быстро_ADV',\n",
       " 'компетентный_ADJ',\n",
       " 'удобный_ADJ оооооочень_ADV',\n",
       " 'обычный_ADJ',\n",
       " 'замечательный_ADV доброжелательный_ADJ',\n",
       " '',\n",
       " 'постоянный_ADJ',\n",
       " 'безбожно_ADV сюда_ADV входящии_ADV',\n",
       " '',\n",
       " 'чисто_ADV уютно_ADV быстро_ADV',\n",
       " 'хамоватый_ADJ зачастую_ADV',\n",
       " 'медленно_ADV',\n",
       " '',\n",
       " 'хороший_ADV',\n",
       " '',\n",
       " '',\n",
       " 'хороший_ADJ',\n",
       " '',\n",
       " '',\n",
       " 'отличный_ADJ',\n",
       " '',\n",
       " 'клиентский_ADJ ужасный_ADJ',\n",
       " 'вечный_ADJ',\n",
       " 'ужасный_ADJ']"
      ]
     },
     "execution_count": 13,
     "metadata": {},
     "output_type": "execute_result"
    }
   ],
   "source": [
    "corpus_preprocessed"
   ]
  },
  {
   "cell_type": "code",
   "execution_count": 14,
   "metadata": {},
   "outputs": [
    {
     "name": "stderr",
     "output_type": "stream",
     "text": [
      "100%|██████████| 221/221 [00:00<00:00, 1027650.98it/s]\n"
     ]
    }
   ],
   "source": [
    "import torch\n",
    "\n",
    "class Vocab:\n",
    "    def __init__(self, corpus, w2v_model):\n",
    "        self.idx_to_token = {}\n",
    "        self.token_to_idx = {}\n",
    "        self.vocab_len = 0\n",
    "        self.max_seq_len = 0\n",
    "        self.word_vectors = None\n",
    "        self.w2v_model = w2v_model\n",
    "\n",
    "        for sentence in corpus:\n",
    "            self.max_seq_len = max(self.max_seq_len, len(sentence))\n",
    "\n",
    "        # Добавляем токен для неизвестных слов\n",
    "        self.idx_to_token = {0: '<pad>', 1: '<unk>'}\n",
    "        self.token_to_idx = {'<pad>': 0, '<unk>': 1}\n",
    "        self.vocab_len += 1\n",
    "\n",
    "        # # Строим словарь\n",
    "        # for sentence in tqdm(corpus):\n",
    "        #     for word in sentence.split():\n",
    "        #         if word not in self.token_to_idx:\n",
    "        #             if word in list(self.w2v_model.key_to_index):\n",
    "        #                 self.idx_to_token[self.vocab_len] = word\n",
    "        #                 self.token_to_idx[word] = self.vocab_len\n",
    "        #                 self.vocab_len += 1\n",
    "        \n",
    "        with ThreadPool(processes=8) as pool:\n",
    "            # idxs = pool.map(self.build_vocab, set(word for sentence in corpus for word in sentence.split()), chunksize=100)\n",
    "            # # print(1)\n",
    "            # self.vocab_len = len(self.token_to_idx)\n",
    "            # # print(self.vocab_len)\n",
    "            # # pool.close()\n",
    "            # # pool.join()\n",
    "            idxs = list(tqdm(pool.imap(self.build_vocab, set(word for sentence in corpus for word in sentence.split()), chunksize=100), total=len(set(word for sentence in corpus for word in sentence.split()))))\n",
    "            self.vocab_len = len(self.token_to_idx)\n",
    "\n",
    "        # Добавляем векторное представление для каждого слова в словаре\n",
    "        self.word_vectors = torch.zeros((self.vocab_len, self.w2v_model.vector_size))\n",
    "        for i in range(2, self.vocab_len):\n",
    "            word = self.idx_to_token[i]\n",
    "            # print(word)\n",
    "            self.word_vectors[i] = torch.tensor(self.w2v_model.vectors[self.w2v_model.key_to_index[word]])\n",
    "            \n",
    "    # @staticmethod\n",
    "    def build_vocab(self, word):\n",
    "        # print(word)\n",
    "        if word not in self.token_to_idx and word in self.w2v_model.key_to_index:\n",
    "            idx = len(self.token_to_idx)\n",
    "            self.token_to_idx[word] = idx\n",
    "            self.idx_to_token[idx] = word\n",
    "            return idx\n",
    "        else:\n",
    "            return self.token_to_idx.get(word, 1)\n",
    "  \n",
    "vocab = Vocab(corpus_preprocessed, w2v_model)"
   ]
  },
  {
   "cell_type": "code",
   "execution_count": 15,
   "metadata": {},
   "outputs": [
    {
     "data": {
      "text/plain": [
       "['огромный_ADJ']"
      ]
     },
     "execution_count": 15,
     "metadata": {},
     "output_type": "execute_result"
    }
   ],
   "source": [
    "corpus_preprocessed[0].split()"
   ]
  },
  {
   "cell_type": "markdown",
   "metadata": {},
   "source": [
    "keywords после preprocess"
   ]
  },
  {
   "cell_type": "code",
   "execution_count": 18,
   "metadata": {},
   "outputs": [
    {
     "name": "stdout",
     "output_type": "stream",
     "text": [
      "TF-IDF ключевые слова: ['адекватный_adv' 'банковский_adj' 'безбожно_adv' 'благодарный_adj'\n",
      " 'больший_adj' 'большои_adj' 'большой_adj' 'быстренько_adv' 'быстро_adv'\n",
      " 'быстрый_adj' 'быстрый_adv' 'вежливо_adv' 'вежливый_adj'\n",
      " 'великолепный_adj' 'весело_adv' 'вечно_adv' 'вечный_adj' 'видимо_adv'\n",
      " 'виноватый_adj' 'вместе_adv' 'внимательный_adj' 'внутри_adv' 'внятно_adv'\n",
      " 'вообщем_adj' 'впереди_adv' 'впредь_adv' 'впритык_adv'\n",
      " 'вразумительный_adj' 'всей_adv' 'входящии_adv' 'выгодный_adj'\n",
      " 'вынуждена_adj' 'высокий_adj' 'высоко_adj' 'главный_adj' 'горячеи_adj'\n",
      " 'горячий_adj' 'готовый_adj' 'грамотныи_adj' 'грамотный_adj' 'громко_adv'\n",
      " 'грустный_adj' 'данный_adv' 'данным_adj' 'дебетовый_adj' 'длинный_adv'\n",
      " 'доброжелательно_adv' 'доброжелательный_adj' 'довольный_adj' 'долгий_adj'\n",
      " 'дословно_adv' 'достаточно_adv' 'доступный_adj' 'другом_adj'\n",
      " 'другому_adj' 'единственный_adj' 'единственный_adv' 'жалко_adv'\n",
      " 'жалобный_adj' 'жаль_adv' 'желательно_adv' 'замечательный_adv'\n",
      " 'заново_adv' 'запредельный_adj' 'заработный_adj' 'зарплатный_adj'\n",
      " 'зачастую_adv' 'здоровый_adj' 'знакомои_adv' 'изумительный_adj'\n",
      " 'каждыи_adj' 'качественно_adv' 'клиентский_adj' 'компактно_adv'\n",
      " 'компетентный_adj' 'комфортный_adj' 'короткий_adj' 'корректный_adj'\n",
      " 'красный_adj' 'кредитный_adj' 'круглосуточный_adj' 'личный_adj'\n",
      " 'лишний_adj' 'лучше_adv' 'лёгкий_adj' 'маленький_adj' 'медленно_adv'\n",
      " 'медленныи_adj' 'металлический_adj' 'мило_adv' 'минимум_adv'\n",
      " 'мобильный_adj' 'московский_adj' 'мрачноватый_adj' 'мёртвый_adj'\n",
      " 'наверное_adv' 'надёжный_adj' 'намного_adv' 'небольшой_adj'\n",
      " 'невесёлый_adj' 'незаконно_adv' 'некомпитентные_adj' 'ненадежный_adv'\n",
      " 'неоднократно_adv' 'неплохоя_adv' 'неприятный_adj' 'нереальный_adj'\n",
      " 'нескончаемый_adj' 'несмотря_adv' 'неудобно_adv' 'никакои_adj'\n",
      " 'новый_adj' 'новыя_adv' 'нормальныи_adj' 'нормальный_adj'\n",
      " 'нормальный_adv' 'нужный_adj' 'обхадительны_adj' 'общий_adj'\n",
      " 'общительный_adj' 'обычный_adj' 'обычный_adv' 'обязательно_adv'\n",
      " 'огромный_adj' 'окошко_adj' 'ооооооооооочень_adv' 'оооооочень_adv'\n",
      " 'оперативно_adv' 'оперативный_adv' 'опытный_adj' 'особенный_adj'\n",
      " 'особый_adj' 'остальные_adj' 'остальным_adj' 'отвратительный_adj'\n",
      " 'отдаленный_adv' 'отдельный_adj' 'отзывчивый_adj' 'отлично_adv'\n",
      " 'отличный_adj' 'очередной_adj' 'паспортный_adj' 'пенсионный_adv'\n",
      " 'первый_adj' 'плохой_adj' 'повторно_adv' 'подробно_adv' 'поздно_adv'\n",
      " 'позитивный_adv' 'поиду_adv' 'полный_adj' 'положительный_adj'\n",
      " 'понимающие_adj' 'понятно_adv' 'понятный_adj' 'попутно_adv'\n",
      " 'постоянно_adv' 'постоянный_adj' 'практически_adv' 'предыдущий_adj'\n",
      " 'прекрасный_adv' 'приветливый_adj' 'привычный_adj' 'признательный_adj'\n",
      " 'приятный_adj' 'приятный_adv' 'просторно_adv' 'профессионально_adv'\n",
      " 'прошлый_adj' 'прямо_adv' 'работащеи_adv' 'равнодушный_adv' 'равный_adj'\n",
      " 'рад_adj' 'разный_adj' 'расплывчатый_adv' 'расположен_adj'\n",
      " 'расположенное_adj' 'саит_adj' 'самым_adj' 'свободный_adj' 'своеи_adv'\n",
      " 'сегодня_adv' 'серьезно_adv' 'сильный_adj' 'слабовато_adv'\n",
      " 'следующий_adj' 'смешной_adj' 'совершенно_adv' 'солнечногорский_adj'\n",
      " 'сомнительно_adv' 'сомнительный_adv' 'сонный_adj' 'средний_adj'\n",
      " 'старый_adj' 'столько_adv' 'супер_adv' 'сюда_adv' 'таковому_adj'\n",
      " 'тактичный_adj' 'твёрдый_adj' 'тесно_adv' 'технический_adj' 'трудный_adj'\n",
      " 'уважаемый_adj' 'удобно_adv' 'удобный_adj' 'ужасный_adj' 'уютно_adv'\n",
      " 'хамоватый_adj' 'хорошии_adj' 'хороший_adj' 'хороший_adv' 'худшии_adj'\n",
      " 'центральный_adj' 'частность_adv' 'человеческий_adj' 'четко_adv'\n",
      " 'чисто_adv' 'электронный_adj' 'эффективно_adv']\n"
     ]
    }
   ],
   "source": [
    "from sklearn.feature_extraction.text import TfidfVectorizer\n",
    "\n",
    "# Инициализация TfidfVectorizer\n",
    "tfidf_vectorizer = TfidfVectorizer()\n",
    "\n",
    "# Преобразование текста в TF-IDF матрицу\n",
    "tfidf_matrix = tfidf_vectorizer.fit_transform(corpus_preprocessed)\n",
    "\n",
    "# Получение списка ключевых слов\n",
    "tfidf_keywords = tfidf_vectorizer.get_feature_names_out()\n",
    "\n",
    "print(\"TF-IDF ключевые слова:\", tfidf_keywords)"
   ]
  },
  {
   "cell_type": "code",
   "execution_count": 45,
   "metadata": {},
   "outputs": [
    {
     "name": "stdout",
     "output_type": "stream",
     "text": [
      "Word2Vec ключевые слова: ['хороший_ADJ', 'быстро_ADV', 'удобный_ADJ', 'быстрый_ADJ', 'общий_ADJ', 'ужасный_ADJ', 'кредитный_ADJ', 'приятный_ADJ', 'нормальный_ADJ', 'долгий_ADJ', 'отличный_ADJ', 'больший_ADJ', 'вежливый_ADJ', 'медленно_ADV', 'каждыи_ADJ', 'постоянный_ADJ', 'четко_ADV', 'электронный_ADJ', 'грамотный_ADJ', 'достаточно_ADV', 'компетентный_ADJ', 'постоянно_ADV', 'внимательный_ADJ', 'маленький_ADJ', 'отзывчивый_ADJ', 'лишний_ADJ', 'сюда_ADV', 'приятный_ADV', 'равный_ADJ', 'плохой_ADJ', 'большой_ADJ', 'понятный_ADJ', 'виноватый_ADJ', 'оперативно_ADV', 'отдельный_ADJ', 'удобно_ADV', 'остальные_ADJ', 'технический_ADJ', 'горячий_ADJ', 'нужный_ADJ', 'замечательный_ADV', 'приветливый_ADJ', 'профессионально_ADV', 'средний_ADJ', 'единственный_ADJ', 'неудобно_ADV', 'грамотныи_ADJ', 'своеи_ADV', 'отвратительный_ADJ', 'полный_ADJ', 'жалобный_ADJ', 'небольшой_ADJ', 'супер_ADV', 'сегодня_ADV', 'дебетовый_ADJ', 'расположен_ADJ', 'доступный_ADJ', 'подробно_ADV', 'чисто_ADV', 'практически_ADV', 'главный_ADJ', 'обычный_ADJ', 'новый_ADJ', 'хорошии_ADJ', 'вежливо_ADV', 'жаль_ADV', 'столько_ADV', 'дословно_ADV', 'громко_ADV', 'предыдущий_ADJ', 'огромный_ADJ', 'высокий_ADJ', 'расположенное_ADJ', 'довольный_ADJ', 'свободный_ADJ', 'никакои_ADJ', 'сильный_ADJ', 'солнечногорский_ADJ', 'красный_ADJ', 'впереди_ADV', 'зарплатный_ADJ', 'разный_ADJ', 'неоднократно_ADV', 'круглосуточный_ADJ', 'смешной_ADJ', 'паспортный_ADJ', 'впредь_ADV', 'рад_ADJ', 'горячеи_ADJ', 'прошлый_ADJ', 'длинный_ADV', 'качественно_ADV', 'знакомои_ADV', 'окошко_ADJ', 'совершенно_ADV', 'желательно_ADV', 'очередной_ADJ', 'видимо_ADV', 'отлично_ADV', 'опытный_ADJ', 'прекрасный_ADV', 'человеческий_ADJ', 'положительный_ADJ', 'благодарный_ADJ', 'признательный_ADJ', 'тактичный_ADJ', 'позитивный_ADV', 'понимающие_ADJ', 'банковский_ADJ', 'данный_ADV', 'уважаемый_ADJ', 'новыя_ADV', 'обхадительны_ADJ', 'выгодный_ADJ', 'короткий_ADJ', 'расплывчатый_ADV', 'слабовато_ADV', 'внятно_ADV', 'клиентский_ADJ', 'твёрдый_ADJ', 'компактно_ADV', 'таковому_ADJ', 'просторно_ADV', 'поздно_ADV', 'данным_ADJ', 'мило_ADV', 'намного_ADV', 'остальным_ADJ', 'некомпитентные_ADJ', 'эффективно_ADV', 'понятно_ADV', 'попутно_ADV', 'неприятный_ADJ', 'работащеи_ADV', 'общительный_ADJ', 'нормальный_ADV', 'запредельный_ADJ', 'повторно_ADV', 'вынуждена_ADJ', 'нормальныи_ADJ', 'нереальный_ADJ', 'мёртвый_ADJ', 'нескончаемый_ADJ', 'быстрый_ADV', 'неплохоя_ADV', 'особый_ADJ', 'наверное_ADV', 'хороший_ADV', 'уютно_ADV', 'зачастую_ADV', 'хамоватый_ADJ', 'входящии_ADV', 'безбожно_ADV', 'оооооочень_ADV', 'доброжелательный_ADJ', 'равнодушный_ADV', 'комфортный_ADJ', 'большои_ADJ', 'единственный_ADV', 'особенный_ADJ', 'привычный_ADJ', 'обычный_ADV', 'грустный_ADJ', 'вечно_ADV', 'заработный_ADJ', 'лучше_ADV', 'прямо_ADV', 'лёгкий_ADJ', 'тесно_ADV', 'вместе_ADV', 'обязательно_ADV', 'старый_ADJ', 'здоровый_ADJ', 'московский_ADJ', 'ооооооооооочень_ADV', 'высоко_ADJ', 'поиду_ADV', 'вообщем_ADJ', 'центральный_ADJ', 'сомнительно_ADV', 'адекватный_ADV', 'другом_ADJ', 'худшии_ADJ', 'другому_ADJ', 'готовый_ADJ', 'незаконно_ADV', 'минимум_ADV', 'всей_ADV', 'вечный_ADJ', 'пенсионный_ADV', 'следующий_ADJ', 'трудный_ADJ', 'надёжный_ADJ', 'самым_ADJ', 'изумительный_ADJ', 'отдаленный_ADV', 'металлический_ADJ', 'внутри_ADV', 'великолепный_ADJ', 'оперативный_ADV', 'серьезно_ADV', 'сонный_ADJ', 'быстренько_ADV', 'частность_ADV', 'первый_ADJ', 'заново_ADV', 'несмотря_ADV', 'доброжелательно_ADV', 'мобильный_ADJ', 'весело_ADV', 'медленныи_ADJ', 'впритык_ADV', 'сомнительный_ADV', 'ненадежный_ADV', 'саит_ADJ', 'вразумительный_ADJ', 'личный_ADJ', 'корректный_ADJ', 'мрачноватый_ADJ', 'невесёлый_ADJ', 'жалко_ADV']\n"
     ]
    }
   ],
   "source": [
    "from nltk.tokenize import word_tokenize\n",
    "\n",
    "# Предполагая, что у вас уже есть DataFrame data и столбец \"company_reviews\" внутри него\n",
    "\n",
    "# Токенизация текста\n",
    "tokenized_reviews = [word_tokenize(review) for review in corpus_preprocessed]\n",
    "\n",
    "# Построение модели Word2Vec\n",
    "word2vec_model = Word2Vec(sentences=tokenized_reviews, vector_size=100, window=5, min_count=1, sg=0)\n",
    "\n",
    "# Получение ключевых слов с использованием Word2Vec\n",
    "word2vec_keywords = word2vec_model.wv.index_to_key\n",
    "\n",
    "print(\"Word2Vec ключевые слова:\", word2vec_keywords)"
   ]
  },
  {
   "cell_type": "code",
   "execution_count": 46,
   "metadata": {},
   "outputs": [
    {
     "name": "stdout",
     "output_type": "stream",
     "text": [
      "Кластер 3: удобный_ADJ расположенное_ADJ вежливый_ADJ внимательный_ADJ, хорошии_ADJ быстро_ADV подробно_ADV понятный_ADJ впредь_ADV, удобный_ADJ круглосуточный_ADJ неоднократно_ADV разный_ADJ приятный_ADV главный_ADJ, больший_ADJ быстрый_ADJ высокий_ADJ, огромный_ADJ, ужасный_ADJ предыдущий_ADJ громко_ADV дословно_ADV столько_ADV общий_ADJ зарплатный_ADJ новый_ADJ, приятный_ADJ слабовато_ADV расплывчатый_ADV понятный_ADJ новыя_ADV уважаемый_ADJ четко_ADV быстро_ADV четко_ADV лишний_ADJ, приятный_ADJ отзывчивый_ADJ внимательный_ADJ понимающие_ADJ вежливый_ADJ компетентный_ADJ достаточно_ADV тактичный_ADJ подробно_ADV признательный_ADJ благодарный_ADJ приятный_ADJ положительный_ADJ человеческий_ADJ, ужасный_ADJ видимо_ADV желательно_ADV, внимательный_ADJ совершенно_ADV знакомои_ADV быстрый_ADJ, удобный_ADJ вежливо_ADV, , быстро_ADV качественно_ADV лишний_ADJ доступный_ADJ, общий_ADJ неудобно_ADV сюда_ADV виноватый_ADJ вежливый_ADJ, приятный_ADV быстро_ADV внятно_ADV окошко_ADJ общий_ADJ нормальный_ADJ, очередной_ADJ медленно_ADV горячий_ADJ опытный_ADJ, прекрасный_ADV, отличный_ADJ отдельный_ADJ приятный_ADV позитивный_ADV новый_ADJ банковский_ADJ данный_ADV, замечательный_ADV, электронный_ADJ нужный_ADJ, обхадительны_ADJ выгодный_ADJ, быстрый_ADJ приятный_ADJ средний_ADJ единственный_ADJ прошлый_ADJ, грамотныи_ADJ длинный_ADV своеи_ADV больший_ADJ, каждыи_ADJ, виноватый_ADJ, отвратительный_ADJ полный_ADJ, , плохой_ADJ довольный_ADJ свободный_ADJ никакои_ADJ быстро_ADV солнечногорский_ADJ, кредитный_ADJ красный_ADJ кредитный_ADJ кредитный_ADJ впереди_ADV горячеи_ADJ смешной_ADJ, паспортный_ADJ, , жаль_ADV, единственный_ADJ электронный_ADJ, средний_ADJ, , большой_ADJ, твёрдый_ADJ особый_ADJ изумительный_ADJ доступный_ADJ быстро_ADV самым_ADJ надёжный_ADJ трудный_ADJ, следующий_ADJ общий_ADJ своеи_ADV отвратительный_ADJ, пенсионный_ADV жалко_ADV, , всей_ADV минимум_ADV каждыи_ADJ маленький_ADJ каждыи_ADJ сегодня_ADV долгий_ADJ, электронный_ADJ медленно_ADV, незаконно_ADV другому_ADJ, здоровый_ADJ, худшии_ADJ постоянно_ADV другом_ADJ адекватный_ADV сомнительно_ADV, центральный_ADJ медленно_ADV постоянно_ADV вообщем_ADJ, сегодня_ADV, приятный_ADJ, жалобный_ADJ жалобный_ADJ поиду_ADV высоко_ADJ, ооооооооооочень_ADV московский_ADJ отдаленный_ADV, металлический_ADJ, , удобно_ADV расположен_ADJ внутри_ADV, долгий_ADJ, великолепный_ADJ отдельный_ADJ грамотныи_ADJ, долгий_ADJ небольшой_ADJ, быстрый_ADJ, хороший_ADJ маленький_ADJ неудобно_ADV, невесёлый_ADJ профессионально_ADV мрачноватый_ADJ, вежливый_ADJ корректный_ADJ, личный_ADJ вразумительный_ADJ саит_ADJ ненадежный_ADV сомнительный_ADV, , маленький_ADJ впритык_ADV постоянный_ADJ, , медленныи_ADJ остальные_ADJ весело_ADV больший_ADJ, медленно_ADV, мобильный_ADJ, приятный_ADJ, внимательный_ADJ грамотный_ADJ большой_ADJ, профессионально_ADV оперативно_ADV доброжелательно_ADV, несмотря_ADV постоянный_ADJ технический_ADJ, , ужасный_ADJ долгий_ADJ электронный_ADJ, компетентный_ADJ, больший_ADJ, , кредитный_ADJ нужный_ADJ заново_ADV кредитный_ADJ первый_ADJ частность_ADV кредитный_ADJ, быстренько_ADV постоянный_ADJ равный_ADJ сонный_ADJ серьезно_ADV оперативный_ADV оперативно_ADV, , готовый_ADJ дебетовый_ADJ старый_ADJ, , обязательно_ADV вместе_ADV, ужасный_ADJ нескончаемый_ADJ мёртвый_ADJ остальные_ADJ быстрый_ADJ, полный_ADJ плохой_ADJ нереальный_ADJ, нормальныи_ADJ обычный_ADJ, вынуждена_ADJ повторно_ADV запредельный_ADJ, нормальный_ADV общительный_ADJ работащеи_ADV, удобный_ADJ попутно_ADV компактно_ADV понятно_ADV дебетовый_ADJ быстро_ADV эффективно_ADV, некомпитентные_ADJ остальным_ADJ намного_ADV хороший_ADJ общий_ADJ сюда_ADV, супер_ADV, большой_ADJ, мило_ADV равный_ADJ, данным_ADJ удобный_ADJ постоянно_ADV главный_ADJ поздно_ADV практически_ADV, удобный_ADJ чисто_ADV просторно_ADV компетентный_ADJ, технический_ADJ, , больший_ADJ таковому_ADJ понятный_ADJ, постоянно_ADV быстрый_ADV горячий_ADJ неприятный_ADJ, ужасный_ADJ долгий_ADJ, , неплохоя_ADV, хорошии_ADJ, , удобный_ADJ единственный_ADV, , достаточно_ADV быстрый_ADJ, тесно_ADV, , , лучше_ADV, общий_ADJ, заработный_ADJ, вечно_ADV грустный_ADJ, , обычный_ADV равный_ADJ общий_ADJ, привычный_ADJ каждыи_ADJ, особенный_ADJ большои_ADJ, , вежливый_ADJ грамотный_ADJ, плохой_ADJ, наверное_ADV комфортный_ADJ равнодушный_ADV, обычный_ADJ, компетентный_ADJ, , , замечательный_ADV доброжелательный_ADJ, удобный_ADJ оооооочень_ADV, , , , безбожно_ADV сюда_ADV входящии_ADV, хамоватый_ADJ зачастую_ADV, , постоянный_ADJ, , , хороший_ADV, медленно_ADV, , , вечный_ADJ, клиентский_ADJ ужасный_ADJ, ужасный_ADJ\n",
      "Кластер 1: хороший_ADJ отлично_ADV, хороший_ADJ быстрый_ADJ, хороший_ADJ приветливый_ADJ хороший_ADJ хороший_ADJ рад_ADJ, хороший_ADJ хороший_ADJ, хороший_ADJ, хороший_ADJ быстрый_ADJ, хороший_ADJ лишний_ADJ, хороший_ADJ, хороший_ADJ, хороший_ADJ грамотный_ADJ, хороший_ADJ, хороший_ADJ, хороший_ADJ\n",
      "Кластер 4: быстрый_ADJ отличный_ADJ короткий_ADJ, отличный_ADJ сильный_ADJ отзывчивый_ADJ, отличный_ADJ, отличный_ADJ\n",
      "Кластер 2: нормальный_ADJ кредитный_ADJ, нормальный_ADJ удобный_ADJ, нормальный_ADJ достаточно_ADV приветливый_ADJ, хороший_ADJ грамотный_ADJ нормальный_ADJ\n",
      "Кластер 5: быстро_ADV супер_ADV, небольшой_ADJ быстро_ADV, удобно_ADV расположен_ADJ быстро_ADV, быстро_ADV четко_ADV, отзывчивый_ADJ достаточно_ADV быстро_ADV, быстро_ADV, быстро_ADV вежливо_ADV, быстро_ADV, быстро_ADV четко_ADV практически_ADV, быстро_ADV лёгкий_ADJ прямо_ADV, быстро_ADV, чисто_ADV уютно_ADV быстро_ADV\n"
     ]
    }
   ],
   "source": [
    "from sklearn.cluster import KMeans\n",
    "from sklearn.feature_extraction.text import TfidfVectorizer\n",
    "\n",
    "# Предполагая, что у вас уже есть список слов words\n",
    "\n",
    "# Преобразование слов в TF-IDF векторы\n",
    "tfidf_vectorizer = TfidfVectorizer()\n",
    "tfidf_matrix = tfidf_vectorizer.fit_transform(corpus_preprocessed)\n",
    "\n",
    "# Кластеризация слов с использованием KMeans\n",
    "num_clusters = 5  # Выберите количество кластеров\n",
    "kmeans = KMeans(n_clusters=num_clusters)\n",
    "kmeans.fit(tfidf_matrix)\n",
    "\n",
    "# Получение меток кластеров для каждого слова\n",
    "cluster_labels = kmeans.labels_\n",
    "\n",
    "# Создание словаря, где ключи - метки кластеров, а значения - соответствующие слова\n",
    "clustered_words = {}\n",
    "for i, word in enumerate(corpus_preprocessed):\n",
    "    cluster_label = cluster_labels[i]\n",
    "    if cluster_label not in clustered_words:\n",
    "        clustered_words[cluster_label] = []\n",
    "    clustered_words[cluster_label].append(word)\n",
    "\n",
    "# Вывод слов в каждом кластере\n",
    "for cluster_label, words_in_cluster in clustered_words.items():\n",
    "    print(f\"Кластер {cluster_label + 1}: {', '.join(words_in_cluster)}\")"
   ]
  },
  {
   "cell_type": "code",
   "execution_count": 53,
   "metadata": {},
   "outputs": [],
   "source": [
    "# # Предполагая, что у вас уже есть обученная модель Word2Vec word2vec_model\n",
    "\n",
    "# # Определение главного слова в каждом кластере\n",
    "# for cluster_label, words_in_cluster in clustered_words.items():\n",
    "#     cluster_center = kmeans.cluster_centers_[cluster_label]\n",
    "#     main_word = None\n",
    "#     min_distance = float('inf')\n",
    "    \n",
    "#     for word in words_in_cluster:\n",
    "#         if word in word2vec_model.wv:\n",
    "#             word_vector = word2vec_model.wv[word]\n",
    "#             print(word_vector.shape)\n",
    "#             print(cluster_center.shape)\n",
    "#             distance = word2vec_model.wv.cosine_similarities(cluster_center, [word_vector])[0]\n",
    "            \n",
    "#             if distance < min_distance:\n",
    "#                 min_distance = distance\n",
    "#                 main_word = word\n",
    "    \n",
    "#     print(f\"Главное слово в кластере {cluster_label + 1}: {main_word}\")"
   ]
  },
  {
   "cell_type": "code",
   "execution_count": 47,
   "metadata": {},
   "outputs": [
    {
     "name": "stdout",
     "output_type": "stream",
     "text": [
      "Главное слово в кластере 2: [('большой_ADJ', 0.49391502141952515)]\n",
      "Главное слово в кластере 0: [('хороший_ADJ', 1.0)]\n",
      "Главное слово в кластере 3: [('отличный_ADJ', 0.9999999403953552)]\n",
      "Кластер 2 пуст\n",
      "Главное слово в кластере 4: [('быстро_ADV', 1.0)]\n"
     ]
    }
   ],
   "source": [
    "import numpy as np\n",
    "\n",
    "# Определение главного слова в каждом кластере\n",
    "for cluster_label, words_in_cluster in clustered_words.items():\n",
    "    cluster_word_vectors = []\n",
    "    \n",
    "    # Получение векторов слов в кластере\n",
    "    for word in words_in_cluster:\n",
    "        if word in word2vec_model.wv:\n",
    "            word_vector = word2vec_model.wv[word]\n",
    "            cluster_word_vectors.append(word_vector)\n",
    "    \n",
    "    # Усреднение векторов слов в кластере\n",
    "    if cluster_word_vectors:\n",
    "        cluster_mean_vector = np.mean(cluster_word_vectors, axis=0)\n",
    "        \n",
    "        # Нахождение ближайшего слова к усредненному вектору кластера\n",
    "        main_word = word2vec_model.wv.similar_by_vector(cluster_mean_vector, topn=1)\n",
    "        print(f\"Главное слово в кластере {cluster_label}: {main_word}\")\n",
    "    else:\n",
    "        print(f\"Кластер {cluster_label + 1} пуст\")"
   ]
  },
  {
   "cell_type": "code",
   "execution_count": 39,
   "metadata": {},
   "outputs": [
    {
     "data": {
      "text/plain": [
       "<gensim.models.keyedvectors.KeyedVectors at 0x7efbce2b7e80>"
      ]
     },
     "execution_count": 39,
     "metadata": {},
     "output_type": "execute_result"
    }
   ],
   "source": [
    "word2vec_model.wv"
   ]
  },
  {
   "cell_type": "markdown",
   "metadata": {},
   "source": [
    "предобученный"
   ]
  },
  {
   "cell_type": "code",
   "execution_count": 35,
   "metadata": {},
   "outputs": [],
   "source": [
    "w2v_model = KeyedVectors.load_word2vec_format('data/ruscorpora_upos_cbow_300_20_2019.bin', binary=True)"
   ]
  },
  {
   "cell_type": "code",
   "execution_count": 48,
   "metadata": {},
   "outputs": [
    {
     "name": "stdout",
     "output_type": "stream",
     "text": [
      "Главное слово в кластере 2: [('большой_ADJ', 0.6397353410720825)]\n",
      "Главное слово в кластере 0: [('хороший_ADJ', 1.0)]\n",
      "Главное слово в кластере 3: [('отличный_ADJ', 1.0)]\n",
      "Кластер 1 пуст\n",
      "Главное слово в кластере 4: [('быстро_ADV', 1.0000001192092896)]\n"
     ]
    }
   ],
   "source": [
    "import numpy as np\n",
    "\n",
    "\n",
    "# Определение главного слова в каждом кластере\n",
    "for cluster_label, words_in_cluster in clustered_words.items():\n",
    "    cluster_word_vectors = []\n",
    "    \n",
    "    # Получение векторов слов в кластере\n",
    "    for word in words_in_cluster:\n",
    "        if word in w2v_model:\n",
    "            word_vector = w2v_model[word]\n",
    "            cluster_word_vectors.append(word_vector)\n",
    "    \n",
    "    # Усреднение векторов слов в кластере\n",
    "    if cluster_word_vectors:\n",
    "        cluster_mean_vector = np.mean(cluster_word_vectors, axis=0)\n",
    "        \n",
    "        # Нахождение ближайшего слова к усредненному вектору кластера\n",
    "        main_word = w2v_model.similar_by_vector(cluster_mean_vector, topn=1)\n",
    "        print(f\"Главное слово в кластере {cluster_label}: {main_word}\")\n",
    "    else:\n",
    "        print(f\"Кластер {cluster_label} пуст\")"
   ]
  },
  {
   "cell_type": "markdown",
   "metadata": {},
   "source": [
    "попробовать YAKE"
   ]
  },
  {
   "cell_type": "code",
   "execution_count": 59,
   "metadata": {},
   "outputs": [
    {
     "data": {
      "text/plain": [
       "[('Услугами банка пользуюсь', 0.003598201281611919),\n",
       " ('сотрудником Гриценко Александром', 0.019994370619288306),\n",
       " ('нареканий и проблем', 0.020701750725253792),\n",
       " ('пользуюсь несколько лет,без', 0.02851042659400198),\n",
       " ('лет,без нареканий', 0.02851042659400198),\n",
       " ('понимающие сотрудники.На днях', 0.10836240660745114),\n",
       " ('работают отзывчивые', 0.15363073640448252),\n",
       " ('оформления вклада', 0.15363073640448252),\n",
       " ('банка', 0.16649358639237494),\n",
       " ('днях обратилась', 0.20158607573633872)]"
      ]
     },
     "execution_count": 59,
     "metadata": {},
     "output_type": "execute_result"
    }
   ],
   "source": [
    "import yake\n",
    "\n",
    "extractor = yake.KeywordExtractor(\n",
    "    lan = \"ru\",     # язык\n",
    "    n = 3,          # максимальное количество слов в фразе\n",
    "    dedupLim = 0.3, # порог похожести слов\n",
    "    top = 10        # количество ключевых слов\n",
    ")\n",
    "\n",
    "extractor.extract_keywords(data[\"text\"][0])"
   ]
  },
  {
   "cell_type": "code",
   "execution_count": 1,
   "metadata": {},
   "outputs": [
    {
     "ename": "NameError",
     "evalue": "name 'tfidf_matrix' is not defined",
     "output_type": "error",
     "traceback": [
      "\u001b[0;31m---------------------------------------------------------------------------\u001b[0m",
      "\u001b[0;31mNameError\u001b[0m                                 Traceback (most recent call last)",
      "\u001b[1;32m/home/noble6/DEV/moretech-MobileMap/ml/review_analysis.ipynb Cell 48\u001b[0m line \u001b[0;36m6\n\u001b[1;32m      <a href='vscode-notebook-cell:/home/noble6/DEV/moretech-MobileMap/ml/review_analysis.ipynb#X65sZmlsZQ%3D%3D?line=3'>4</a>\u001b[0m \u001b[39m# Преобразование TF-IDF матрицы в двумерное пространство с использованием t-SNE\u001b[39;00m\n\u001b[1;32m      <a href='vscode-notebook-cell:/home/noble6/DEV/moretech-MobileMap/ml/review_analysis.ipynb#X65sZmlsZQ%3D%3D?line=4'>5</a>\u001b[0m tsne \u001b[39m=\u001b[39m TSNE(n_components\u001b[39m=\u001b[39m\u001b[39m2\u001b[39m, random_state\u001b[39m=\u001b[39m\u001b[39m42\u001b[39m)\n\u001b[0;32m----> <a href='vscode-notebook-cell:/home/noble6/DEV/moretech-MobileMap/ml/review_analysis.ipynb#X65sZmlsZQ%3D%3D?line=5'>6</a>\u001b[0m tsne_representation \u001b[39m=\u001b[39m tsne\u001b[39m.\u001b[39mfit_transform(tfidf_matrix)\n\u001b[1;32m      <a href='vscode-notebook-cell:/home/noble6/DEV/moretech-MobileMap/ml/review_analysis.ipynb#X65sZmlsZQ%3D%3D?line=7'>8</a>\u001b[0m \u001b[39m# Визуализация кластеров на графике\u001b[39;00m\n\u001b[1;32m      <a href='vscode-notebook-cell:/home/noble6/DEV/moretech-MobileMap/ml/review_analysis.ipynb#X65sZmlsZQ%3D%3D?line=8'>9</a>\u001b[0m plt\u001b[39m.\u001b[39mfigure(figsize\u001b[39m=\u001b[39m(\u001b[39m20\u001b[39m, \u001b[39m20\u001b[39m))\n",
      "\u001b[0;31mNameError\u001b[0m: name 'tfidf_matrix' is not defined"
     ]
    }
   ],
   "source": [
    "from sklearn.manifold import TSNE\n",
    "import matplotlib.pyplot as plt\n",
    "\n",
    "# Преобразование TF-IDF матрицы в двумерное пространство с использованием t-SNE\n",
    "tsne = TSNE(n_components=2, random_state=42)\n",
    "tsne_representation = tsne.fit_transform(tfidf_matrix)\n",
    "\n",
    "# Визуализация кластеров на графике\n",
    "plt.figure(figsize=(20, 20))\n",
    "for i in range(num_clusters):\n",
    "    cluster_words = np.array(corpus_preprocessed)[cluster_labels == i]  # Получаем слова в текущем кластере\n",
    "    cluster_points = tsne_representation[cluster_labels == i]  # Получаем точки в текущем кластере\n",
    "    plt.scatter(cluster_points[:, 0], cluster_points[:, 1], label=f'Кластер {i+1}', alpha=0.7)\n",
    "    # Добавляем названия некоторых слов к точкам для наглядности\n",
    "    for word, (x, y) in zip(cluster_words[:2], cluster_points[:2]):\n",
    "        plt.text(x, y, word, fontsize=10)\n",
    "plt.legend()\n",
    "plt.title('Визуализация кластеров с использованием t-SNE')\n",
    "plt.xlabel('t-SNE компонента 1')\n",
    "plt.ylabel('t-SNE компонента 2')\n",
    "plt.show()"
   ]
  },
  {
   "cell_type": "markdown",
   "metadata": {},
   "source": [
    "bigram-trigram там где может быть нужно"
   ]
  },
  {
   "cell_type": "code",
   "execution_count": null,
   "metadata": {},
   "outputs": [],
   "source": []
  },
  {
   "cell_type": "markdown",
   "metadata": {},
   "source": [
    "Пробуем создать векторные представления слов с помощью word2vec модели"
   ]
  },
  {
   "cell_type": "code",
   "execution_count": 19,
   "metadata": {},
   "outputs": [],
   "source": [
    "w2v_model = KeyedVectors.load_word2vec_format('data/ruscorpora_upos_cbow_300_20_2019.bin', binary=True)\n",
    "\n"
   ]
  },
  {
   "cell_type": "code",
   "execution_count": 20,
   "metadata": {},
   "outputs": [
    {
     "name": "stderr",
     "output_type": "stream",
     "text": [
      "100%|██████████| 221/221 [00:00<00:00, 1606483.85it/s]\n"
     ]
    }
   ],
   "source": [
    "import torch\n",
    "\n",
    "class Vocab:\n",
    "    def __init__(self, corpus, w2v_model):\n",
    "        self.idx_to_token = {}\n",
    "        self.token_to_idx = {}\n",
    "        self.vocab_len = 0\n",
    "        self.max_seq_len = 0\n",
    "        self.word_vectors = None\n",
    "        self.w2v_model = w2v_model\n",
    "\n",
    "        for sentence in corpus:\n",
    "            self.max_seq_len = max(self.max_seq_len, len(sentence))\n",
    "\n",
    "        # Добавляем токен для неизвестных слов\n",
    "        self.idx_to_token = {0: '<pad>', 1: '<unk>'}\n",
    "        self.token_to_idx = {'<pad>': 0, '<unk>': 1}\n",
    "        self.vocab_len += 1\n",
    "\n",
    "        # # Строим словарь\n",
    "        # for sentence in tqdm(corpus):\n",
    "        #     for word in sentence.split():\n",
    "        #         if word not in self.token_to_idx:\n",
    "        #             if word in list(self.w2v_model.key_to_index):\n",
    "        #                 self.idx_to_token[self.vocab_len] = word\n",
    "        #                 self.token_to_idx[word] = self.vocab_len\n",
    "        #                 self.vocab_len += 1\n",
    "        \n",
    "        with ThreadPool(processes=8) as pool:\n",
    "            # idxs = pool.map(self.build_vocab, set(word for sentence in corpus for word in sentence.split()), chunksize=100)\n",
    "            # # print(1)\n",
    "            # self.vocab_len = len(self.token_to_idx)\n",
    "            # # print(self.vocab_len)\n",
    "            # # pool.close()\n",
    "            # # pool.join()\n",
    "            idxs = list(tqdm(pool.imap(self.build_vocab, set(word for sentence in corpus for word in sentence.split()), chunksize=100), total=len(set(word for sentence in corpus for word in sentence.split()))))\n",
    "            self.vocab_len = len(self.token_to_idx)\n",
    "\n",
    "        # Добавляем векторное представление для каждого слова в словаре\n",
    "        self.word_vectors = torch.zeros((self.vocab_len, self.w2v_model.vector_size))\n",
    "        for i in range(2, self.vocab_len):\n",
    "            word = self.idx_to_token[i]\n",
    "            # print(word)\n",
    "            self.word_vectors[i] = torch.tensor(self.w2v_model.vectors[self.w2v_model.key_to_index[word]])\n",
    "            \n",
    "    # @staticmethod\n",
    "    def build_vocab(self, word):\n",
    "        # print(word)\n",
    "        if word not in self.token_to_idx and word in self.w2v_model.key_to_index:\n",
    "            idx = len(self.token_to_idx)\n",
    "            self.token_to_idx[word] = idx\n",
    "            self.idx_to_token[idx] = word\n",
    "            return idx\n",
    "        else:\n",
    "            return self.token_to_idx.get(word, 1)\n",
    "  \n",
    "vocab = Vocab(corpus_preprocessed, w2v_model)"
   ]
  },
  {
   "cell_type": "code",
   "execution_count": 26,
   "metadata": {},
   "outputs": [
    {
     "data": {
      "text/plain": [
       "{'<pad>': 0,\n",
       " '<unk>': 1,\n",
       " 'грамотный_ADJ': 2,\n",
       " 'понятно_ADV': 3,\n",
       " 'дебетовый_ADJ': 4,\n",
       " 'неоднократно_ADV': 5,\n",
       " 'вечно_ADV': 6,\n",
       " 'несмотря_ADV': 7,\n",
       " 'небольшой_ADJ': 8,\n",
       " 'хамоватый_ADJ': 9,\n",
       " 'отличный_ADJ': 10,\n",
       " 'центральный_ADJ': 11,\n",
       " 'личный_ADJ': 12,\n",
       " 'компактно_ADV': 13,\n",
       " 'громко_ADV': 14,\n",
       " 'плохой_ADJ': 15,\n",
       " 'больший_ADJ': 16,\n",
       " 'незаконно_ADV': 17,\n",
       " 'горячий_ADJ': 18,\n",
       " 'тактичный_ADJ': 19,\n",
       " 'вежливо_ADV': 20,\n",
       " 'равный_ADJ': 21,\n",
       " 'главный_ADJ': 22,\n",
       " 'доброжелательный_ADJ': 23,\n",
       " 'качественно_ADV': 24,\n",
       " 'комфортный_ADJ': 25,\n",
       " 'поздно_ADV': 26,\n",
       " 'наверное_ADV': 27,\n",
       " 'отлично_ADV': 28,\n",
       " 'мобильный_ADJ': 29,\n",
       " 'чисто_ADV': 30,\n",
       " 'вежливый_ADJ': 31,\n",
       " 'быстро_ADV': 32,\n",
       " 'общительный_ADJ': 33,\n",
       " 'очередной_ADJ': 34,\n",
       " 'замечательный_ADV': 35,\n",
       " 'нормальный_ADV': 36,\n",
       " 'жаль_ADV': 37,\n",
       " 'положительный_ADJ': 38,\n",
       " 'внятно_ADV': 39,\n",
       " 'лишний_ADJ': 40,\n",
       " 'уважаемый_ADJ': 41,\n",
       " 'впереди_ADV': 42,\n",
       " 'жалобный_ADJ': 43,\n",
       " 'жалко_ADV': 44,\n",
       " 'эффективно_ADV': 45,\n",
       " 'повторно_ADV': 46,\n",
       " 'отзывчивый_ADJ': 47,\n",
       " 'сомнительно_ADV': 48,\n",
       " 'достаточно_ADV': 49,\n",
       " 'обязательно_ADV': 50,\n",
       " 'впредь_ADV': 51,\n",
       " 'видимо_ADV': 52,\n",
       " 'быстренько_ADV': 53,\n",
       " 'банковский_ADJ': 54,\n",
       " 'столько_ADV': 55,\n",
       " 'компетентный_ADJ': 56,\n",
       " 'намного_ADV': 57,\n",
       " 'общий_ADJ': 58,\n",
       " 'особый_ADJ': 59,\n",
       " 'старый_ADJ': 60,\n",
       " 'высокий_ADJ': 61,\n",
       " 'большой_ADJ': 62,\n",
       " 'здоровый_ADJ': 63,\n",
       " 'опытный_ADJ': 64,\n",
       " 'нужный_ADJ': 65,\n",
       " 'особенный_ADJ': 66,\n",
       " 'неприятный_ADJ': 67,\n",
       " 'равнодушный_ADV': 68,\n",
       " 'просторно_ADV': 69,\n",
       " 'четко_ADV': 70,\n",
       " 'доступный_ADJ': 71,\n",
       " 'прекрасный_ADV': 72,\n",
       " 'привычный_ADJ': 73,\n",
       " 'внутри_ADV': 74,\n",
       " 'заново_ADV': 75,\n",
       " 'разный_ADJ': 76,\n",
       " 'желательно_ADV': 77,\n",
       " 'красный_ADJ': 78,\n",
       " 'трудный_ADJ': 79,\n",
       " 'удобный_ADJ': 80,\n",
       " 'хороший_ADJ': 81,\n",
       " 'вместе_ADV': 82,\n",
       " 'сюда_ADV': 83,\n",
       " 'практически_ADV': 84,\n",
       " 'прямо_ADV': 85,\n",
       " 'нескончаемый_ADJ': 86,\n",
       " 'лучше_ADV': 87,\n",
       " 'зачастую_ADV': 88,\n",
       " 'выгодный_ADJ': 89,\n",
       " 'свободный_ADJ': 90,\n",
       " 'паспортный_ADJ': 91,\n",
       " 'следующий_ADJ': 92,\n",
       " 'профессионально_ADV': 93,\n",
       " 'сонный_ADJ': 94,\n",
       " 'виноватый_ADJ': 95,\n",
       " 'долгий_ADJ': 96,\n",
       " 'сомнительный_ADV': 97,\n",
       " 'неудобно_ADV': 98,\n",
       " 'доброжелательно_ADV': 99,\n",
       " 'приятный_ADJ': 100,\n",
       " 'новый_ADJ': 101,\n",
       " 'отдельный_ADJ': 102,\n",
       " 'внимательный_ADJ': 103,\n",
       " 'благодарный_ADJ': 104,\n",
       " 'удобно_ADV': 105,\n",
       " 'солнечногорский_ADJ': 106,\n",
       " 'приятный_ADV': 107,\n",
       " 'средний_ADJ': 108,\n",
       " 'мрачноватый_ADJ': 109,\n",
       " 'прошлый_ADJ': 110,\n",
       " 'электронный_ADJ': 111,\n",
       " 'технический_ADJ': 112,\n",
       " 'предыдущий_ADJ': 113,\n",
       " 'весело_ADV': 114,\n",
       " 'смешной_ADJ': 115,\n",
       " 'быстрый_ADJ': 116,\n",
       " 'медленно_ADV': 117,\n",
       " 'быстрый_ADV': 118,\n",
       " 'корректный_ADJ': 119,\n",
       " 'запредельный_ADJ': 120,\n",
       " 'вразумительный_ADJ': 121,\n",
       " 'обычный_ADV': 122,\n",
       " 'великолепный_ADJ': 123,\n",
       " 'маленький_ADJ': 124,\n",
       " 'кредитный_ADJ': 125,\n",
       " 'нормальный_ADJ': 126,\n",
       " 'мёртвый_ADJ': 127,\n",
       " 'обычный_ADJ': 128,\n",
       " 'нереальный_ADJ': 129,\n",
       " 'металлический_ADJ': 130,\n",
       " 'единственный_ADJ': 131,\n",
       " 'зарплатный_ADJ': 132,\n",
       " 'сильный_ADJ': 133,\n",
       " 'серьезно_ADV': 134,\n",
       " 'тесно_ADV': 135,\n",
       " 'клиентский_ADJ': 136,\n",
       " 'дословно_ADV': 137,\n",
       " 'первый_ADJ': 138,\n",
       " 'приветливый_ADJ': 139,\n",
       " 'рад_ADJ': 140,\n",
       " 'грустный_ADJ': 141,\n",
       " 'оперативно_ADV': 142,\n",
       " 'заработный_ADJ': 143,\n",
       " 'готовый_ADJ': 144,\n",
       " 'уютно_ADV': 145,\n",
       " 'длинный_ADV': 146,\n",
       " 'попутно_ADV': 147,\n",
       " 'совершенно_ADV': 148,\n",
       " 'короткий_ADJ': 149,\n",
       " 'понятный_ADJ': 150,\n",
       " 'довольный_ADJ': 151,\n",
       " 'сегодня_ADV': 152,\n",
       " 'вечный_ADJ': 153,\n",
       " 'человеческий_ADJ': 154,\n",
       " 'изумительный_ADJ': 155,\n",
       " 'высоко_ADJ': 156,\n",
       " 'огромный_ADJ': 157,\n",
       " 'подробно_ADV': 158,\n",
       " 'оперативный_ADV': 159,\n",
       " 'хороший_ADV': 160,\n",
       " 'безбожно_ADV': 161,\n",
       " 'ужасный_ADJ': 162,\n",
       " 'постоянный_ADJ': 163,\n",
       " 'полный_ADJ': 164,\n",
       " 'московский_ADJ': 165,\n",
       " 'круглосуточный_ADJ': 166,\n",
       " 'постоянно_ADV': 167,\n",
       " 'признательный_ADJ': 168,\n",
       " 'отвратительный_ADJ': 169}"
      ]
     },
     "execution_count": 26,
     "metadata": {},
     "output_type": "execute_result"
    }
   ],
   "source": [
    "vocab.token_to_idx"
   ]
  },
  {
   "cell_type": "code",
   "execution_count": 29,
   "metadata": {},
   "outputs": [
    {
     "data": {
      "text/plain": [
       "tensor([[ 0.0000,  0.0000,  0.0000,  ...,  0.0000,  0.0000,  0.0000],\n",
       "        [ 0.0000,  0.0000,  0.0000,  ...,  0.0000,  0.0000,  0.0000],\n",
       "        [-0.2620, -1.1594,  1.3344,  ...,  0.3044,  0.6687,  0.1531],\n",
       "        ...,\n",
       "        [-1.7585,  0.1342,  0.8865,  ...,  1.4749,  1.5324,  3.6866],\n",
       "        [ 1.6589, -0.3680, -0.3279,  ...,  0.7706, -0.5667,  0.3188],\n",
       "        [-0.2164,  0.6027, -0.3056,  ..., -0.6360, -0.1241, -0.4770]])"
      ]
     },
     "execution_count": 29,
     "metadata": {},
     "output_type": "execute_result"
    }
   ],
   "source": [
    "vocab.word_vectors"
   ]
  },
  {
   "cell_type": "code",
   "execution_count": 42,
   "metadata": {},
   "outputs": [
    {
     "data": {
      "text/plain": [
       "170"
      ]
     },
     "execution_count": 42,
     "metadata": {},
     "output_type": "execute_result"
    }
   ],
   "source": [
    "len(vocab.word_vectors)"
   ]
  },
  {
   "cell_type": "code",
   "execution_count": 65,
   "metadata": {},
   "outputs": [
    {
     "data": {
      "text/plain": [
       "tensor(-0.1683)"
      ]
     },
     "execution_count": 65,
     "metadata": {},
     "output_type": "execute_result"
    }
   ],
   "source": [
    "torch.mean(vocab.word_vectors[vocab.token_to_idx[\"небольшой_ADJ\"]]).item()"
   ]
  },
  {
   "cell_type": "code",
   "execution_count": 77,
   "metadata": {},
   "outputs": [
    {
     "data": {
      "text/plain": [
       "0                                 [-0.20779301226139069]\n",
       "1      [0, 0.04896276444196701, -0.07583754509687424,...\n",
       "2      [0.03020876832306385, 0, -0.002090485999360680...\n",
       "3           [0.028218695893883705, -0.07752270251512527]\n",
       "4      [0.02038741670548916, -0.10414271056652069, 0,...\n",
       "                             ...                        \n",
       "171                               [-0.11164427548646927]\n",
       "172                                                   []\n",
       "173          [0.022077690809965134, 0.06406066566705704]\n",
       "174                                [0.12028609961271286]\n",
       "175                                [0.06406066566705704]\n",
       "Length: 176, dtype: object"
      ]
     },
     "execution_count": 77,
     "metadata": {},
     "output_type": "execute_result"
    }
   ],
   "source": [
    "def extract_indexes(text):\n",
    "    words = text.split()\n",
    "    # print(words)\n",
    "    return [torch.mean(vocab.word_vectors[vocab.token_to_idx[word]]).item() if word in vocab.token_to_idx else 0 for word in words]\n",
    "    # return [vocab.token_to_idx[word] if word in vocab.token_to_idx else 1 for word in words]\n",
    "\n",
    "pd.Series(corpus_preprocessed).apply(extract_indexes)"
   ]
  },
  {
   "cell_type": "code",
   "execution_count": 78,
   "metadata": {},
   "outputs": [],
   "source": [
    "def create_padded_tensor(corpus):\n",
    "    # Tokenize texts\n",
    "    sequences = corpus.apply(extract_indexes)\n",
    "\n",
    "    # Calculate max length based on distribution of sequence lengths\n",
    "    lengths = [len(sequence) for sequence in sequences]\n",
    "    # print(max(lengths))\n",
    "    max_length = int(torch.tensor(lengths).float().quantile(0.95).item())\n",
    "\n",
    "    # Pad sequences to max length\n",
    "    padded_sequences = torch.zeros((len(sequences), max_length), dtype=torch.float32)\n",
    "    for i, sequence in enumerate(sequences):\n",
    "        length = min(len(sequence), max_length)\n",
    "        padded_sequences[i, :length] = torch.tensor(sequence[:length])\n",
    "\n",
    "    return padded_sequences\n",
    "\n",
    "padded_tensor = create_padded_tensor(pd.Series(corpus_preprocessed))"
   ]
  },
  {
   "cell_type": "code",
   "execution_count": 79,
   "metadata": {},
   "outputs": [
    {
     "data": {
      "text/plain": [
       "tensor([[-0.2078,  0.0000,  0.0000,  ...,  0.0000,  0.0000,  0.0000],\n",
       "        [ 0.0000,  0.0490, -0.0758,  ...,  0.1617,  0.0000,  0.0000],\n",
       "        [ 0.0302,  0.0000, -0.0021,  ...,  0.0000,  0.0000,  0.0000],\n",
       "        ...,\n",
       "        [ 0.0221,  0.0641,  0.0000,  ...,  0.0000,  0.0000,  0.0000],\n",
       "        [ 0.1203,  0.0000,  0.0000,  ...,  0.0000,  0.0000,  0.0000],\n",
       "        [ 0.0641,  0.0000,  0.0000,  ...,  0.0000,  0.0000,  0.0000]])"
      ]
     },
     "execution_count": 79,
     "metadata": {},
     "output_type": "execute_result"
    }
   ],
   "source": [
    "padded_tensor"
   ]
  },
  {
   "cell_type": "code",
   "execution_count": 80,
   "metadata": {},
   "outputs": [],
   "source": [
    "word_matrix = vocab.word_vectors"
   ]
  },
  {
   "cell_type": "code",
   "execution_count": 81,
   "metadata": {},
   "outputs": [
    {
     "data": {
      "text/plain": [
       "176"
      ]
     },
     "execution_count": 81,
     "metadata": {},
     "output_type": "execute_result"
    }
   ],
   "source": [
    "len(corpus_preprocessed)"
   ]
  },
  {
   "cell_type": "code",
   "execution_count": 82,
   "metadata": {},
   "outputs": [
    {
     "name": "stdout",
     "output_type": "stream",
     "text": [
      "Кластер 1: огромный_ADJ, отличный_ADJ отдельный_ADJ приятный_ADV позитивный_ADV новый_ADJ банковский_ADJ данный_ADV, небольшой_ADJ быстро_ADV, отличный_ADJ сильный_ADJ отзывчивый_ADJ, большой_ADJ, великолепный_ADJ отдельный_ADJ грамотныи_ADJ, долгий_ADJ, долгий_ADJ небольшой_ADJ, несмотря_ADV постоянный_ADJ технический_ADJ, больший_ADJ, большой_ADJ, больший_ADJ таковому_ADJ понятный_ADJ, отличный_ADJ, тесно_ADV, заработный_ADJ, особенный_ADJ большои_ADJ, отличный_ADJ\n",
      "Кластер 3: хорошии_ADJ быстро_ADV подробно_ADV понятный_ADJ впредь_ADV, больший_ADJ быстрый_ADJ высокий_ADJ, приятный_ADJ отзывчивый_ADJ внимательный_ADJ понимающие_ADJ вежливый_ADJ компетентный_ADJ достаточно_ADV тактичный_ADJ подробно_ADV признательный_ADJ благодарный_ADJ приятный_ADJ положительный_ADJ человеческий_ADJ, удобный_ADJ круглосуточный_ADJ неоднократно_ADV разный_ADJ приятный_ADV главный_ADJ, удобный_ADJ вежливо_ADV, приятный_ADV быстро_ADV внятно_ADV окошко_ADJ общий_ADJ нормальный_ADJ, хороший_ADJ быстрый_ADJ, электронный_ADJ нужный_ADJ, кредитный_ADJ красный_ADJ кредитный_ADJ кредитный_ADJ впереди_ADV горячеи_ADJ смешной_ADJ, единственный_ADJ электронный_ADJ, худшии_ADJ постоянно_ADV другом_ADJ адекватный_ADV сомнительно_ADV, вежливый_ADJ корректный_ADJ, хороший_ADJ быстрый_ADJ, внимательный_ADJ грамотный_ADJ большой_ADJ, ужасный_ADJ нескончаемый_ADJ мёртвый_ADJ остальные_ADJ быстрый_ADJ, профессионально_ADV оперативно_ADV доброжелательно_ADV, кредитный_ADJ нужный_ADJ заново_ADV кредитный_ADJ первый_ADJ частность_ADV кредитный_ADJ, полный_ADJ плохой_ADJ нереальный_ADJ, быстро_ADV вежливо_ADV, достаточно_ADV быстрый_ADJ, хороший_ADJ грамотный_ADJ, хороший_ADJ грамотный_ADJ нормальный_ADJ, вежливый_ADJ грамотный_ADJ, обычный_ADV равный_ADJ общий_ADJ, безбожно_ADV сюда_ADV входящии_ADV, хамоватый_ADJ зачастую_ADV, клиентский_ADJ ужасный_ADJ\n",
      "Кластер 2: удобный_ADJ расположенное_ADJ вежливый_ADJ внимательный_ADJ, , ужасный_ADJ видимо_ADV желательно_ADV, быстро_ADV качественно_ADV лишний_ADJ доступный_ADJ, прекрасный_ADV, общий_ADJ неудобно_ADV сюда_ADV виноватый_ADJ вежливый_ADJ, приятный_ADJ слабовато_ADV расплывчатый_ADV понятный_ADJ новыя_ADV уважаемый_ADJ четко_ADV быстро_ADV четко_ADV лишний_ADJ, замечательный_ADV, обхадительны_ADJ выгодный_ADJ, нормальный_ADJ кредитный_ADJ, , отвратительный_ADJ полный_ADJ, грамотныи_ADJ длинный_ADV своеи_ADV больший_ADJ, быстро_ADV супер_ADV, , каждыи_ADJ, хороший_ADJ хороший_ADJ, хороший_ADJ приветливый_ADJ хороший_ADJ хороший_ADJ рад_ADJ, , жаль_ADV, удобно_ADV расположен_ADJ быстро_ADV, средний_ADJ, всей_ADV минимум_ADV каждыи_ADJ маленький_ADJ каждыи_ADJ сегодня_ADV долгий_ADJ, центральный_ADJ медленно_ADV постоянно_ADV вообщем_ADJ, электронный_ADJ медленно_ADV, , незаконно_ADV другому_ADJ, здоровый_ADJ, пенсионный_ADV жалко_ADV, приятный_ADJ, металлический_ADJ, удобно_ADV расположен_ADJ внутри_ADV, ооооооооооочень_ADV московский_ADJ отдаленный_ADV, , сегодня_ADV, медленныи_ADJ остальные_ADJ весело_ADV больший_ADJ, быстрый_ADJ, хороший_ADJ маленький_ADJ неудобно_ADV, , невесёлый_ADJ профессионально_ADV мрачноватый_ADJ, , маленький_ADJ впритык_ADV постоянный_ADJ, хороший_ADJ, медленно_ADV, мобильный_ADJ, , приятный_ADJ, , хороший_ADJ лишний_ADJ, , , быстренько_ADV постоянный_ADJ равный_ADJ сонный_ADJ серьезно_ADV оперативный_ADV оперативно_ADV, удобный_ADJ попутно_ADV компактно_ADV понятно_ADV дебетовый_ADJ быстро_ADV эффективно_ADV, нормальныи_ADJ обычный_ADJ, неплохоя_ADV, некомпитентные_ADJ остальным_ADJ намного_ADV хороший_ADJ общий_ADJ сюда_ADV, вынуждена_ADJ повторно_ADV запредельный_ADJ, супер_ADV, хороший_ADJ, мило_ADV равный_ADJ, быстро_ADV, удобный_ADJ чисто_ADV просторно_ADV компетентный_ADJ, технический_ADJ, хороший_ADJ, данным_ADJ удобный_ADJ постоянно_ADV главный_ADJ поздно_ADV практически_ADV, , , привычный_ADJ каждыи_ADJ, хорошии_ADJ, быстро_ADV, удобный_ADJ единственный_ADV, нормальный_ADJ удобный_ADJ, , , , быстро_ADV лёгкий_ADJ прямо_ADV, , лучше_ADV, , общий_ADJ, нормальный_ADJ достаточно_ADV приветливый_ADJ, наверное_ADV комфортный_ADJ равнодушный_ADV, , , хороший_ADJ, , хороший_ADJ, быстро_ADV, удобный_ADJ оооооочень_ADV, обычный_ADJ, замечательный_ADV доброжелательный_ADJ, , постоянный_ADJ, , медленно_ADV, , хороший_ADV, , , хороший_ADJ, , , , ужасный_ADJ\n",
      "Кластер 4: хороший_ADJ отлично_ADV, внимательный_ADJ совершенно_ADV знакомои_ADV быстрый_ADJ, ужасный_ADJ предыдущий_ADJ громко_ADV дословно_ADV столько_ADV общий_ADJ зарплатный_ADJ новый_ADJ, быстрый_ADJ приятный_ADJ средний_ADJ единственный_ADJ прошлый_ADJ, быстрый_ADJ отличный_ADJ короткий_ADJ, плохой_ADJ довольный_ADJ свободный_ADJ никакои_ADJ быстро_ADV солнечногорский_ADJ, твёрдый_ADJ особый_ADJ изумительный_ADJ доступный_ADJ быстро_ADV самым_ADJ надёжный_ADJ трудный_ADJ, следующий_ADJ общий_ADJ своеи_ADV отвратительный_ADJ, быстро_ADV четко_ADV, ужасный_ADJ долгий_ADJ электронный_ADJ, нормальный_ADV общительный_ADJ работащеи_ADV, быстро_ADV четко_ADV практически_ADV, ужасный_ADJ долгий_ADJ, чисто_ADV уютно_ADV быстро_ADV\n",
      "Кластер 5: очередной_ADJ медленно_ADV горячий_ADJ опытный_ADJ, виноватый_ADJ, паспортный_ADJ, жалобный_ADJ жалобный_ADJ поиду_ADV высоко_ADJ, личный_ADJ вразумительный_ADJ саит_ADJ ненадежный_ADV сомнительный_ADV, отзывчивый_ADJ достаточно_ADV быстро_ADV, компетентный_ADJ, обязательно_ADV вместе_ADV, готовый_ADJ дебетовый_ADJ старый_ADJ, постоянно_ADV быстрый_ADV горячий_ADJ неприятный_ADJ, вечно_ADV грустный_ADJ, плохой_ADJ, компетентный_ADJ, вечный_ADJ\n"
     ]
    }
   ],
   "source": [
    "from sklearn.cluster import KMeans\n",
    "\n",
    "# Кластеризация слов с использованием KMeans\n",
    "num_clusters = 5  # Выберите количество кластеров\n",
    "kmeans = KMeans(n_clusters=num_clusters)\n",
    "kmeans.fit(padded_tensor)\n",
    "\n",
    "# Получение меток кластеров для каждого слова\n",
    "cluster_labels = kmeans.labels_\n",
    "\n",
    "# Создание словаря, где ключи - метки кластеров, а значения - соответствующие слова\n",
    "clustered_words = {}\n",
    "for i, word in enumerate(corpus_preprocessed):\n",
    "    # print(i)\n",
    "    \n",
    "    cluster_label = cluster_labels[i]\n",
    "    if cluster_label not in clustered_words:\n",
    "        clustered_words[cluster_label] = []\n",
    "    clustered_words[cluster_label].append(word)\n",
    "\n",
    "# Вывод слов в каждом кластере\n",
    "for cluster_label, words_in_cluster in clustered_words.items():\n",
    "    print(f\"Кластер {cluster_label + 1}: {', '.join(words_in_cluster)}\")"
   ]
  },
  {
   "cell_type": "code",
   "execution_count": 83,
   "metadata": {},
   "outputs": [
    {
     "data": {
      "text/plain": [
       "176"
      ]
     },
     "execution_count": 83,
     "metadata": {},
     "output_type": "execute_result"
    }
   ],
   "source": [
    "len(cluster_labels)"
   ]
  },
  {
   "cell_type": "code",
   "execution_count": 88,
   "metadata": {},
   "outputs": [
    {
     "name": "stdout",
     "output_type": "stream",
     "text": [
      "Главное слово в кластере 0: [('большой_ADJ', 0.8446203470230103), ('огромный_ADJ', 0.6675896644592285), ('значительный_ADJ', 0.6633292436599731)]\n",
      "Кластер 2 пуст\n",
      "Главное слово в кластере 1: [('хороший_ADJ', 0.7096111178398132), ('легкий_ADJ', 0.599799633026123), ('приятный_ADJ', 0.5789019465446472)]\n",
      "Кластер 3 пуст\n",
      "Главное слово в кластере 4: [('компетентный_ADJ', 0.7546058297157288), ('некомпетентный_ADJ', 0.48987504839897156), ('авторитетный_ADJ', 0.4769531786441803)]\n"
     ]
    }
   ],
   "source": [
    "import numpy as np\n",
    "\n",
    "\n",
    "# Определение главного слова в каждом кластере\n",
    "for cluster_label, words_in_cluster in clustered_words.items():\n",
    "    cluster_word_vectors = []\n",
    "    \n",
    "    # Получение векторов слов в кластере\n",
    "    for word in words_in_cluster:\n",
    "        if word in w2v_model:\n",
    "            word_vector = w2v_model[word]\n",
    "            cluster_word_vectors.append(word_vector)\n",
    "    \n",
    "    # Усреднение векторов слов в кластере\n",
    "    if cluster_word_vectors:\n",
    "        cluster_mean_vector = np.mean(cluster_word_vectors, axis=0)\n",
    "        \n",
    "        # Нахождение ближайшего слова к усредненному вектору кластера\n",
    "        main_word = w2v_model.similar_by_vector(cluster_mean_vector, topn=3)\n",
    "        print(f\"Главное слово в кластере {cluster_label}: {main_word}\")\n",
    "    else:\n",
    "        print(f\"Кластер {cluster_label} пуст\")"
   ]
  },
  {
   "cell_type": "markdown",
   "metadata": {},
   "source": [
    "Анализ сентимента (полож или отриц)"
   ]
  },
  {
   "cell_type": "code",
   "execution_count": 66,
   "metadata": {},
   "outputs": [
    {
     "name": "stdout",
     "output_type": "stream",
     "text": [
      "[{'label': 'POSITIVE', 'score': 0.9813398718833923}]\n"
     ]
    }
   ],
   "source": [
    "from transformers import pipeline\n",
    "\n",
    "# Загрузка предобученной модели для анализа сентимента\n",
    "classifier = pipeline(model=\"blanchefort/rubert-base-cased-sentiment\")\n",
    "\n",
    "# Пример анализа сентимента текста\n",
    "text = \"Очень доволен результатом.\"\n",
    "sentiment = classifier(text)\n",
    "\n",
    "print(sentiment)"
   ]
  },
  {
   "cell_type": "code",
   "execution_count": null,
   "metadata": {},
   "outputs": [
    {
     "name": "stdout",
     "output_type": "stream",
     "text": [
      "huggingface/tokenizers: The current process just got forked, after parallelism has already been used. Disabling parallelism to avoid deadlocks...\n",
      "To disable this warning, you can either:\n",
      "\t- Avoid using `tokenizers` before the fork if possible\n",
      "\t- Explicitly set the environment variable TOKENIZERS_PARALLELISM=(true | false)\n",
      "huggingface/tokenizers: The current process just got forked, after parallelism has already been used. Disabling parallelism to avoid deadlocks...\n",
      "To disable this warning, you can either:\n",
      "\t- Avoid using `tokenizers` before the fork if possible\n",
      "\t- Explicitly set the environment variable TOKENIZERS_PARALLELISM=(true | false)\n",
      "huggingface/tokenizers: The current process just got forked, after parallelism has already been used. Disabling parallelism to avoid deadlocks...\n",
      "To disable this warning, you can either:\n",
      "\t- Avoid using `tokenizers` before the fork if possible\n",
      "\t- Explicitly set the environment variable TOKENIZERS_PARALLELISM=(true | false)\n",
      "huggingface/tokenizers: The current process just got forked, after parallelism has already been used. Disabling parallelism to avoid deadlocks...\n",
      "To disable this warning, you can either:\n",
      "\t- Avoid using `tokenizers` before the fork if possible\n",
      "\t- Explicitly set the environment variable TOKENIZERS_PARALLELISM=(true | false)\n",
      "huggingface/tokenizers: The current process just got forked, after parallelism has already been used. Disabling parallelism to avoid deadlocks...\n",
      "To disable this warning, you can either:\n",
      "\t- Avoid using `tokenizers` before the fork if possible\n",
      "\t- Explicitly set the environment variable TOKENIZERS_PARALLELISM=(true | false)\n",
      "huggingface/tokenizers: The current process just got forked, after parallelism has already been used. Disabling parallelism to avoid deadlocks...\n",
      "To disable this warning, you can either:\n",
      "\t- Avoid using `tokenizers` before the fork if possible\n",
      "\t- Explicitly set the environment variable TOKENIZERS_PARALLELISM=(true | false)\n",
      "huggingface/tokenizers: The current process just got forked, after parallelism has already been used. Disabling parallelism to avoid deadlocks...\n",
      "To disable this warning, you can either:\n",
      "\t- Avoid using `tokenizers` before the fork if possible\n",
      "\t- Explicitly set the environment variable TOKENIZERS_PARALLELISM=(true | false)\n",
      "huggingface/tokenizers: The current process just got forked, after parallelism has already been used. Disabling parallelism to avoid deadlocks...\n",
      "To disable this warning, you can either:\n",
      "\t- Avoid using `tokenizers` before the fork if possible\n",
      "\t- Explicitly set the environment variable TOKENIZERS_PARALLELISM=(true | false)\n"
     ]
    },
    {
     "name": "stderr",
     "output_type": "stream",
     "text": [
      "100%|██████████| 176/176 [00:00<00:00, 288.47it/s]\n"
     ]
    }
   ],
   "source": [
    "nlp = spacy.load(\"ru_core_news_lg\")\n",
    "\n",
    "SPEECH_PARTS = ['NOUN', 'ADJ', 'ADV', 'VERB']\n",
    "\n",
    "def preprocess_text(text):\n",
    "    # text = \" \".join([char for char in text if char not in string.punctuation])\n",
    "    text = \" \".join(text).lower()\n",
    "    # print(text)\n",
    "    text = ''.join([' ' if not char.isalpha() and char not in string.punctuation else char for char in text])\n",
    "    # text = ''.join([' ' if not char.isalpha() else char for char in text])\n",
    "    # print(text)\n",
    "    doc = nlp(text)\n",
    "    lemmatized_tokens = []\n",
    "    # word_vectors = []\n",
    "    for token in doc:\n",
    "        if token.is_alpha and token.text not in RU_STOP_WORDS:\n",
    "            lemma = token.lemma_\n",
    "            pos = token.pos_\n",
    "            # Если токен - известное модели слово\n",
    "            if pos in SPEECH_PARTS:\n",
    "                lemmatized_tokens.append(f\"{lemma}\")\n",
    "                # word_vector = [token.vector for token in doc]\n",
    "                # word_vectors.append(word_vector)\n",
    "                # lemmatized_tokens.append(lemma)\n",
    "    \n",
    "    preprocessed_text = ' '.join(lemmatized_tokens)\n",
    "    \n",
    "    return preprocessed_text\n",
    "\n",
    "\n",
    "# corpus = corpus[:1000].apply(lambda x: preprocess_text(x))\n",
    "\n",
    "def preprocess_corpus(corpus):\n",
    "    with Pool(processes=8) as pool:\n",
    "        results = []\n",
    "        for result in tqdm(pool.imap_unordered(preprocess_text, corpus), total=len(corpus)):\n",
    "            results.append(result)\n",
    "    return results\n",
    "\n",
    "sentiment_corpus = preprocess_corpus(corpus)"
   ]
  },
  {
   "cell_type": "code",
   "execution_count": null,
   "metadata": {},
   "outputs": [
    {
     "name": "stdout",
     "output_type": "stream",
     "text": [
      "[{'label': 'POSITIVE', 'score': 0.9812139272689819}]\n"
     ]
    }
   ],
   "source": [
    "text = \" \".join(sentiment_corpus)[:3500]\n",
    "sentiment = classifier(text)\n",
    "\n",
    "print(sentiment)"
   ]
  },
  {
   "cell_type": "code",
   "execution_count": 129,
   "metadata": {},
   "outputs": [
    {
     "data": {
      "text/plain": [
       "0      [23, 1, 179, 295, 341, 180, 287, 1, 1, 109, 11...\n",
       "1      [1, 355, 111, 54, 1, 242, 142, 28, 190, 175, 3...\n",
       "2         [113, 222, 53, 222, 419, 32, 1, 295, 375, 136]\n",
       "3                [355, 111, 337, 102, 180, 48, 300, 334]\n",
       "4      [275, 381, 383, 1, 246, 51, 379, 355, 184, 120...\n",
       "                             ...                        \n",
       "171                                           [149, 180]\n",
       "172                                                [355]\n",
       "173                                           [222, 354]\n",
       "174                                 [156, 362, 183, 111]\n",
       "175                       [269, 334, 338, 274, 156, 125]\n",
       "Length: 176, dtype: object"
      ]
     },
     "execution_count": 129,
     "metadata": {},
     "output_type": "execute_result"
    }
   ],
   "source": [
    "def extract_indexes(text):\n",
    "    words = text.split()\n",
    "    # print(words)\n",
    "    return [vocab.token_to_idx[word] if word in vocab.token_to_idx else 1 for word in words]\n",
    "\n",
    "pd.Series(corpus_preprocessed).apply(extract_indexes)"
   ]
  },
  {
   "cell_type": "code",
   "execution_count": 130,
   "metadata": {},
   "outputs": [],
   "source": [
    "def create_padded_tensor(corpus):\n",
    "    # Tokenize texts\n",
    "    sequences = corpus.apply(extract_indexes)\n",
    "\n",
    "    # Calculate max length based on distribution of sequence lengths\n",
    "    lengths = [len(sequence) for sequence in sequences]\n",
    "    # print(max(lengths))\n",
    "    max_length = int(torch.tensor(lengths).float().quantile(0.75).item())\n",
    "\n",
    "    # Pad sequences to max length\n",
    "    padded_sequences = torch.zeros((len(sequences), max_length), dtype=torch.long)\n",
    "    for i, sequence in enumerate(sequences):\n",
    "        length = min(len(sequence), max_length)\n",
    "        padded_sequences[i, :length] = torch.tensor(sequence[:length])\n",
    "\n",
    "    return padded_sequences\n",
    "\n",
    "padded_tensor = create_padded_tensor(pd.Series(corpus_preprocessed))"
   ]
  },
  {
   "cell_type": "code",
   "execution_count": 131,
   "metadata": {},
   "outputs": [
    {
     "name": "stderr",
     "output_type": "stream",
     "text": [
      "/usr/local/lib/python3.10/dist-packages/sklearn/manifold/_t_sne.py:800: FutureWarning: The default initialization in TSNE will change from 'random' to 'pca' in 1.2.\n",
      "  warnings.warn(\n",
      "/usr/local/lib/python3.10/dist-packages/sklearn/manifold/_t_sne.py:810: FutureWarning: The default learning rate in TSNE will change from 200.0 to 'auto' in 1.2.\n",
      "  warnings.warn(\n",
      "/tmp/ipykernel_39239/3333840807.py:26: UserWarning: No data for colormapping provided via 'c'. Parameters 'cmap' will be ignored\n",
      "  plt.scatter(X_tsne[:, 0], X_tsne[:, 1], cmap='viridis', s=50)\n"
     ]
    },
    {
     "data": {
      "image/png": "[encoded data removed]",
      "text/plain": [
       "<Figure size 800x800 with 2 Axes>"
      ]
     },
     "metadata": {},
     "output_type": "display_data"
    }
   ],
   "source": [
    "# t-SNE\n",
    "tsne = TSNE(n_components=2, random_state=42)\n",
    "X_tsne = tsne.fit_transform(padded_tensor)\n",
    "\n",
    "# # Визуализация данных с помощью TruncatedSVD\n",
    "# plt.scatter(X_svd[:, 0], X_svd[:, 1], c=y_tags[:10000])\n",
    "# plt.title('TruncatedSVD')\n",
    "# plt.show()\n",
    "\n",
    "# # Визуализация данных с помощью t-SNE\n",
    "# plt.scatter(X_tsne[:, 0], X_tsne[:, 1], c=y_tags[:10000])\n",
    "# plt.title('t-SNE')\n",
    "# plt.show()\n",
    "\n",
    "# Визуализация данных с помощью TruncatedSVD\n",
    "# plt.figure(figsize=(8, 6))\n",
    "# plt.scatter(X_svd[:, 0], X_svd[:, 1], c=y_tags[:10000], cmap='viridis', s=50)\n",
    "# plt.colorbar()\n",
    "# plt.xlabel('Component 1')\n",
    "# plt.ylabel('Component 2')\n",
    "# plt.title('TruncatedSVD')\n",
    "# plt.show()\n",
    "\n",
    "# Визуализация данных с помощью t-SNE\n",
    "plt.figure(figsize=(8, 8))\n",
    "plt.scatter(X_tsne[:, 0], X_tsne[:, 1], cmap='viridis', s=50)\n",
    "plt.colorbar()\n",
    "plt.xlabel('Component 1')\n",
    "plt.ylabel('Component 2')\n",
    "plt.title('t-SNE')\n",
    "plt.show()"
   ]
  },
  {
   "cell_type": "code",
   "execution_count": 132,
   "metadata": {},
   "outputs": [
    {
     "data": {
      "image/png": "[encoded data removed]",
      "text/plain": [
       "<Figure size 1000x1000 with 1 Axes>"
      ]
     },
     "metadata": {},
     "output_type": "display_data"
    },
    {
     "data": {
      "image/png": "[encoded data removed]",
      "text/plain": [
       "<Figure size 1000x1000 with 1 Axes>"
      ]
     },
     "metadata": {},
     "output_type": "display_data"
    },
    {
     "name": "stdout",
     "output_type": "stream",
     "text": [
      "Silhouette score для компонент t-SNE: 0.40463015\n",
      "Davies-Bouldin index для компонент t-SNE: 0.735839486065072\n"
     ]
    }
   ],
   "source": [
    "from sklearn.cluster import KMeans\n",
    "from sklearn.metrics import silhouette_score, davies_bouldin_score\n",
    "import numpy as np\n",
    "\n",
    "# Кластеризация данных с помощью KMeans на основе компонент t-SNE\n",
    "kmeans_tsne = KMeans(n_clusters=15, random_state=42)\n",
    "labels_tsne = kmeans_tsne.fit_predict(X_tsne)\n",
    "\n",
    "# Визуализация кластеризации\n",
    "plt.figure(figsize=(10, 10))\n",
    "plt.scatter(X_tsne[:, 0], X_tsne[:, 1], c=labels_tsne, cmap='rainbow')\n",
    "plt.title('KMeans Clustering with t-SNE Components')\n",
    "plt.show()\n",
    "\n",
    "# Визуализация центроидов кластеров\n",
    "plt.figure(figsize=(10, 10))\n",
    "centroids_tsne = kmeans_tsne.cluster_centers_\n",
    "centroid_labels_tsne = np.unique(labels_tsne)\n",
    "plt.scatter(X_tsne[:, 0], X_tsne[:, 1], c=labels_tsne, cmap='rainbow')\n",
    "plt.scatter(centroids_tsne[:, 0], centroids_tsne[:, 1], marker='x', s=200, linewidths=3, color='black')\n",
    "for i, label in enumerate(centroid_labels_tsne):\n",
    "    plt.annotate(label, (centroids_tsne[i, 0], centroids_tsne[i, 1]), fontsize=12, fontweight='bold')\n",
    "plt.title('KMeans Clustering with t-SNE Components and Centroids')\n",
    "plt.show()\n",
    "\n",
    "# Вычисление Silhouette score для компонент t-SNE\n",
    "silhouette_avg_tsne = silhouette_score(X_tsne, labels_tsne)\n",
    "print(\"Silhouette score для компонент t-SNE:\", silhouette_avg_tsne)\n",
    "\n",
    "# Вычисление Davies-Bouldin index для компонент t-SNE\n",
    "db_index_tsne = davies_bouldin_score(X_tsne, labels_tsne)\n",
    "print(\"Davies-Bouldin index для компонент t-SNE:\", db_index_tsne)"
   ]
  },
  {
   "cell_type": "code",
   "execution_count": 150,
   "metadata": {},
   "outputs": [
    {
     "data": {
      "text/plain": [
       "['удобный_ADJ расположенное_ADJ отделение_NOUN раз_NOUN вежливый_ADJ обслуживание_NOUN вопрос_NOUN моеи_PROPN картои_PROPN внимательный_ADJ сотрудник_NOUN профессионал_NOUN',\n",
       " 'хорошии_ADJ банк_NOUN сотрудник_NOUN благодарность_NOUN ратниковои_PROPN валерия_PROPN викторович_PROPN понятный_ADJ предложение_NOUN продукт_NOUN банк_NOUN отделение_NOUN',\n",
       " 'огромный_ADJ очередь_NOUN талончик_NOUN очередь_NOUN специалист_NOUN проблема_NOUN последнии_NOUN раз_NOUN рука_NOUN причина_NOUN',\n",
       " 'банк_NOUN сотрудник_NOUN больший_ADJ молодец_NOUN обслуживание_NOUN быстрый_ADJ высокий_ADJ уровень_NOUN',\n",
       " 'консультант_NOUN зал_NOUN оператор_NOUN стоикои_NOUN приятный_ADJ девушка_NOUN представитель_NOUN банк_NOUN представление_NOUN услуга_NOUN банк_NOUN вклад_NOUN сеифа_NOUN банк_NOUN вопрос_NOUN понятный_ADJ человек_NOUN информациеи_NOUN уважаемый_ADJ администрация_NOUN сотрудник_NOUN продукция_NOUN банк_NOUN сотрудник_NOUN банк_NOUN клиент_NOUN сотрудник_NOUN лишний_ADJ вопрос_NOUN',\n",
       " 'персонал_NOUN внимательный_ADJ банк_NOUN документ_NOUN документ_NOUN имя_NOUN дама_NOUN быстрый_ADJ',\n",
       " 'удобный_ADJ расположение_NOUN парковка_NOUN место_NOUN работник_NOUN клиент_NOUN подход_NOUN порои_NOUN время_NOUN ожидание_NOUN',\n",
       " 'лишний_ADJ вопрос_NOUN дело_NOUN банкомат_NOUN доступный_ADJ',\n",
       " 'народ_NOUN окно_NOUN талончик_NOUN аппарат_NOUN очередь_NOUN общий_ADJ сотрудник_NOUN виноватый_ADJ вежливый_ADJ очередь_NOUN час_NOUN система_NOUN сбой_NOUN свидание_NOUN',\n",
       " 'персонал_NOUN терминал_NOUN женщина_NOUN окошко_ADJ подоити_NOUN общий_ADJ нормальный_ADJ',\n",
       " 'банк_NOUN терминал_NOUN выдача_NOUN очередной_ADJ талончик_NOUN человек_NOUN очередь_NOUN обслуживание_NOUN краине_NOUN оператор_NOUN которыи_PROPN вопрос_NOUN некомпетентна_PROPN горячий_ADJ линия_NOUN коллега_NOUN информациеи_NOUN итог_NOUN час_NOUN опытный_ADJ оператор_NOUN проблема_NOUN банк_NOUN втб_PROPN мнение_NOUN',\n",
       " 'благодарность_NOUN сотрудник_NOUN банк_NOUN ниталян_PROPN вардуи_PROPN карапетовне_PROPN первыи_NOUN раз_NOUN специалист_NOUN отзывчивыи_NOUN недоверие_NOUN обьяснит_NOUN проблема_NOUN',\n",
       " 'электронный_ADJ очередь_NOUN ресепшен_NOUN женщина_NOUN номерок_NOUN рука_NOUN час_NOUN очередь_NOUN нужный_ADJ фигня_NOUN',\n",
       " 'отличный_ADJ обслуживание_NOUN банк_NOUN сделка_NOUN отдельный_ADJ спасибо_NOUN специалист_NOUN банк_NOUN нана_NOUN человек_NOUN новый_ADJ банковский_ADJ продукт_NOUN офис_NOUN',\n",
       " 'банк_NOUN прекрасныи_NOUN персонал_NOUN обращение_NOUN привелегии_NOUN',\n",
       " 'номер_NOUN телефон_NOUN договор_NOUN раз_NOUN графа_PROPN нормальный_ADJ второи_NOUN ошибка_NOUN цифра_NOUN кредитный_ADJ карта_NOUN',\n",
       " 'психушка_NOUN колесиках_NOUN заявка_NOUN кредитный_ADJ карта_NOUN отделение_NOUN банк_NOUN втб_PROPN адрес_NOUN солнечногорск_PROPN ул_PROPN красный_ADJ время_NOUN сотрудник_NOUN молодои_PROPN человек_NOUN никакои_PROPN заявка_NOUN рука_NOUN кредитный_ADJ карта_NOUN условие_NOUN кредитный_ADJ карта_NOUN банк_NOUN отношение_NOUN клиент_NOUN банк_NOUN банк_NOUN конкурент_NOUN итог_NOUN горячеи_ADJ линия_NOUN втб_PROPN клиент_NOUN смешной_ADJ банк_NOUN',\n",
       " 'хороший_ADJ кухня_NOUN быстрый_ADJ подача_NOUN вежливыи_NOUN персонал_NOUN',\n",
       " 'услуга_NOUN банк_NOUN год_NOUN нарекании_NOUN проблема_NOUN приятный_ADJ отзывчивый_ADJ внимательный_ADJ понимающие_ADJ сотрудник_NOUN день_NOUN оформление_NOUN вклад_NOUN сотрудник_NOUN гриценко_PROPN александр_PROPN молодои_PROPN человек_NOUN вежливый_ADJ общение_NOUN компетентный_ADJ дело_NOUN тактичный_ADJ клиент_NOUN особенность_NOUN вложение_NOUN вклад_NOUN признательный_ADJ благодарный_ADJ сотрудник_NOUN приятный_ADJ александр_PROPN положительный_ADJ человеческий_ADJ качество_NOUN день_NOUN',\n",
       " 'обслуживание_NOUN быстрый_ADJ работник_NOUN приятный_ADJ время_NOUN ожидание_NOUN средний_ADJ банкомат_NOUN единственный_ADJ втб_PROPN оборудование_NOUN прошлый_ADJ век_NOUN сбере_NOUN планшет_NOUN ноутбук_NOUN втб_PROPN фото_NOUN пк_PROPN',\n",
       " 'ужасный_ADJ обслуживание_NOUN работа_NOUN движение_NOUN счёт_NOUN предыдущий_ADJ год_NOUN специалист_NOUN высокии_NOUN седои_PROPN мужчина_NOUN этож_PROPN бумага_NOUN общий_ADJ бумага_NOUN зарплатный_ADJ клиент_NOUN день_NOUN работодатель_NOUN зарплата_NOUN другои_NOUN банк_NOUN новый_ADJ банк_NOUN проблема_NOUN бумагои_NOUN',\n",
       " 'персонал_NOUN облслуживание_NOUN высота_NOUN клиент_NOUN обхадительны_ADJ выгодный_ADJ условие_NOUN условие_NOUN банкомат_NOUN',\n",
       " 'счёт_NOUN карта_NOUN услуга_NOUN неделя_NOUN днеи_NOUN итог_NOUN вид_NOUN виноватый_ADJ час_NOUN причина_NOUN отказ_NOUN',\n",
       " 'вежливыи_NOUN грамотныи_ADJ персонал_NOUN ожидание_NOUN очередь_NOUN минута_NOUN светлыи_PROPN чистыи_PROPN офис_NOUN операционистов_NOUN терминал_NOUN запись_NOUN вхоле_NOUN сотрудник_NOUN банк_NOUN услуга_NOUN комфортеыи_NOUN диван_NOUN ожидание_NOUN очередь_NOUN больший_ADJ парковка_NOUN',\n",
       " 'отзыв_NOUN опаскои_NOUN плохой_ADJ довольный_ADJ обслуживание_NOUN персонал_NOUN свободный_ADJ помещение_NOUN очередь_NOUN никакои_ADJ вопрос_NOUN персонал_NOUN втб_PROPN солнечногорский_ADJ отделение_NOUN',\n",
       " 'приветливыи_NOUN компетентныи_PROPN персонал_NOUN время_NOUN ожидание_NOUN наполненность_NOUN банк_NOUN клиент_NOUN',\n",
       " 'отвратительный_ADJ обслуживание_NOUN хамство_NOUN персонал_NOUN полный_ADJ',\n",
       " 'ужасный_ADJ обслуживание_NOUN клиент_NOUN кассир_NOUN отделение_NOUN сотрудник_NOUN психолог_NOUN чистка_NOUN кадр_NOUN',\n",
       " 'год_NOUN задолженность_NOUN счёт_NOUN банк_NOUN каждыи_ADJ день_NOUN коп_NOUN карточка_NOUN задолженность_NOUN',\n",
       " 'банк_NOUN быстрый_ADJ решение_NOUN вопрос_NOUN обслуживание_NOUN отличный_ADJ персонал_NOUN вежливыи_NOUN время_NOUN ожидание_NOUN короткий_ADJ пенсионер_NOUN инвалид_NOUN платёж_NOUN обслуживание_NOUN',\n",
       " 'удобный_ADJ расположение_NOUN офис_NOUN наличие_NOUN банкомат_NOUN круглосуточный_ADJ доступ_NOUN разный_ADJ вопрос_NOUN получение_NOUN зарплатнои_NOUN карта_NOUN оформление_NOUN кредит_NOUN персонал_NOUN вежливыи_NOUN главный_ADJ грамотныи_NOUN вопрос_NOUN посещение_NOUN',\n",
       " 'банк_NOUN паспортный_ADJ реквизит_NOUN новои_NOUN фамилия_NOUN',\n",
       " 'окно_NOUN',\n",
       " 'банк_NOUN душои_NOUN организация_NOUN карта_NOUN банк_NOUN ногои_NOUN очередь_NOUN час_NOUN каждыи_ADJ раз_NOUN маленький_ADJ ребёнок_NOUN раз_NOUN каждыи_ADJ раз_NOUN минимум_NOUN час_NOUN изнеможение_NOUN карта_NOUN час_NOUN ребёнок_NOUN рука_NOUN кредит_NOUN вклад_NOUN карта_NOUN однои_NOUN очередь_NOUN очередь_NOUN операция_NOUN кредит_NOUN вопрос_NOUN вклад_NOUN дело_NOUN долгий_ADJ карта_NOUN минута_NOUN отделение_NOUN',\n",
       " 'небольшой_ADJ очередь_NOUN',\n",
       " 'хороший_ADJ отделение_NOUN приветливый_ADJ сотрудник_NOUN вопрос_NOUN обращение_NOUN хороший_ADJ клиент_NOUN хороший_ADJ клиент_NOUN рад_ADJ',\n",
       " 'персонал_NOUN вежливыи_NOUN очередь_NOUN',\n",
       " 'хороший_ADJ отделение_NOUN банк_NOUN персонал_NOUN приветливыи_NOUN август_NOUN раз_NOUN очередь_NOUN минута_NOUN вопрос_NOUN',\n",
       " 'обслуживание_NOUN отличный_ADJ девочка_NOUN сильный_ADJ отношение_NOUN клиент_NOUN отзывчивый_ADJ',\n",
       " 'банк_NOUN пособник_NOUN мошенник_NOUN отзыв_NOUN правда_NOUN глаз_NOUN',\n",
       " 'единственный_ADJ отделение_NOUN электронный_ADJ очередь_NOUN',\n",
       " 'хороший_ADJ персонал_NOUN хороший_ADJ атмосфера_NOUN',\n",
       " 'расположен_ADJ банк_NOUN очередеи_NOUN раз_NOUN',\n",
       " 'средний_ADJ обслуживание_NOUN',\n",
       " 'внимательность_NOUN консультация_NOUN оказание_NOUN услуга_NOUN сотрудник_NOUN банк_NOUN ниталян_PROPN фомин_PROPN',\n",
       " 'большой_ADJ спасибо_NOUN сотрудник_NOUN',\n",
       " 'единственныи_PROPN втб_PROPN город_NOUN выходной_NOUN большинство_NOUN людеи_NOUN час_NOUN работа_NOUN банк_NOUN такси_NOUN возрождение_NOUN клиент_NOUN',\n",
       " 'раз_NOUN банк_NOUN вежливыи_NOUN персонал_NOUN твёрдый_ADJ пятёрка_NOUN особый_ADJ благодарность_NOUN консультант_NOUN ольга_PROPN изумительный_ADJ девушка_NOUN доступный_ADJ документ_NOUN красавица_NOUN очередь_NOUN карта_NOUN указание_NOUN верх_NOUN магазин_NOUN карта_NOUN самым_ADJ надёжный_ADJ банк_NOUN трудный_ADJ время_NOUN',\n",
       " 'бардак_NOUN беспредел_NOUN электронный_ADJ очередь_NOUN очередь_NOUN человек_NOUN сотрудник_NOUN',\n",
       " 'ведомо_NOUN деньга_NOUN счёт_NOUN предупреждение_NOUN воровство_NOUN другому_ADJ',\n",
       " 'морозов_PROPN слово_NOUN деньга_NOUN фонд_NOUN год_NOUN уст_NOUN оформление_NOUN вклад_NOUN соотрудники_NOUN премия_NOUN жизнь_NOUN клиент_NOUN вклад_NOUN личныи_PROPN пенсионныи_PROPN шок_NOUN вклад_NOUN нпф_PROPN',\n",
       " 'обслуживание_NOUN уровень_NOUN ссср_PROPN сберкассы_NOUN очередь_NOUN километр_NOUN сотрудник_NOUN следующий_ADJ очередь_NOUN общий_ADJ очередь_NOUN карта_NOUN отвратительный_ADJ обслуживание_NOUN',\n",
       " 'бонкаматы_NOUN',\n",
       " 'центральный_ADJ офис_NOUN волгоград_PROPN счёт_NOUN лёт_NOUN счёт_NOUN банк_NOUN очередь_NOUN человек_NOUN час_NOUN человек_NOUN работник_NOUN вообщем_ADJ кантор_NOUN банк_NOUN',\n",
       " 'банк_NOUN лиське_PROPN бфло_NOUN человек_NOUN дело_NOUN человек_NOUN пароль_NOUN личный_ADJ кабинет_NOUN вразумительный_ADJ пароль_NOUN бфло_NOUN заити_NOUN саит_ADJ личныи_NOUN кабинет_NOUN телефон_NOUN офис_NOUN оператор_NOUN минута_NOUN течение_NOUN минута_NOUN ожидание_NOUN минута_NOUN банк_NOUN',\n",
       " 'худшии_ADJ банк_NOUN очередь_NOUN мама_NOUN час_NOUN другом_ADJ отделение_NOUN вечер_NOUN клиент_NOUN очередь_NOUN вип_NOUN сервис_NOUN',\n",
       " 'отделение_NOUN приятный_ADJ посещение_NOUN банк_NOUN спам_NOUN звонок_NOUN аферист_NOUN база_NOUN',\n",
       " 'банк_NOUN банкомат_NOUN чудо_NOUN месяц_NOUN касса_NOUN деньга_NOUN карта_NOUN час_NOUN очередь_NOUN здоровый_ADJ',\n",
       " 'сотрудник_NOUN фио_PROPN фото_NOUN тон_NOUN жалобный_ADJ книга_NOUN следующии_PROPN раз_NOUN жалобный_ADJ книга_NOUN высоко_ADJ человек_NOUN банк_NOUN качество_NOUN оказание_NOUN услуга_NOUN',\n",
       " 'очередь_NOUN бабушка_NOUN московский_ADJ область_NOUN ощущение_NOUN какои_NOUN колхоз_NOUN ссср_PROPN сотрудник_NOUN мультфильм_NOUN зверополис_NOUN блиц_NOUN блиц_NOUN скорость_NOUN граница_NOUN отделение_NOUN',\n",
       " 'долгий_ADJ ожидание_NOUN персонал_NOUN раз_NOUN счёт_NOUN',\n",
       " 'расположен_ADJ банкомат_NOUN',\n",
       " 'отзывчивый_ADJ работник_NOUN очередь_NOUN программа_NOUN бизнес_NOUN круг_NOUN ад_NOUN этап_NOUN',\n",
       " 'офис_NOUN улучшение_NOUN единственныи_PROPN город_NOUN наличные_NOUN потребкредиту_NOUN мнои_NOUN человек_NOUN очередь_NOUN сотрудница_NOUN касса_NOUN нужнои_NOUN сумма_NOUN кассе_NOUN очередь_NOUN',\n",
       " 'великолепный_ADJ обслуживание_NOUN отдельный_ADJ благодарность_NOUN анне_PROPN сергеевнои_PROPN куприяхинои_PROPN отзывчивыи_PROPN грамотныи_ADJ специалист_NOUN сторона_NOUN',\n",
       " 'лохотрон_NOUN обращение_NOUN кредит_NOUN услуга_NOUN услугои_NOUN условие_NOUN польза_NOUN банк_NOUN возможность_NOUN металлический_ADJ счёт_NOUN',\n",
       " 'долгий_ADJ ожидание_NOUN небольшой_ADJ количество_NOUN людеи_NOUN',\n",
       " '',\n",
       " 'хороший_ADJ обслуживание_NOUN минус_NOUN маленький_ADJ помещение_NOUN банкомат_NOUN',\n",
       " 'персонал_NOUN невесёлый_ADJ дело_NOUN мрачноватый_ADJ',\n",
       " 'банк_NOUN вежливыи_NOUN персонал_NOUN время_NOUN ожидание_NOUN быстрый_ADJ',\n",
       " 'онлаин_NOUN карта_NOUN втб_PROPN клиент_NOUN карта_NOUN смс_NOUN готовность_NOUN очередь_NOUN общение_NOUN менеджер_NOUN впечатление_NOUN банк_NOUN отдел_NOUN дознание_NOUN вопрос_NOUN итог_NOUN карта_NOUN проверка_NOUN ошибка_NOUN банк_NOUN втб_PROPN',\n",
       " 'маленький_ADJ помещение_NOUN туалет_NOUN поситителеи_NOUN банкомат_NOUN маленькои_NOUN площадь_NOUN постоянный_ADJ очередь_NOUN',\n",
       " 'сотрудник_NOUN очередь_NOUN минута_NOUN',\n",
       " 'банк_NOUN вежливый_ADJ корректный_ADJ обслуживание_NOUN',\n",
       " 'работа_NOUN оператор_NOUN нитолян_PROPN внимательный_ADJ грамотный_ADJ спасибо_NOUN большой_ADJ',\n",
       " 'медленныи_ADJ офис_NOUN клиент_NOUN час_NOUN сотрудник_NOUN остальные_ADJ работа_NOUN очередь_NOUN больший_ADJ ужасныи_NOUN офис_NOUN',\n",
       " 'время_NOUN ожидание_NOUN сотрудник_NOUN',\n",
       " 'пиво_NOUN',\n",
       " 'обслуживание_NOUN хороший_ADJ персонал_NOUN хорошии_NOUN',\n",
       " 'банк_NOUN приятный_ADJ сотрудник_NOUN проблема_NOUN',\n",
       " 'хороший_ADJ быстрый_ADJ обслуживание_NOUN',\n",
       " 'банк_NOUN народ_NOUN',\n",
       " 'ужасный_ADJ долгий_ADJ обслуживание_NOUN электронный_ADJ очередь_NOUN',\n",
       " 'банк_NOUN хорошии_NOUN мобильный_ADJ приложение_NOUN',\n",
       " '',\n",
       " 'сотрудник_NOUN обслуживание_NOUN клиент_NOUN больший_ADJ очередь_NOUN',\n",
       " 'постоянный_ADJ клиент_NOUN работа_NOUN отделение_NOUN банк_NOUN банк_NOUN целое_NOUN вопрос_NOUN претензия_NOUN банк_NOUN вопрос_NOUN карта_NOUN технический_ADJ поддержка_NOUN',\n",
       " 'банкомат_NOUN деньга_NOUN инкассация_NOUN приезд_NOUN час_NOUN',\n",
       " 'сотрудник_NOUN компетентный_ADJ',\n",
       " 'банкомат_NOUN раз_NOUN',\n",
       " 'человек_NOUN хороший_ADJ какои_NOUN пустяковои_PROPN проблема_NOUN очередь_NOUN час_NOUN лишний_ADJ',\n",
       " 'банк_NOUN кредитный_ADJ карта_NOUN саит_PROPN наити_NOUN адрес_NOUN телефон_NOUN шок_NOUN сеня_PROPN нужный_ADJ справка_NOUN фио_NOUN родственник_NOUN миллион_NOUN вопрос_NOUN связь_NOUN оформление_NOUN итог_NOUN пол_NOUN путь_NOUN оформление_NOUN кредитный_ADJ карта_NOUN справка_NOUN ндфл_PROPN куча_NOUN чур_NOUN банк_NOUN оформиликарты_NOUN минута_NOUN первый_ADJ знакомство_NOUN втб_PROPN банк_NOUN людеи_NOUN продукт_NOUN втб_PROPN кредитный_ADJ карта_NOUN втб_PROPN',\n",
       " 'готовый_ADJ дебетовый_ADJ карта_NOUN минута_NOUN операция_NOUN ряд_NOUN фактор_NOUN сложность_NOUN правда_NOUN минута_NOUN ожидание_NOUN специалист_NOUN вопрос_NOUN закрытие_NOUN старый_ADJ счёт_NOUN привязаннои_NOUN карта_NOUN',\n",
       " 'ужасный_ADJ организация_NOUN очередь_NOUN нескончаемый_ADJ медленнои_NOUN работа_NOUN персонал_NOUN работник_NOUN мёртвый_ADJ муха_NOUN час_NOUN карта_NOUN человек_NOUN мин_NOUN остальные_ADJ угол_NOUN угол_NOUN период_NOUN пандемия_NOUN сотрудник_NOUN перчатка_NOUN многоие_PROPN маска_NOUN клиент_NOUN маска_NOUN мера_NOUN персонал_NOUN работа_NOUN быстрый_ADJ обслуживание_NOUN втб_PROPN солнечногорск_PROPN',\n",
       " 'самыи_NOUN долгии_NOUN банк_NOUN обслуживание_NOUN',\n",
       " 'карта_NOUN новыи_PROPN номер_NOUN телефон_NOUN отделение_NOUN талончик_NOUN очередь_NOUN кредит_NOUN банк_NOUN оперативнеи_NOUN',\n",
       " 'сеичас_NOUN офис_NOUN втб_PROPN постоянный_ADJ очередь_NOUN карта_NOUN час_NOUN час_NOUN карта_NOUN минута_NOUN деньга_NOUN кассе_NOUN час_NOUN привилегия_NOUN равный_ADJ отдельнои_NOUN зона_NOUN сонный_ADJ муха_NOUN запах_NOUN котлета_NOUN сбер_NOUN количество_NOUN клиент_NOUN привилегия_NOUN сотрудник_NOUN время_NOUN людеи_NOUN деньга_NOUN звезда_NOUN однои_NOUN',\n",
       " 'целое_NOUN втб_PROPN полный_ADJ днище_NOUN дно_NOUN яма_NOUN плохой_ADJ жизнь_NOUN втб_PROPN отделение_NOUN очередь_NOUN нереальный_ADJ часа_NOUN карта_NOUN втб_PROPN дно_NOUN россия_PROPN',\n",
       " 'нормальныи_ADJ офис_NOUN обычный_ADJ обслуживание_NOUN косяк_NOUN банкомат_NOUN вход_NOUN бесконтактнои_NOUN функция_NOUN вопрос_NOUN',\n",
       " 'путь_NOUN удобный_ADJ вопрос_NOUN девушка_NOUN сотрудник_NOUN дебетовый_ADJ карта_NOUN нюанс_NOUN онлаин_NOUN кабинет_NOUN еи_PROPN удовольствие_NOUN снятие_NOUN деньга_NOUN банкомат_NOUN заковыка_NOUN сотрудница_NOUN',\n",
       " 'целое_NOUN офис_NOUN вопрос_NOUN оценка_NOUN очередь_NOUN мина_NOUN время_NOUN праздник_NOUN утро_NOUN обед_NOUN вечер_NOUN сожаление_NOUN офис_NOUN бумажка_NOUN квартира_NOUN обременение_NOUN москва_PROPN',\n",
       " 'второи_NOUN раз_NOUN смена_NOUN реквизит_NOUN смена_NOUN фамилия_NOUN первыи_PROPN раз_NOUN час_NOUN сотрудник_NOUN вынуждена_ADJ срок_NOUN ожидание_NOUN запредельный_ADJ минута_NOUN',\n",
       " 'большой_ADJ микрораионе_NOUN рекиинцо_NOUN банкомат_NOUN',\n",
       " 'подъезд_NOUN авто_NOUN хороший_ADJ обслуживание_NOUN',\n",
       " 'молодец_NOUN',\n",
       " 'банк_NOUN время_NOUN ожидание_NOUN минута_NOUN банкомат_NOUN евро_NOUN рубль_NOUN доллар_NOUN сотрудник_NOUN касса_NOUN девушка_NOUN общительный_ADJ звезда_NOUN сотрудник_NOUN банк_NOUN бесконтакнои_NOUN система_NOUN доступ_NOUN счёт_NOUN банкомат_NOUN эплл_NOUN пеи_NOUN сбербанк_NOUN',\n",
       " 'отделение_NOUN некомпитентные_ADJ специалист_NOUN всь_PROPN функционал_NOUN карта_NOUN остальным_ADJ вопрос_NOUN знание_NOUN грубыи_PROPN тон_NOUN баранов_PROPN хороший_ADJ отделение_NOUN онт_NOUN день_NOUN заити_NOUN общий_ADJ',\n",
       " 'время_NOUN ожидание_NOUN минута_NOUN сотрудник_NOUN банк_NOUN человек_NOUN равный_ADJ',\n",
       " 'карта_NOUN очередеи_NOUN открытие_NOUN первыи_NOUN',\n",
       " 'данным_ADJ банк_NOUN служба_NOUN ряд_NOUN сила_NOUN сеичас_PROPN альтернатива_NOUN сбербанк_PROPN которыи_PROPN порядок_NOUN поднадоел_NOUN удобный_ADJ очередь_NOUN операционисты_NOUN черепашка_NOUN клиент_NOUN банк_NOUN очередь_NOUN талон_NOUN ресепшен_NOUN вход_NOUN главный_ADJ банкомат_NOUN вечер_NOUN проблема_NOUN карта_NOUN банкомат_NOUN очередь_NOUN',\n",
       " 'технический_ADJ причина_NOUN',\n",
       " '',\n",
       " 'удобный_ADJ компетентный_ADJ менеджер_NOUN',\n",
       " 'хороший_ADJ',\n",
       " 'приведение_NOUN',\n",
       " 'банк_NOUN хорошии_PROPN сотрудник_NOUN',\n",
       " 'обслуживание_NOUN нормальный_ADJ администратор_NOUN нервныи_NOUN нерв_NOUN место_NOUN удобный_ADJ очередь_NOUN банкомат_NOUN',\n",
       " 'консультант_NOUN отношение_NOUN клиент_NOUN проблема_NOUN вид_NOUN филиал_NOUN кошмар_NOUN этои_NOUN проблемои_PROPN горячий_ADJ линия_NOUN неприятный_ADJ воспоминание_NOUN этои_NOUN женщина_NOUN',\n",
       " 'монопилисты_NOUN город_NOUN',\n",
       " 'хорошии_ADJ отзывчивыи_NOUN персонал_NOUN банк_NOUN втб_PROPN своикодекс_NOUN сотрудник_NOUN',\n",
       " 'больший_ADJ очередь_NOUN краинеи_NOUN мера_NOUN обслуживание_NOUN таковому_ADJ претензия_NOUN отличие_NOUN политика_NOUN банк_NOUN область_NOUN отделение_NOUN понятный_ADJ',\n",
       " 'удобный_ADJ банк_NOUN доллар_NOUN банкомат_NOUN',\n",
       " 'ужасный_ADJ долгий_ADJ ожидание_NOUN персонал_NOUN приветливыи_NOUN',\n",
       " '',\n",
       " 'очередь_NOUN привычный_ADJ дело_NOUN банк_NOUN втб_PROPN солнечногорск_PROPN сотрудник_NOUN банк_NOUN каждыи_ADJ раз_NOUN минута_NOUN компетентность_NOUN работник_NOUN банк_NOUN монитор_NOUN желание_NOUN буква_NOUN знакомые_NOUN ореол_NOUN',\n",
       " 'банк_NOUN банк_NOUN очередеи_NOUN',\n",
       " 'народ_NOUN',\n",
       " 'банк_NOUN',\n",
       " 'отличный_ADJ специалист_NOUN',\n",
       " 'быстрый_ADJ обслуживание_NOUN',\n",
       " '',\n",
       " 'хороший_ADJ обслуживание_NOUN грамотный_ADJ консультант_NOUN',\n",
       " 'банк_NOUN втб_PROPN',\n",
       " 'услуга_NOUN лёгкий_ADJ решение_NOUN рецепшн_NOUN',\n",
       " 'копилка_NOUN монета_NOUN комиссия_NOUN такои_NOUN ситуация_NOUN магазин_NOUN рука_NOUN комисси_PROPN',\n",
       " 'вопрос_NOUN карта_NOUN костин_PROPN привет_NOUN общий_ADJ профессионал_NOUN ноль_NOUN клиент_NOUN',\n",
       " 'программа_NOUN час_NOUN грустный_ADJ',\n",
       " 'обслуживание_NOUN отношение_NOUN клиент_NOUN',\n",
       " 'нормальный_ADJ отделение_NOUN сотрудник_NOUN приветливый_ADJ',\n",
       " 'вкладчик_NOUN банк_NOUN деньга_NOUN человек_NOUN квартплата_NOUN банк_NOUN равный_ADJ очередь_NOUN общий_ADJ час_NOUN',\n",
       " 'банк_NOUN друг_NOUN заработный_ADJ плата_NOUN карта_NOUN банк_NOUN',\n",
       " 'вежливый_ADJ обслуживание_NOUN грамотный_ADJ специалист_NOUN',\n",
       " 'вопрос_NOUN правда_NOUN очередь_NOUN народ_NOUN сотрудник_NOUN комп_NOUN',\n",
       " 'отделение_NOUN отделение_NOUN особенный_ADJ персонал_NOUN вежливыи_NOUN зал_NOUN ожидание_NOUN большои_ADJ',\n",
       " 'специалист_NOUN хороший_ADJ грамотный_ADJ предложение_NOUN нормальный_ADJ',\n",
       " 'хороший_ADJ отделение_NOUN втб_PROPN',\n",
       " 'втб_PROPN год_NOUN',\n",
       " 'комфортный_ADJ отделение_NOUN банк_NOUN втб_PROPN москва_PROPN область_NOUN чуткии_NOUN персонал_NOUN осередеи_NOUN клиент_NOUN помещение_NOUN чистота_NOUN',\n",
       " 'отделение_NOUN банк_NOUN город_NOUN',\n",
       " 'хороший_ADJ обслуживание_NOUN банкомат_NOUN ошибка_NOUN',\n",
       " 'обычный_ADJ отделение_NOUN банк_NOUN',\n",
       " 'банк_NOUN вежлевыи_NOUN персонал_NOUN',\n",
       " 'баннк_NOUN банкомат_NOUN персонал_NOUN вопрос_NOUN плохой_ADJ',\n",
       " 'банк_NOUN удобный_ADJ место_NOUN обслуживание_NOUN',\n",
       " 'норма_NOUN',\n",
       " 'банк_NOUN сотрудник_NOUN доброжелательный_ADJ',\n",
       " 'банк_NOUN вежлевыи_NOUN персонал_NOUN',\n",
       " 'ооооочень_NOUN обслуживание_NOUN сотрудник_NOUN компетентный_ADJ',\n",
       " 'персонал_NOUN хамоватый_ADJ менеджер_NOUN банкомат_NOUN вход_NOUN',\n",
       " 'постоянный_ADJ очередь_NOUN внесение_NOUN платежеи_NOUN',\n",
       " '',\n",
       " 'талон_NOUN час_NOUN мнои_NOUN человек_NOUN',\n",
       " '',\n",
       " 'отзывчивыи_NOUN персонал_NOUN',\n",
       " '',\n",
       " 'ньюансов_NOUN',\n",
       " 'надежда_NOUN ресепшн_NOUN',\n",
       " 'вежливыи_NOUN персонал_NOUN',\n",
       " 'отличный_ADJ обслуживание_NOUN',\n",
       " 'сбере_NOUN площадь_NOUN',\n",
       " 'хороший_ADJ обслуживание_NOUN',\n",
       " 'банк_NOUN',\n",
       " 'очередь_NOUN вечный_ADJ',\n",
       " 'ужасный_ADJ отношение_NOUN клиент_NOUN сотрудник_NOUN',\n",
       " 'втб_PROPN уровень_NOUN клиентский_ADJ сервис_NOUN ужасный_ADJ организация_NOUN']"
      ]
     },
     "execution_count": 150,
     "metadata": {},
     "output_type": "execute_result"
    }
   ],
   "source": [
    "corpus_preprocessed"
   ]
  },
  {
   "cell_type": "code",
   "execution_count": 157,
   "metadata": {},
   "outputs": [],
   "source": [
    "from sklearn.decomposition import LatentDirichletAllocation\n",
    "\n",
    "# Определите доминирующие ключевые слова для каждого кластера\n",
    "lda = LatentDirichletAllocation(n_components=20, random_state=42)\n",
    "lda.fit(padded_tensor)\n",
    "len(lda.components_[1])\n",
    "\n",
    "from sklearn.feature_extraction.text import CountVectorizer\n",
    "\n",
    "vectorizer_count = CountVectorizer()\n",
    "X_count_vec = vectorizer_count.fit_transform([i for i in vocab.idx_to_token.values()])"
   ]
  },
  {
   "cell_type": "code",
   "execution_count": 156,
   "metadata": {},
   "outputs": [
    {
     "data": {
      "text/plain": [
       "dict_values(['<pad>', '<unk>', 'чистота_NOUN', 'красавица_NOUN', 'обременение_NOUN', 'сожаление_NOUN', 'офис_NOUN', 'новый_ADJ', 'квартплата_NOUN', 'друг_NOUN', 'приведение_NOUN', 'посещение_NOUN', 'работодатель_NOUN', 'запредельный_ADJ', 'привилегия_NOUN', 'мошенник_NOUN', 'здоровый_ADJ', 'банкомат_NOUN', 'круглосуточный_ADJ', 'возрождение_NOUN', 'беспредел_NOUN', 'получение_NOUN', 'рубль_NOUN', 'удобный_ADJ', 'телефон_NOUN', 'уважаемый_ADJ', 'связь_NOUN', 'готовность_NOUN', 'понятный_ADJ', 'система_NOUN', 'бабушка_NOUN', 'операция_NOUN', 'проблема_NOUN', 'коп_NOUN', 'изумительный_ADJ', 'знакомство_NOUN', 'квартира_NOUN', 'кредитный_ADJ', 'фонд_NOUN', 'оформление_NOUN', 'гриценко_PROPN', 'профессионал_NOUN', 'трудный_ADJ', 'номер_NOUN', 'разный_ADJ', 'особый_ADJ', 'приложение_NOUN', 'впечатление_NOUN', 'быстрый_ADJ', 'снятие_NOUN', 'правда_NOUN', 'девушка_NOUN', 'женщина_NOUN', 'талончик_NOUN', 'благодарность_NOUN', 'карточка_NOUN', 'кадр_NOUN', 'смена_NOUN', 'нормальный_ADJ', 'предупреждение_NOUN', 'расположение_NOUN', 'сумма_NOUN', 'общение_NOUN', 'центральный_ADJ', 'сонный_ADJ', 'условие_NOUN', 'зона_NOUN', 'месяц_NOUN', 'старый_ADJ', 'красный_ADJ', 'база_NOUN', 'бумажка_NOUN', 'хамство_NOUN', 'отдельный_ADJ', 'фио_NOUN', 'работа_NOUN', 'родственник_NOUN', 'отвратительный_ADJ', 'ссср_PROPN', 'мобильный_ADJ', 'качество_NOUN', 'москва_PROPN', 'вид_NOUN', 'магазин_NOUN', 'великолепный_ADJ', 'морозов_PROPN', 'реквизит_NOUN', 'помещение_NOUN', 'сбербанк_NOUN', 'московский_ADJ', 'муха_NOUN', 'сбой_NOUN', 'готовый_ADJ', 'грамотный_ADJ', 'ад_NOUN', 'мнение_NOUN', 'нескончаемый_ADJ', 'целое_NOUN', 'единственный_ADJ', 'филиал_NOUN', 'положительный_ADJ', 'ндфл_PROPN', 'молодец_NOUN', 'течение_NOUN', 'год_NOUN', 'блиц_NOUN', 'такси_NOUN', 'зарплатный_ADJ', 'кредит_NOUN', 'внимательный_ADJ', 'привычный_ADJ', 'сотрудник_NOUN', 'политика_NOUN', 'огромный_ADJ', 'мрачноватый_ADJ', 'этап_NOUN', 'смешной_ADJ', 'минута_NOUN', 'заковыка_NOUN', 'заработный_ADJ', 'услуга_NOUN', 'ощущение_NOUN', 'лёт_NOUN', 'сделка_NOUN', 'порядок_NOUN', 'организация_NOUN', 'пароль_NOUN', 'количество_NOUN', 'пособник_NOUN', 'металлический_ADJ', 'терминал_NOUN', 'закрытие_NOUN', 'зарплата_NOUN', 'круг_NOUN', 'ноль_NOUN', 'девочка_NOUN', 'причина_NOUN', 'дебетовый_ADJ', 'пиво_NOUN', 'функция_NOUN', 'фото_NOUN', 'отзыв_NOUN', 'викторович_PROPN', 'сложность_NOUN', 'перчатка_NOUN', 'атмосфера_NOUN', 'отличие_NOUN', 'психолог_NOUN', 'отдел_NOUN', 'хороший_ADJ', 'отличный_ADJ', 'договор_NOUN', 'паспортный_ADJ', 'общительный_ADJ', 'итог_NOUN', 'плата_NOUN', 'ужасный_ADJ', 'адрес_NOUN', 'город_NOUN', 'доброжелательный_ADJ', 'наличные_NOUN', 'фамилия_NOUN', 'воровство_NOUN', 'кухня_NOUN', 'парковка_NOUN', 'кошмар_NOUN', 'сила_NOUN', 'грустный_ADJ', 'внесение_NOUN', 'служба_NOUN', 'нюанс_NOUN', 'чистка_NOUN', 'пк_PROPN', 'мама_NOUN', 'психушка_NOUN', 'продукт_NOUN', 'поддержка_NOUN', 'решение_NOUN', 'главный_ADJ', 'отделение_NOUN', 'обслуживание_NOUN', 'вклад_NOUN', 'программа_NOUN', 'клиент_NOUN', 'представление_NOUN', 'движение_NOUN', 'короткий_ADJ', 'проверка_NOUN', 'чудо_NOUN', 'дно_NOUN', 'предложение_NOUN', 'продукция_NOUN', 'фигня_NOUN', 'народ_NOUN', 'планшет_NOUN', 'пандемия_NOUN', 'миллион_NOUN', 'яма_NOUN', 'диван_NOUN', 'мера_NOUN', 'книга_NOUN', 'мёртвый_ADJ', 'ореол_NOUN', 'ольга_PROPN', 'спасибо_NOUN', 'час_NOUN', 'кантор_NOUN', 'тактичный_ADJ', 'инвалид_NOUN', 'ноутбук_NOUN', 'комиссия_NOUN', 'карта_NOUN', 'минимум_NOUN', 'улучшение_NOUN', 'срок_NOUN', 'баранов_PROPN', 'человек_NOUN', 'монитор_NOUN', 'копилка_NOUN', 'открытие_NOUN', 'монета_NOUN', 'буква_NOUN', 'очередь_NOUN', 'ожидание_NOUN', 'сбербанк_PROPN', 'документ_NOUN', 'бардак_NOUN', 'технический_ADJ', 'вкладчик_NOUN', 'конкурент_NOUN', 'нужный_ADJ', 'воспоминание_NOUN', 'котлета_NOUN', 'отказ_NOUN', 'норма_NOUN', 'скорость_NOUN', 'обед_NOUN', 'запись_NOUN', 'инкассация_NOUN', 'альтернатива_NOUN', 'вход_NOUN', 'компетентный_ADJ', 'валерия_PROPN', 'корректный_ADJ', 'авто_NOUN', 'солнечногорск_PROPN', 'приятный_ADJ', 'минус_NOUN', 'горячий_ADJ', 'номерок_NOUN', 'окно_NOUN', 'август_NOUN', 'часа_NOUN', 'дознание_NOUN', 'выдача_NOUN', 'большой_ADJ', 'долгий_ADJ', 'площадь_NOUN', 'плохой_ADJ', 'виноватый_ADJ', 'предыдущий_ADJ', 'довольный_ADJ', 'спам_NOUN', 'туалет_NOUN', 'александр_PROPN', 'нереальный_ADJ', 'внимательность_NOUN', 'сторона_NOUN', 'чур_NOUN', 'втб_PROPN', 'рад_ADJ', 'касса_NOUN', 'сильный_ADJ', 'сотрудница_NOUN', 'сервис_NOUN', 'консультант_NOUN', 'лишний_ADJ', 'аппарат_NOUN', 'костин_PROPN', 'черепашка_NOUN', 'подход_NOUN', 'вечер_NOUN', 'смс_NOUN', 'неделя_NOUN', 'угол_NOUN', 'бумага_NOUN', 'человеческий_ADJ', 'вопрос_NOUN', 'надежда_NOUN', 'следующий_ADJ', 'прошлый_ADJ', 'вразумительный_ADJ', 'обычный_ADJ', 'наличие_NOUN', 'постоянный_ADJ', 'раз_NOUN', 'администратор_NOUN', 'доступный_ADJ', 'день_NOUN', 'солнечногорский_ADJ', 'высокий_ADJ', 'персонал_NOUN', 'очередной_ADJ', 'фактор_NOUN', 'полный_ADJ', 'наполненность_NOUN', 'дело_NOUN', 'сеня_PROPN', 'подача_NOUN', 'запах_NOUN', 'мина_NOUN', 'хамоватый_ADJ', 'комфортный_ADJ', 'общий_ADJ', 'нерв_NOUN', 'привет_NOUN', 'место_NOUN', 'ошибка_NOUN', 'праздник_NOUN', 'указание_NOUN', 'большинство_NOUN', 'возможность_NOUN', 'приветливый_ADJ', 'маленький_ADJ', 'верх_NOUN', 'пол_NOUN', 'утро_NOUN', 'особенность_NOUN', 'обращение_NOUN', 'куча_NOUN', 'тон_NOUN', 'премия_NOUN', 'доллар_NOUN', 'компетентность_NOUN', 'уровень_NOUN', 'приезд_NOUN', 'недоверие_NOUN', 'больший_ADJ', 'клиентский_ADJ', 'дама_NOUN', 'первый_ADJ', 'вежливый_ADJ', 'отзывчивый_ADJ', 'оказание_NOUN', 'ряд_NOUN', 'мужчина_NOUN', 'звонок_NOUN', 'уст_NOUN', 'фио_PROPN', 'оборудование_NOUN', 'небольшой_ADJ', 'кассир_NOUN', 'оценка_NOUN', 'равный_ADJ', 'вечный_ADJ', 'банк_NOUN', 'выходной_NOUN', 'колхоз_NOUN', 'справка_NOUN', 'претензия_NOUN', 'доступ_NOUN', 'коллега_NOUN', 'отношение_NOUN', 'россия_PROPN', 'вложение_NOUN', 'заявка_NOUN', 'желание_NOUN', 'банковский_ADJ', 'признательный_ADJ', 'слово_NOUN', 'днище_NOUN', 'подъезд_NOUN', 'высоко_ADJ', 'свободный_ADJ', 'путь_NOUN', 'рука_NOUN', 'деньга_NOUN', 'жалобный_ADJ', 'время_NOUN', 'представитель_NOUN', 'польза_NOUN', 'зал_NOUN', 'звезда_NOUN', 'оператор_NOUN', 'удовольствие_NOUN', 'линия_NOUN', 'комп_NOUN', 'комисси_PROPN', 'косяк_NOUN', 'знание_NOUN', 'век_NOUN', 'консультация_NOUN', 'благодарный_ADJ', 'функционал_NOUN', 'область_NOUN', 'мультфильм_NOUN', 'изнеможение_NOUN', 'волгоград_PROPN', 'пенсионер_NOUN', 'администрация_NOUN', 'высота_NOUN', 'ведомо_NOUN', 'фомин_PROPN', 'задолженность_NOUN', 'средний_ADJ', 'свидание_NOUN', 'кабинет_NOUN', 'бизнес_NOUN', 'граница_NOUN', 'евро_NOUN', 'период_NOUN', 'глаз_NOUN', 'особенный_ADJ', 'шок_NOUN', 'нпф_PROPN', 'имя_NOUN', 'электронный_ADJ', 'жизнь_NOUN', 'опытный_ADJ', 'специалист_NOUN', 'километр_NOUN', 'неприятный_ADJ', 'ситуация_NOUN', 'работник_NOUN', 'личный_ADJ', 'маска_NOUN', 'аферист_NOUN', 'талон_NOUN', 'цифра_NOUN', 'выгодный_ADJ', 'менеджер_NOUN'])"
      ]
     },
     "execution_count": 156,
     "metadata": {},
     "output_type": "execute_result"
    }
   ],
   "source": [
    "vocab.idx_to_token.values()"
   ]
  },
  {
   "cell_type": "code",
   "execution_count": 158,
   "metadata": {},
   "outputs": [
    {
     "name": "stdout",
     "output_type": "stream",
     "text": [
      "Cluster 0: администратор_noun, pad, авто_noun, ад_noun, август_noun\n",
      "Cluster 1: unk, pad, август_noun, авто_noun, ад_noun\n",
      "Cluster 2: unk, адрес_noun, альтернатива_noun, администрация_noun, август_noun\n",
      "Cluster 3: александр_propn, адрес_noun, август_noun, аппарат_noun, pad\n",
      "Cluster 4: unk, аппарат_noun, администратор_noun, альтернатива_noun, адрес_noun\n",
      "Cluster 5: pad, ад_noun, авто_noun, адрес_noun, альтернатива_noun\n",
      "Cluster 6: авто_noun, администрация_noun, август_noun, ад_noun, администратор_noun\n",
      "Cluster 7: ад_noun, август_noun, адрес_noun, pad, администрация_noun\n",
      "Cluster 8: александр_propn, авто_noun, unk, администрация_noun, администратор_noun\n",
      "Cluster 9: адрес_noun, альтернатива_noun, администратор_noun, pad, unk\n",
      "Cluster 10: авто_noun, август_noun, ад_noun, unk, pad\n",
      "Cluster 11: александр_propn, ад_noun, адрес_noun, альтернатива_noun, авто_noun\n",
      "Cluster 12: август_noun, pad, unk, авто_noun, администратор_noun\n",
      "Cluster 13: альтернатива_noun, ад_noun, август_noun, авто_noun, администрация_noun\n",
      "Cluster 14: pad, август_noun, авто_noun, unk, ад_noun\n",
      "Cluster 15: адрес_noun, авто_noun, администратор_noun, unk, аппарат_noun\n",
      "Cluster 16: аппарат_noun, альтернатива_noun, администрация_noun, unk, pad\n",
      "Cluster 17: администрация_noun, ад_noun, администратор_noun, pad, август_noun\n",
      "Cluster 18: аппарат_noun, администратор_noun, август_noun, ад_noun, альтернатива_noun\n",
      "Cluster 19: аппарат_noun, администрация_noun, администратор_noun, адрес_noun, август_noun\n"
     ]
    },
    {
     "name": "stderr",
     "output_type": "stream",
     "text": [
      "/usr/local/lib/python3.10/dist-packages/sklearn/utils/deprecation.py:87: FutureWarning: Function get_feature_names is deprecated; get_feature_names is deprecated in 1.0 and will be removed in 1.2. Please use get_feature_names_out instead.\n",
      "  warnings.warn(msg, category=FutureWarning)\n"
     ]
    }
   ],
   "source": [
    "feature_names = vectorizer_count.get_feature_names()\n",
    "for i, topic in enumerate(lda.components_):\n",
    "    top_words_idx = topic.argsort()[:-6:-1]\n",
    "    # print(top_words_idx)\n",
    "    # print(feature_names)\n",
    "    top_words = [feature_names[i] for i in top_words_idx]\n",
    "    # print(123)\n",
    "    print(f\"Cluster {i}: {', '.join(top_words)}\")"
   ]
  },
  {
   "cell_type": "code",
   "execution_count": null,
   "metadata": {},
   "outputs": [],
   "source": []
  }
 ],
 "metadata": {
  "kernelspec": {
   "display_name": "Python 3",
   "language": "python",
   "name": "python3"
  },
  "language_info": {
   "codemirror_mode": {
    "name": "ipython",
    "version": 3
   },
   "file_extension": ".py",
   "mimetype": "text/x-python",
   "name": "python",
   "nbconvert_exporter": "python",
   "pygments_lexer": "ipython3",
   "version": "3.10.12"
  }
 },
 "nbformat": 4,
 "nbformat_minor": 2
}
